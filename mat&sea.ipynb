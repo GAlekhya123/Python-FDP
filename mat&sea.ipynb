{
 "cells": [
  {
   "cell_type": "code",
   "execution_count": null,
   "metadata": {},
   "outputs": [],
   "source": []
  },
  {
   "cell_type": "markdown",
   "metadata": {},
   "source": [
    "- Data visualization gives us a clear idea of what the information means by giving it visual context through maps or graphs. This makes the data more natural for the human mind to comprehend and therefore makes it easier to identify trends, patterns, and outliers within large data sets."
   ]
  },
  {
   "cell_type": "markdown",
   "metadata": {},
   "source": [
    "### To get a little overview here are a few popular plotting libraries:\n",
    "- Matplotlib: low level, provides lots of freedom\n",
    "- Pandas Visualization: easy to use interface, built on Matplotlib\n",
    "- Seaborn: high-level interface, great default styles\n",
    "- ggplot: based on R’s ggplot2, uses Grammar of Graphics\n",
    "- Plotly: can create interactive plots\n"
   ]
  },
  {
   "cell_type": "markdown",
   "metadata": {},
   "source": [
    "#### Visualization\n",
    "- Matplotlib\n",
    "- Seaborn"
   ]
  },
  {
   "cell_type": "markdown",
   "metadata": {},
   "source": [
    "\n",
    "##### Matplotlib\n",
    "- Matplotlib is one of the library in python used for 2D plotting in Visualization\n",
    "- It is written by John D Hunter in 2003\n",
    "\n",
    "##### Pyplot \n",
    "\n",
    "- Pyplot is a collection of functions. Each function can create a plotting area in figure, plot lines, plot with labels etc."
   ]
  },
  {
   "cell_type": "markdown",
   "metadata": {},
   "source": [
    "##### Types of plotting in matplot\n",
    "- Lines\n",
    "- Bar Chart\n",
    "- Scatter plot\n",
    "- Histogram\n",
    "- Box Plot\n",
    "- Pie chart\n",
    "- How to read an image and how to display the image in matplotlib\n",
    "\n",
    "- How to save the image"
   ]
  },
  {
   "cell_type": "code",
   "execution_count": 1,
   "metadata": {},
   "outputs": [],
   "source": [
    "import numpy as np\n",
    "import matplotlib.pyplot as plt"
   ]
  },
  {
   "cell_type": "markdown",
   "metadata": {},
   "source": [
    "- Line Potting\n",
    "    - plt.plot()"
   ]
  },
  {
   "cell_type": "code",
   "execution_count": 56,
   "metadata": {
    "scrolled": true
   },
   "outputs": [
    {
     "data": {
      "image/png": "[encoded data removed]",
      "text/plain": [
       "<Figure size 432x288 with 1 Axes>"
      ]
     },
     "metadata": {
      "needs_background": "light"
     },
     "output_type": "display_data"
    }
   ],
   "source": [
    "\n",
    "x = np.array([23,12,34,23])\n",
    "y = np.array([45,12,34,23])\n",
    "plt.plot(x,y)\n",
    "plt.show()"
   ]
  },
  {
   "cell_type": "code",
   "execution_count": 57,
   "metadata": {},
   "outputs": [
    {
     "name": "stdout",
     "output_type": "stream",
     "text": [
      "Help on function plot in module matplotlib.pyplot:\n",
      "\n",
      "plot(*args, scalex=True, scaley=True, data=None, **kwargs)\n",
      "    Plot y versus x as lines and/or markers.\n",
      "    \n",
      "    Call signatures::\n",
      "    \n",
      "        plot([x], y, [fmt], data=None, **kwargs)\n",
      "        plot([x], y, [fmt], [x2], y2, [fmt2], ..., **kwargs)\n",
      "    \n",
      "    The coordinates of the points or line nodes are given by *x*, *y*.\n",
      "    \n",
      "    The optional parameter *fmt* is a convenient way for defining basic\n",
      "    formatting like color, marker and linestyle. It's a shortcut string\n",
      "    notation described in the *Notes* section below.\n",
      "    \n",
      "    >>> plot(x, y)        # plot x and y using default line style and color\n",
      "    >>> plot(x, y, 'bo')  # plot x and y using blue circle markers\n",
      "    >>> plot(y)           # plot y using x as index array 0..N-1\n",
      "    >>> plot(y, 'r+')     # ditto, but with red plusses\n",
      "    \n",
      "    You can use `.Line2D` properties as keyword arguments for more\n",
      "    control on the appearance. Line properties and *fmt* can be mixed.\n",
      "    The following two calls yield identical results:\n",
      "    \n",
      "    >>> plot(x, y, 'go--', linewidth=2, markersize=12)\n",
      "    >>> plot(x, y, color='green', marker='o', linestyle='dashed',\n",
      "    ...      linewidth=2, markersize=12)\n",
      "    \n",
      "    When conflicting with *fmt*, keyword arguments take precedence.\n",
      "    \n",
      "    **Plotting labelled data**\n",
      "    \n",
      "    There's a convenient way for plotting objects with labelled data (i.e.\n",
      "    data that can be accessed by index ``obj['y']``). Instead of giving\n",
      "    the data in *x* and *y*, you can provide the object in the *data*\n",
      "    parameter and just give the labels for *x* and *y*::\n",
      "    \n",
      "    >>> plot('xlabel', 'ylabel', data=obj)\n",
      "    \n",
      "    All indexable objects are supported. This could e.g. be a `dict`, a\n",
      "    `pandas.DataFame` or a structured numpy array.\n",
      "    \n",
      "    \n",
      "    **Plotting multiple sets of data**\n",
      "    \n",
      "    There are various ways to plot multiple sets of data.\n",
      "    \n",
      "    - The most straight forward way is just to call `plot` multiple times.\n",
      "      Example:\n",
      "    \n",
      "      >>> plot(x1, y1, 'bo')\n",
      "      >>> plot(x2, y2, 'go')\n",
      "    \n",
      "    - Alternatively, if your data is already a 2d array, you can pass it\n",
      "      directly to *x*, *y*. A separate data set will be drawn for every\n",
      "      column.\n",
      "    \n",
      "      Example: an array ``a`` where the first column represents the *x*\n",
      "      values and the other columns are the *y* columns::\n",
      "    \n",
      "      >>> plot(a[0], a[1:])\n",
      "    \n",
      "    - The third way is to specify multiple sets of *[x]*, *y*, *[fmt]*\n",
      "      groups::\n",
      "    \n",
      "      >>> plot(x1, y1, 'g^', x2, y2, 'g-')\n",
      "    \n",
      "      In this case, any additional keyword argument applies to all\n",
      "      datasets. Also this syntax cannot be combined with the *data*\n",
      "      parameter.\n",
      "    \n",
      "    By default, each line is assigned a different style specified by a\n",
      "    'style cycle'. The *fmt* and line property parameters are only\n",
      "    necessary if you want explicit deviations from these defaults.\n",
      "    Alternatively, you can also change the style cycle using the\n",
      "    'axes.prop_cycle' rcParam.\n",
      "    \n",
      "    Parameters\n",
      "    ----------\n",
      "    x, y : array-like or scalar\n",
      "        The horizontal / vertical coordinates of the data points.\n",
      "        *x* values are optional. If not given, they default to\n",
      "        ``[0, ..., N-1]``.\n",
      "    \n",
      "        Commonly, these parameters are arrays of length N. However,\n",
      "        scalars are supported as well (equivalent to an array with\n",
      "        constant value).\n",
      "    \n",
      "        The parameters can also be 2-dimensional. Then, the columns\n",
      "        represent separate data sets.\n",
      "    \n",
      "    fmt : str, optional\n",
      "        A format string, e.g. 'ro' for red circles. See the *Notes*\n",
      "        section for a full description of the format strings.\n",
      "    \n",
      "        Format strings are just an abbreviation for quickly setting\n",
      "        basic line properties. All of these and more can also be\n",
      "        controlled by keyword arguments.\n",
      "    \n",
      "    data : indexable object, optional\n",
      "        An object with labelled data. If given, provide the label names to\n",
      "        plot in *x* and *y*.\n",
      "    \n",
      "        .. note::\n",
      "            Technically there's a slight ambiguity in calls where the\n",
      "            second label is a valid *fmt*. `plot('n', 'o', data=obj)`\n",
      "            could be `plt(x, y)` or `plt(y, fmt)`. In such cases,\n",
      "            the former interpretation is chosen, but a warning is issued.\n",
      "            You may suppress the warning by adding an empty format string\n",
      "            `plot('n', 'o', '', data=obj)`.\n",
      "    \n",
      "    \n",
      "    Other Parameters\n",
      "    ----------------\n",
      "    scalex, scaley : bool, optional, default: True\n",
      "        These parameters determined if the view limits are adapted to\n",
      "        the data limits. The values are passed on to `autoscale_view`.\n",
      "    \n",
      "    **kwargs : `.Line2D` properties, optional\n",
      "        *kwargs* are used to specify properties like a line label (for\n",
      "        auto legends), linewidth, antialiasing, marker face color.\n",
      "        Example::\n",
      "    \n",
      "        >>> plot([1,2,3], [1,2,3], 'go-', label='line 1', linewidth=2)\n",
      "        >>> plot([1,2,3], [1,4,9], 'rs',  label='line 2')\n",
      "    \n",
      "        If you make multiple lines with one plot command, the kwargs\n",
      "        apply to all those lines.\n",
      "    \n",
      "        Here is a list of available `.Line2D` properties:\n",
      "    \n",
      "          agg_filter: a filter function, which takes a (m, n, 3) float array and a dpi value, and returns a (m, n, 3) array \n",
      "      alpha: float\n",
      "      animated: bool\n",
      "      antialiased: bool\n",
      "      clip_box: `.Bbox`\n",
      "      clip_on: bool\n",
      "      clip_path: [(`~matplotlib.path.Path`, `.Transform`) | `.Patch` | None] \n",
      "      color: color\n",
      "      contains: callable\n",
      "      dash_capstyle: {'butt', 'round', 'projecting'}\n",
      "      dash_joinstyle: {'miter', 'round', 'bevel'}\n",
      "      dashes: sequence of floats (on/off ink in points) or (None, None)\n",
      "      drawstyle: {'default', 'steps', 'steps-pre', 'steps-mid', 'steps-post'}\n",
      "      figure: `.Figure`\n",
      "      fillstyle: {'full', 'left', 'right', 'bottom', 'top', 'none'}\n",
      "      gid: str\n",
      "      in_layout: bool\n",
      "      label: object\n",
      "      linestyle: {'-', '--', '-.', ':', '', (offset, on-off-seq), ...}\n",
      "      linewidth: float\n",
      "      marker: unknown\n",
      "      markeredgecolor: color\n",
      "      markeredgewidth: float\n",
      "      markerfacecolor: color\n",
      "      markerfacecoloralt: color\n",
      "      markersize: float\n",
      "      markevery: unknown\n",
      "      path_effects: `.AbstractPathEffect`\n",
      "      picker: float or callable[[Artist, Event], Tuple[bool, dict]]\n",
      "      pickradius: float\n",
      "      rasterized: bool or None\n",
      "      sketch_params: (scale: float, length: float, randomness: float) \n",
      "      snap: bool or None\n",
      "      solid_capstyle: {'butt', 'round', 'projecting'}\n",
      "      solid_joinstyle: {'miter', 'round', 'bevel'}\n",
      "      transform: matplotlib.transforms.Transform\n",
      "      url: str\n",
      "      visible: bool\n",
      "      xdata: 1D array\n",
      "      ydata: 1D array\n",
      "      zorder: float\n",
      "    \n",
      "    Returns\n",
      "    -------\n",
      "    lines\n",
      "        A list of `.Line2D` objects representing the plotted data.\n",
      "    \n",
      "    \n",
      "    See Also\n",
      "    --------\n",
      "    scatter : XY scatter plot with markers of varying size and/or color (\n",
      "        sometimes also called bubble chart).\n",
      "    \n",
      "    \n",
      "    Notes\n",
      "    -----\n",
      "    **Format Strings**\n",
      "    \n",
      "    A format string consists of a part for color, marker and line::\n",
      "    \n",
      "        fmt = '[color][marker][line]'\n",
      "    \n",
      "    Each of them is optional. If not provided, the value from the style\n",
      "    cycle is used. Exception: If ``line`` is given, but no ``marker``,\n",
      "    the data will be a line without markers.\n",
      "    \n",
      "    **Colors**\n",
      "    \n",
      "    The following color abbreviations are supported:\n",
      "    \n",
      "    =============    ===============================\n",
      "    character        color\n",
      "    =============    ===============================\n",
      "    ``'b'``          blue\n",
      "    ``'g'``          green\n",
      "    ``'r'``          red\n",
      "    ``'c'``          cyan\n",
      "    ``'m'``          magenta\n",
      "    ``'y'``          yellow\n",
      "    ``'k'``          black\n",
      "    ``'w'``          white\n",
      "    =============    ===============================\n",
      "    \n",
      "    If the color is the only part of the format string, you can\n",
      "    additionally use any  `matplotlib.colors` spec, e.g. full names\n",
      "    (``'green'``) or hex strings (``'#008000'``).\n",
      "    \n",
      "    **Markers**\n",
      "    \n",
      "    =============    ===============================\n",
      "    character        description\n",
      "    =============    ===============================\n",
      "    ``'.'``          point marker\n",
      "    ``','``          pixel marker\n",
      "    ``'o'``          circle marker\n",
      "    ``'v'``          triangle_down marker\n",
      "    ``'^'``          triangle_up marker\n",
      "    ``'<'``          triangle_left marker\n",
      "    ``'>'``          triangle_right marker\n",
      "    ``'1'``          tri_down marker\n",
      "    ``'2'``          tri_up marker\n",
      "    ``'3'``          tri_left marker\n",
      "    ``'4'``          tri_right marker\n",
      "    ``'s'``          square marker\n",
      "    ``'p'``          pentagon marker\n",
      "    ``'*'``          star marker\n",
      "    ``'h'``          hexagon1 marker\n",
      "    ``'H'``          hexagon2 marker\n",
      "    ``'+'``          plus marker\n",
      "    ``'x'``          x marker\n",
      "    ``'D'``          diamond marker\n",
      "    ``'d'``          thin_diamond marker\n",
      "    ``'|'``          vline marker\n",
      "    ``'_'``          hline marker\n",
      "    =============    ===============================\n",
      "    \n",
      "    **Line Styles**\n",
      "    \n",
      "    =============    ===============================\n",
      "    character        description\n",
      "    =============    ===============================\n",
      "    ``'-'``          solid line style\n",
      "    ``'--'``         dashed line style\n",
      "    ``'-.'``         dash-dot line style\n",
      "    ``':'``          dotted line style\n",
      "    =============    ===============================\n",
      "    \n",
      "    Example format strings::\n",
      "    \n",
      "        'b'    # blue markers with default shape\n",
      "        'ro'   # red circles\n",
      "        'g-'   # green solid line\n",
      "        '--'   # dashed line with default color\n",
      "        'k^:'  # black triangle_up markers connected by a dotted line\n",
      "    \n",
      "    .. note::\n",
      "        In addition to the above described arguments, this function can take a\n",
      "        **data** keyword argument. If such a **data** argument is given, the\n",
      "        following arguments are replaced by **data[<arg>]**:\n",
      "    \n",
      "        * All arguments with the following names: 'x', 'y'.\n",
      "    \n",
      "        Objects passed as **data** must support item access (``data[<arg>]``) and\n",
      "        membership test (``<arg> in data``).\n",
      "\n"
     ]
    }
   ],
   "source": [
    "help(plt.plot)"
   ]
  },
  {
   "cell_type": "code",
   "execution_count": 2,
   "metadata": {
    "scrolled": true
   },
   "outputs": [
    {
     "data": {
      "image/png": "[encoded data removed]",
      "text/plain": [
       "<Figure size 432x288 with 1 Axes>"
      ]
     },
     "metadata": {
      "needs_background": "light"
     },
     "output_type": "display_data"
    }
   ],
   "source": [
    "x_axes = [1,2,3,4]\n",
    "y_axes = [1,4,6,8]\n",
    "plt.plot(x_axes,y_axes,'g')\n",
    "plt.show()"
   ]
  },
  {
   "cell_type": "code",
   "execution_count": 55,
   "metadata": {},
   "outputs": [
    {
     "data": {
      "text/plain": [
       "[<matplotlib.lines.Line2D at 0x1efb78ffcf8>]"
      ]
     },
     "execution_count": 55,
     "metadata": {},
     "output_type": "execute_result"
    },
    {
     "data": {
      "image/png": "[encoded data removed]",
      "text/plain": [
       "<Figure size 432x288 with 1 Axes>"
      ]
     },
     "metadata": {
      "needs_background": "light"
     },
     "output_type": "display_data"
    }
   ],
   "source": [
    "plt.plot(x_axes,y_axes,\"c*\")"
   ]
  },
  {
   "cell_type": "code",
   "execution_count": 4,
   "metadata": {
    "scrolled": true
   },
   "outputs": [
    {
     "data": {
      "image/png": "[encoded data removed]",
      "text/plain": [
       "<Figure size 432x288 with 1 Axes>"
      ]
     },
     "metadata": {
      "needs_background": "light"
     },
     "output_type": "display_data"
    }
   ],
   "source": [
    "x_axes = [1,2,3,4]\n",
    "y_axes = [1,4,6,8]\n",
    "plt.plot(x_axes,y_axes,'g')\n",
    "plt.xlabel('X Axes')\n",
    "plt.ylabel('Y Axes')\n",
    "plt.title('Line')\n",
    "plt.show()"
   ]
  },
  {
   "cell_type": "code",
   "execution_count": 94,
   "metadata": {},
   "outputs": [
    {
     "data": {
      "text/plain": [
       "array([0.        , 0.22222222, 0.44444444, 0.66666667, 0.88888889,\n",
       "       1.11111111, 1.33333333, 1.55555556, 1.77777778, 2.        ])"
      ]
     },
     "execution_count": 94,
     "metadata": {},
     "output_type": "execute_result"
    }
   ],
   "source": [
    "x = np.linspace(0,2,10)\n",
    "x"
   ]
  },
  {
   "cell_type": "code",
   "execution_count": 96,
   "metadata": {},
   "outputs": [
    {
     "data": {
      "text/plain": [
       "<matplotlib.legend.Legend at 0x1efb8c7a6d8>"
      ]
     },
     "execution_count": 96,
     "metadata": {},
     "output_type": "execute_result"
    },
    {
     "data": {
      "image/png": "[encoded data removed]",
      "text/plain": [
       "<Figure size 432x288 with 1 Axes>"
      ]
     },
     "metadata": {
      "needs_background": "light"
     },
     "output_type": "display_data"
    }
   ],
   "source": [
    "plt.plot(x, x, label = 'Line')\n",
    "plt.plot(x, x**2, label = 'Square')\n",
    "plt.legend(loc = 'upper right')\n"
   ]
  },
  {
   "cell_type": "code",
   "execution_count": 9,
   "metadata": {
    "collapsed": true
   },
   "outputs": [
    {
     "name": "stdout",
     "output_type": "stream",
     "text": [
      "Help on function legend in module matplotlib.pyplot:\n",
      "\n",
      "legend(*args, **kwargs)\n",
      "    Place a legend on the axes.\n",
      "    \n",
      "    Call signatures::\n",
      "    \n",
      "        legend()\n",
      "        legend(labels)\n",
      "        legend(handles, labels)\n",
      "    \n",
      "    The call signatures correspond to three different ways how to use\n",
      "    this method.\n",
      "    \n",
      "    **1. Automatic detection of elements to be shown in the legend**\n",
      "    \n",
      "    The elements to be added to the legend are automatically determined,\n",
      "    when you do not pass in any extra arguments.\n",
      "    \n",
      "    In this case, the labels are taken from the artist. You can specify\n",
      "    them either at artist creation or by calling the\n",
      "    :meth:`~.Artist.set_label` method on the artist::\n",
      "    \n",
      "        line, = ax.plot([1, 2, 3], label='Inline label')\n",
      "        ax.legend()\n",
      "    \n",
      "    or::\n",
      "    \n",
      "        line.set_label('Label via method')\n",
      "        line, = ax.plot([1, 2, 3])\n",
      "        ax.legend()\n",
      "    \n",
      "    Specific lines can be excluded from the automatic legend element\n",
      "    selection by defining a label starting with an underscore.\n",
      "    This is default for all artists, so calling `Axes.legend` without\n",
      "    any arguments and without setting the labels manually will result in\n",
      "    no legend being drawn.\n",
      "    \n",
      "    \n",
      "    **2. Labeling existing plot elements**\n",
      "    \n",
      "    To make a legend for lines which already exist on the axes\n",
      "    (via plot for instance), simply call this function with an iterable\n",
      "    of strings, one for each legend item. For example::\n",
      "    \n",
      "        ax.plot([1, 2, 3])\n",
      "        ax.legend(['A simple line'])\n",
      "    \n",
      "    Note: This way of using is discouraged, because the relation between\n",
      "    plot elements and labels is only implicit by their order and can\n",
      "    easily be mixed up.\n",
      "    \n",
      "    \n",
      "    **3. Explicitly defining the elements in the legend**\n",
      "    \n",
      "    For full control of which artists have a legend entry, it is possible\n",
      "    to pass an iterable of legend artists followed by an iterable of\n",
      "    legend labels respectively::\n",
      "    \n",
      "        legend((line1, line2, line3), ('label1', 'label2', 'label3'))\n",
      "    \n",
      "    Parameters\n",
      "    ----------\n",
      "    \n",
      "    handles : sequence of `.Artist`, optional\n",
      "        A list of Artists (lines, patches) to be added to the legend.\n",
      "        Use this together with *labels*, if you need full control on what\n",
      "        is shown in the legend and the automatic mechanism described above\n",
      "        is not sufficient.\n",
      "    \n",
      "        The length of handles and labels should be the same in this\n",
      "        case. If they are not, they are truncated to the smaller length.\n",
      "    \n",
      "    labels : sequence of strings, optional\n",
      "        A list of labels to show next to the artists.\n",
      "        Use this together with *handles*, if you need full control on what\n",
      "        is shown in the legend and the automatic mechanism described above\n",
      "        is not sufficient.\n",
      "    \n",
      "    Other Parameters\n",
      "    ----------------\n",
      "    \n",
      "    \n",
      "    loc : int or string or pair of floats, default: :rc:`legend.loc` ('best' for axes, 'upper right' for figures)\n",
      "        The location of the legend. Possible codes are:\n",
      "    \n",
      "            ===============   =============\n",
      "            Location String   Location Code\n",
      "            ===============   =============\n",
      "            'best'            0\n",
      "            'upper right'     1\n",
      "            'upper left'      2\n",
      "            'lower left'      3\n",
      "            'lower right'     4\n",
      "            'right'           5\n",
      "            'center left'     6\n",
      "            'center right'    7\n",
      "            'lower center'    8\n",
      "            'upper center'    9\n",
      "            'center'          10\n",
      "            ===============   =============\n",
      "    \n",
      "    \n",
      "        Alternatively can be a 2-tuple giving ``x, y`` of the lower-left\n",
      "        corner of the legend in axes coordinates (in which case\n",
      "        ``bbox_to_anchor`` will be ignored).\n",
      "    \n",
      "        The 'best' option can be quite slow for plots with large amounts\n",
      "        of data. Your plotting speed may benefit from providing a specific\n",
      "        location.\n",
      "    \n",
      "    bbox_to_anchor : `.BboxBase`, 2-tuple, or 4-tuple of floats\n",
      "        Box that is used to position the legend in conjunction with *loc*.\n",
      "        Defaults to `axes.bbox` (if called as a method to `.Axes.legend`) or\n",
      "        `figure.bbox` (if `.Figure.legend`).  This argument allows arbitrary\n",
      "        placement of the legend.\n",
      "    \n",
      "        Bbox coordinates are interpreted in the coordinate system given by\n",
      "        `bbox_transform`, with the default transform\n",
      "        Axes or Figure coordinates, depending on which ``legend`` is called.\n",
      "    \n",
      "        If a 4-tuple or `.BboxBase` is given, then it specifies the bbox\n",
      "        ``(x, y, width, height)`` that the legend is placed in.\n",
      "        To put the legend in the best location in the bottom right\n",
      "        quadrant of the axes (or figure)::\n",
      "    \n",
      "            loc='best', bbox_to_anchor=(0.5, 0., 0.5, 0.5)\n",
      "    \n",
      "        A 2-tuple ``(x, y)`` places the corner of the legend specified by *loc* at\n",
      "        x, y.  For example, to put the legend's upper right-hand corner in the\n",
      "        center of the axes (or figure) the following keywords can be used::\n",
      "    \n",
      "            loc='upper right', bbox_to_anchor=(0.5, 0.5)\n",
      "    \n",
      "    ncol : integer\n",
      "        The number of columns that the legend has. Default is 1.\n",
      "    \n",
      "    prop : None or :class:`matplotlib.font_manager.FontProperties` or dict\n",
      "        The font properties of the legend. If None (default), the current\n",
      "        :data:`matplotlib.rcParams` will be used.\n",
      "    \n",
      "    fontsize : int or float or {'xx-small', 'x-small', 'small', 'medium', 'large', 'x-large', 'xx-large'}\n",
      "        Controls the font size of the legend. If the value is numeric the\n",
      "        size will be the absolute font size in points. String values are\n",
      "        relative to the current default font size. This argument is only\n",
      "        used if `prop` is not specified.\n",
      "    \n",
      "    numpoints : None or int\n",
      "        The number of marker points in the legend when creating a legend\n",
      "        entry for a `.Line2D` (line).\n",
      "        Default is ``None``, which will take the value from\n",
      "        :rc:`legend.numpoints`.\n",
      "    \n",
      "    scatterpoints : None or int\n",
      "        The number of marker points in the legend when creating\n",
      "        a legend entry for a `.PathCollection` (scatter plot).\n",
      "        Default is ``None``, which will take the value from\n",
      "        :rc:`legend.scatterpoints`.\n",
      "    \n",
      "    scatteryoffsets : iterable of floats\n",
      "        The vertical offset (relative to the font size) for the markers\n",
      "        created for a scatter plot legend entry. 0.0 is at the base the\n",
      "        legend text, and 1.0 is at the top. To draw all markers at the\n",
      "        same height, set to ``[0.5]``. Default is ``[0.375, 0.5, 0.3125]``.\n",
      "    \n",
      "    markerscale : None or int or float\n",
      "        The relative size of legend markers compared with the originally\n",
      "        drawn ones.\n",
      "        Default is ``None``, which will take the value from\n",
      "        :rc:`legend.markerscale`.\n",
      "    \n",
      "    markerfirst : bool\n",
      "        If *True*, legend marker is placed to the left of the legend label.\n",
      "        If *False*, legend marker is placed to the right of the legend\n",
      "        label.\n",
      "        Default is *True*.\n",
      "    \n",
      "    frameon : None or bool\n",
      "        Control whether the legend should be drawn on a patch\n",
      "        (frame).\n",
      "        Default is ``None``, which will take the value from\n",
      "        :rc:`legend.frameon`.\n",
      "    \n",
      "    fancybox : None or bool\n",
      "        Control whether round edges should be enabled around the\n",
      "        :class:`~matplotlib.patches.FancyBboxPatch` which makes up the\n",
      "        legend's background.\n",
      "        Default is ``None``, which will take the value from\n",
      "        :rc:`legend.fancybox`.\n",
      "    \n",
      "    shadow : None or bool\n",
      "        Control whether to draw a shadow behind the legend.\n",
      "        Default is ``None``, which will take the value from\n",
      "        :rc:`legend.shadow`.\n",
      "    \n",
      "    framealpha : None or float\n",
      "        Control the alpha transparency of the legend's background.\n",
      "        Default is ``None``, which will take the value from\n",
      "        :rc:`legend.framealpha`.  If shadow is activated and\n",
      "        *framealpha* is ``None``, the default value is ignored.\n",
      "    \n",
      "    facecolor : None or \"inherit\" or a color spec\n",
      "        Control the legend's background color.\n",
      "        Default is ``None``, which will take the value from\n",
      "        :rc:`legend.facecolor`.  If ``\"inherit\"``, it will take\n",
      "        :rc:`axes.facecolor`.\n",
      "    \n",
      "    edgecolor : None or \"inherit\" or a color spec\n",
      "        Control the legend's background patch edge color.\n",
      "        Default is ``None``, which will take the value from\n",
      "        :rc:`legend.edgecolor` If ``\"inherit\"``, it will take\n",
      "        :rc:`axes.edgecolor`.\n",
      "    \n",
      "    mode : {\"expand\", None}\n",
      "        If `mode` is set to ``\"expand\"`` the legend will be horizontally\n",
      "        expanded to fill the axes area (or `bbox_to_anchor` if defines\n",
      "        the legend's size).\n",
      "    \n",
      "    bbox_transform : None or :class:`matplotlib.transforms.Transform`\n",
      "        The transform for the bounding box (`bbox_to_anchor`). For a value\n",
      "        of ``None`` (default) the Axes'\n",
      "        :data:`~matplotlib.axes.Axes.transAxes` transform will be used.\n",
      "    \n",
      "    title : str or None\n",
      "        The legend's title. Default is no title (``None``).\n",
      "    \n",
      "    title_fontsize: str or None\n",
      "        The fontsize of the legend's title.  Default is the default fontsize.\n",
      "    \n",
      "    borderpad : float or None\n",
      "        The fractional whitespace inside the legend border.\n",
      "        Measured in font-size units.\n",
      "        Default is ``None``, which will take the value from\n",
      "        :rc:`legend.borderpad`.\n",
      "    \n",
      "    labelspacing : float or None\n",
      "        The vertical space between the legend entries.\n",
      "        Measured in font-size units.\n",
      "        Default is ``None``, which will take the value from\n",
      "        :rc:`legend.labelspacing`.\n",
      "    \n",
      "    handlelength : float or None\n",
      "        The length of the legend handles.\n",
      "        Measured in font-size units.\n",
      "        Default is ``None``, which will take the value from\n",
      "        :rc:`legend.handlelength`.\n",
      "    \n",
      "    handletextpad : float or None\n",
      "        The pad between the legend handle and text.\n",
      "        Measured in font-size units.\n",
      "        Default is ``None``, which will take the value from\n",
      "        :rc:`legend.handletextpad`.\n",
      "    \n",
      "    borderaxespad : float or None\n",
      "        The pad between the axes and legend border.\n",
      "        Measured in font-size units.\n",
      "        Default is ``None``, which will take the value from\n",
      "        :rc:`legend.borderaxespad`.\n",
      "    \n",
      "    columnspacing : float or None\n",
      "        The spacing between columns.\n",
      "        Measured in font-size units.\n",
      "        Default is ``None``, which will take the value from\n",
      "        :rc:`legend.columnspacing`.\n",
      "    \n",
      "    handler_map : dict or None\n",
      "        The custom dictionary mapping instances or types to a legend\n",
      "        handler. This `handler_map` updates the default handler map\n",
      "        found at :func:`matplotlib.legend.Legend.get_legend_handler_map`.\n",
      "    \n",
      "    \n",
      "    \n",
      "    Returns\n",
      "    -------\n",
      "    \n",
      "    :class:`matplotlib.legend.Legend` instance\n",
      "    \n",
      "    Notes\n",
      "    -----\n",
      "    \n",
      "    Not all kinds of artist are supported by the legend command. See\n",
      "    :doc:`/tutorials/intermediate/legend_guide` for details.\n",
      "    \n",
      "    Examples\n",
      "    --------\n",
      "    \n",
      "    .. plot:: gallery/text_labels_and_annotations/legend.py\n",
      "\n"
     ]
    }
   ],
   "source": [
    "help(plt.legend)"
   ]
  },
  {
   "cell_type": "code",
   "execution_count": 15,
   "metadata": {},
   "outputs": [
    {
     "data": {
      "text/plain": [
       "([<matplotlib.axis.YTick at 0x1efb5fa3d68>,\n",
       "  <matplotlib.axis.YTick at 0x1efb5fa3668>,\n",
       "  <matplotlib.axis.YTick at 0x1efb5f8db38>,\n",
       "  <matplotlib.axis.YTick at 0x1efb5fc5198>],\n",
       " <a list of 4 Text yticklabel objects>)"
      ]
     },
     "execution_count": 15,
     "metadata": {},
     "output_type": "execute_result"
    },
    {
     "data": {
      "image/png": "[encoded data removed]",
      "text/plain": [
       "<Figure size 432x288 with 1 Axes>"
      ]
     },
     "metadata": {
      "needs_background": "light"
     },
     "output_type": "display_data"
    }
   ],
   "source": [
    "plt.xticks([2,4,6,8])\n",
    "plt.yticks([2,4,6,8])"
   ]
  },
  {
   "cell_type": "code",
   "execution_count": 16,
   "metadata": {
    "scrolled": true
   },
   "outputs": [
    {
     "name": "stdout",
     "output_type": "stream",
     "text": [
      "Help on function xticks in module matplotlib.pyplot:\n",
      "\n",
      "xticks(ticks=None, labels=None, **kwargs)\n",
      "    Get or set the current tick locations and labels of the x-axis.\n",
      "    \n",
      "    Call signatures::\n",
      "    \n",
      "        locs, labels = xticks()           # Get locations and labels\n",
      "    \n",
      "        xticks(ticks, [labels], **kwargs)  # Set locations and labels\n",
      "    \n",
      "    Parameters\n",
      "    ----------\n",
      "    ticks : array_like\n",
      "        A list of positions at which ticks should be placed. You can pass an\n",
      "        empty list to disable xticks.\n",
      "    \n",
      "    labels : array_like, optional\n",
      "        A list of explicit labels to place at the given *locs*.\n",
      "    \n",
      "    **kwargs\n",
      "        :class:`.Text` properties can be used to control the appearance of\n",
      "        the labels.\n",
      "    \n",
      "    Returns\n",
      "    -------\n",
      "    locs\n",
      "        An array of label locations.\n",
      "    labels\n",
      "        A list of `.Text` objects.\n",
      "    \n",
      "    Notes\n",
      "    -----\n",
      "    Calling this function with no arguments (e.g. ``xticks()``) is the pyplot\n",
      "    equivalent of calling `~.Axes.get_xticks` and `~.Axes.get_xticklabels` on\n",
      "    the current axes.\n",
      "    Calling this function with arguments is the pyplot equivalent of calling\n",
      "    `~.Axes.set_xticks` and `~.Axes.set_xticklabels` on the current axes.\n",
      "    \n",
      "    Examples\n",
      "    --------\n",
      "    Get the current locations and labels:\n",
      "    \n",
      "        >>> locs, labels = xticks()\n",
      "    \n",
      "    Set label locations:\n",
      "    \n",
      "        >>> xticks(np.arange(0, 1, step=0.2))\n",
      "    \n",
      "    Set text labels:\n",
      "    \n",
      "        >>> xticks(np.arange(5), ('Tom', 'Dick', 'Harry', 'Sally', 'Sue'))\n",
      "    \n",
      "    Set text labels and properties:\n",
      "    \n",
      "        >>> xticks(np.arange(12), calendar.month_name[1:13], rotation=20)\n",
      "    \n",
      "    Disable xticks:\n",
      "    \n",
      "        >>> xticks([])\n",
      "\n"
     ]
    }
   ],
   "source": [
    "help(plt.xticks)"
   ]
  },
  {
   "cell_type": "code",
   "execution_count": 18,
   "metadata": {
    "collapsed": true
   },
   "outputs": [
    {
     "data": {
      "text/plain": [
       "([<matplotlib.axis.XTick at 0x1efb5feb668>,\n",
       "  <matplotlib.axis.XTick at 0x1efb5feb400>,\n",
       "  <matplotlib.axis.XTick at 0x1efb5feb2e8>,\n",
       "  <matplotlib.axis.XTick at 0x1efb6008320>,\n",
       "  <matplotlib.axis.XTick at 0x1efb6008828>],\n",
       " <a list of 5 Text xticklabel objects>)"
      ]
     },
     "execution_count": 18,
     "metadata": {},
     "output_type": "execute_result"
    },
    {
     "data": {
      "image/png": "[encoded data removed]",
      "text/plain": [
       "<Figure size 432x288 with 1 Axes>"
      ]
     },
     "metadata": {
      "needs_background": "light"
     },
     "output_type": "display_data"
    }
   ],
   "source": [
    "plt.xticks(np.arange(5), ('Tom', 'Dick', 'Harry', 'Sally', 'Sue'))"
   ]
  },
  {
   "cell_type": "code",
   "execution_count": 20,
   "metadata": {},
   "outputs": [
    {
     "data": {
      "text/plain": [
       "([<matplotlib.axis.XTick at 0x1efb6038c50>,\n",
       "  <matplotlib.axis.XTick at 0x1efb6038550>,\n",
       "  <matplotlib.axis.XTick at 0x1efb60382b0>,\n",
       "  <matplotlib.axis.XTick at 0x1efb5ef81d0>,\n",
       "  <matplotlib.axis.XTick at 0x1efb5ebafd0>],\n",
       " <a list of 5 Text xticklabel objects>)"
      ]
     },
     "execution_count": 20,
     "metadata": {},
     "output_type": "execute_result"
    },
    {
     "data": {
      "image/png": "[encoded data removed]",
      "text/plain": [
       "<Figure size 432x288 with 1 Axes>"
      ]
     },
     "metadata": {
      "needs_background": "light"
     },
     "output_type": "display_data"
    }
   ],
   "source": [
    " plt.xticks(np.arange(0, 1, step=0.2))"
   ]
  },
  {
   "cell_type": "markdown",
   "metadata": {},
   "source": []
  },
  {
   "cell_type": "code",
   "execution_count": null,
   "metadata": {},
   "outputs": [],
   "source": []
  },
  {
   "cell_type": "code",
   "execution_count": null,
   "metadata": {},
   "outputs": [],
   "source": []
  },
  {
   "cell_type": "markdown",
   "metadata": {},
   "source": [
    "- Subplots:\n",
    " - plt.subplots(row,column,position)"
   ]
  },
  {
   "cell_type": "code",
   "execution_count": 58,
   "metadata": {},
   "outputs": [
    {
     "data": {
      "image/png": "[encoded data removed]",
      "text/plain": [
       "<Figure size 432x288 with 4 Axes>"
      ]
     },
     "metadata": {
      "needs_background": "light"
     },
     "output_type": "display_data"
    }
   ],
   "source": [
    "\n",
    "plt.subplots(2,2) # 2 rows and 2 columns\n",
    "plt.show()"
   ]
  },
  {
   "cell_type": "code",
   "execution_count": 59,
   "metadata": {},
   "outputs": [
    {
     "data": {
      "text/plain": [
       "[<matplotlib.lines.Line2D at 0x1efb7b6fc18>]"
      ]
     },
     "execution_count": 59,
     "metadata": {},
     "output_type": "execute_result"
    },
    {
     "data": {
      "image/png": "[encoded data removed]",
      "text/plain": [
       "<Figure size 432x288 with 4 Axes>"
      ]
     },
     "metadata": {
      "needs_background": "light"
     },
     "output_type": "display_data"
    }
   ],
   "source": [
    "x = np.array([12,23,34,56,78])\n",
    "y = np.array([13,24,56,78,73])\n",
    "plt.subplot(2,2,1)\n",
    "plt.plot(x,y,\"r*\")\n",
    "plt.subplot(2,2,2)\n",
    "plt.plot(x,y,\"go\")\n",
    "plt.subplot(2,2,3)\n",
    "plt.plot(x,y,\"k--\")\n",
    "plt.subplot(2,2,4)\n",
    "plt.plot(x,y,\"y.\")"
   ]
  },
  {
   "cell_type": "code",
   "execution_count": 63,
   "metadata": {},
   "outputs": [
    {
     "data": {
      "image/png": "[encoded data removed]",
      "text/plain": [
       "<Figure size 432x288 with 1 Axes>"
      ]
     },
     "metadata": {
      "needs_background": "light"
     },
     "output_type": "display_data"
    }
   ],
   "source": [
    "\n",
    "x=np.array([2,4,6,8,10,12,14,16])\n",
    "plt.plot(x,x**2,'b--',label=\"dashed line\")\n",
    "plt.plot(x,x**2.2,'rs',label='squared line')\n",
    "plt.plot(x,x**2.4,'g^',label='traiangle')\n",
    "plt.legend()\n",
    "plt.grid()\n",
    "plt.show()"
   ]
  },
  {
   "cell_type": "code",
   "execution_count": null,
   "metadata": {},
   "outputs": [],
   "source": []
  },
  {
   "cell_type": "markdown",
   "metadata": {},
   "source": [
    "#### Bar Chart\n",
    "   - plt.bar()"
   ]
  },
  {
   "cell_type": "code",
   "execution_count": 64,
   "metadata": {},
   "outputs": [
    {
     "data": {
      "text/plain": [
       "<BarContainer object of 5 artists>"
      ]
     },
     "execution_count": 64,
     "metadata": {},
     "output_type": "execute_result"
    },
    {
     "data": {
      "image/png": "[encoded data removed]",
      "text/plain": [
       "<Figure size 432x288 with 1 Axes>"
      ]
     },
     "metadata": {
      "needs_background": "light"
     },
     "output_type": "display_data"
    }
   ],
   "source": [
    "plt.bar([1,2,3,4,5],[2,6,4,8,10],width = 0.33,color = 'k')"
   ]
  },
  {
   "cell_type": "code",
   "execution_count": 65,
   "metadata": {},
   "outputs": [
    {
     "data": {
      "text/plain": [
       "array([0, 1, 2, 3])"
      ]
     },
     "execution_count": 65,
     "metadata": {},
     "output_type": "execute_result"
    }
   ],
   "source": [
    "x = np.arange(4)\n",
    "x"
   ]
  },
  {
   "cell_type": "code",
   "execution_count": 36,
   "metadata": {},
   "outputs": [
    {
     "data": {
      "text/plain": [
       "<BarContainer object of 4 artists>"
      ]
     },
     "execution_count": 36,
     "metadata": {},
     "output_type": "execute_result"
    },
    {
     "data": {
      "image/png": "[encoded data removed]",
      "text/plain": [
       "<Figure size 432x288 with 1 Axes>"
      ]
     },
     "metadata": {
      "needs_background": "light"
     },
     "output_type": "display_data"
    }
   ],
   "source": [
    "plt.bar(x,[89,90,55,60],color = 'b', width = 0.33)\n",
    "plt.bar(x + 0.33,[85,88,96,48],color = 'y', width = 0.33)"
   ]
  },
  {
   "cell_type": "code",
   "execution_count": null,
   "metadata": {},
   "outputs": [],
   "source": [
    "Task\n",
    "car1_day = [0,1,2,3,4]\n",
    "km = [0,20,50,43,50\n",
    "\n",
    "car2_day = [1,4,5,9]\n",
    "\n",
    "km2 = [20,55,56,78,40]\n",
    "\n",
    "title = Car Data\n",
    "\n",
    "label = tata, suzuki\n",
    "\n",
    "x_axes = day\n",
    "\n",
    "y_axes = kms"
   ]
  },
  {
   "cell_type": "code",
   "execution_count": 48,
   "metadata": {},
   "outputs": [],
   "source": [
    "car1_day = [0,1,2,3,4]\n",
    "\n",
    "km = [40,20,50,43,50]\n",
    "\n",
    "car2_day = [0.5,1.5,2.5,3.5,4.5]\n",
    "\n",
    "km2 = [20,55,56,78,40]"
   ]
  },
  {
   "cell_type": "code",
   "execution_count": 54,
   "metadata": {},
   "outputs": [
    {
     "data": {
      "text/plain": [
       "<matplotlib.legend.Legend at 0x1efb78c2ba8>"
      ]
     },
     "execution_count": 54,
     "metadata": {},
     "output_type": "execute_result"
    },
    {
     "data": {
      "image/png": "[encoded data removed]",
      "text/plain": [
       "<Figure size 432x288 with 1 Axes>"
      ]
     },
     "metadata": {
      "needs_background": "light"
     },
     "output_type": "display_data"
    }
   ],
   "source": [
    "plt.bar(car1_day,km,color=\"b\",width=0.32,label=\"tata\")\n",
    "plt.bar(car2_day,km2,color=\"y\",width=0.32,label=\"suzuki\")\n",
    "plt.xlabel(\"day\")\n",
    "plt.ylabel(\"km\")\n",
    "plt.title(\"cars\")\n",
    "plt.legend(loc=\"upper right\")"
   ]
  },
  {
   "cell_type": "code",
   "execution_count": 60,
   "metadata": {},
   "outputs": [
    {
     "data": {
      "image/png": "[encoded data removed]",
      "text/plain": [
       "<Figure size 432x288 with 1 Axes>"
      ]
     },
     "metadata": {
      "needs_background": "light"
     },
     "output_type": "display_data"
    }
   ],
   "source": [
    "x = [\"karthik\",\"abhinaya\",\"farheen\",\"yasmeen\",\"neelima\"]\n",
    "y = [90,67,89,100,78]\n",
    "plt.bar(x,y)\n",
    "plt.show()"
   ]
  },
  {
   "cell_type": "code",
   "execution_count": 61,
   "metadata": {},
   "outputs": [
    {
     "data": {
      "image/png": "[encoded data removed]",
      "text/plain": [
       "<Figure size 432x288 with 1 Axes>"
      ]
     },
     "metadata": {
      "needs_background": "light"
     },
     "output_type": "display_data"
    }
   ],
   "source": [
    "\n",
    "x = [\"karthik\",\"abhinaya\",\"farheen\",\"yasmeen\",\"neelima\"]\n",
    "y = [90,67,89,100,78]\n",
    "plt.bar(x,y)\n",
    "for a,b in zip(x,y):\n",
    "    plt.text(a,b,str(b))\n",
    "plt.show()"
   ]
  },
  {
   "cell_type": "code",
   "execution_count": 62,
   "metadata": {},
   "outputs": [
    {
     "data": {
      "image/png": "[encoded data removed]",
      "text/plain": [
       "<Figure size 432x288 with 1 Axes>"
      ]
     },
     "metadata": {
      "needs_background": "light"
     },
     "output_type": "display_data"
    }
   ],
   "source": [
    "x = [\"karthik\",\"abhinaya\",\"farheen\",\"yasmeen\",\"neelima\"]\n",
    "y = [90,67,89,100,78]\n",
    "plt.barh(x,y)\n",
    "for a,b in zip(y,x):\n",
    "    #print(a,b)\n",
    "    plt.text(a,b,str(a))\n",
    "plt.show()"
   ]
  },
  {
   "cell_type": "code",
   "execution_count": 66,
   "metadata": {},
   "outputs": [
    {
     "data": {
      "image/png": "[encoded data removed]",
      "text/plain": [
       "<Figure size 432x288 with 1 Axes>"
      ]
     },
     "metadata": {
      "needs_background": "light"
     },
     "output_type": "display_data"
    }
   ],
   "source": [
    "\n",
    "b=[20,35,30,35,27,40]\n",
    "g=[25,32,34,15,20,32]\n",
    "\n",
    "i=np.arange(0,6)\n",
    "\n",
    "p1=plt.bar(i,b,width=0.5)\n",
    "p2=plt.bar(i,g,width=0.5,bottom=b)\n",
    "\n",
    "plt.xlabel(\"class rooms\")\n",
    "plt.ylabel(\"strenght\")\n",
    "plt.title(\"mana college\")\n",
    "plt.xticks(i,('c1','c2','c3','c4','c5','c6'))\n",
    "plt.yticks(np.arange(0,90,10))\n",
    "\n",
    "plt.legend((p1[0],p2[0]),('boys','girls'))\n",
    "plt.show()"
   ]
  },
  {
   "cell_type": "code",
   "execution_count": 67,
   "metadata": {},
   "outputs": [
    {
     "data": {
      "image/png": "[encoded data removed]",
      "text/plain": [
       "<Figure size 432x288 with 1 Axes>"
      ]
     },
     "metadata": {
      "needs_background": "light"
     },
     "output_type": "display_data"
    }
   ],
   "source": [
    "\n",
    "b=[20,30,40,50]\n",
    "g=[10,30,80,60]\n",
    "\n",
    "i=np.arange(0,4)\n",
    "\n",
    "p1=plt.bar(i,b,width=0.5)\n",
    "p2=plt.bar(i,g,width=0.5,bottom=b)\n",
    "\n",
    "\n",
    "plt.xlabel(\"Class rooms\")\n",
    "plt.ylabel(\"Strength\")\n",
    "plt.title(\"Our College\")\n",
    "\n",
    "\n",
    "plt.xticks(i,('c1','c2','c3','c4'))\n",
    "plt.yticks(np.arange(0,150,10))\n",
    "\n",
    "plt.legend((p1[0],p2[0]),(\"boys\",\"girls\"))\n",
    "plt.show()"
   ]
  },
  {
   "cell_type": "markdown",
   "metadata": {},
   "source": [
    "##### Hist plot:\n",
    "- for 1D array visulization we can you hist plots\n",
    "- Frequency distribution data"
   ]
  },
  {
   "cell_type": "markdown",
   "metadata": {},
   "source": [
    "- A histogram is an accurate graphical representation of the distribution of numerical data. It is an estimate of the probability distribution of a continuous variable (quantitative variable) and was first introduced by Karl Pearson. It is a kind of bar graph. To construct a histogram, the first step is to “bin” the range of values — that is, divide the entire range of values into a series of intervals — and then count how many values fall into each interval."
   ]
  },
  {
   "cell_type": "code",
   "execution_count": 68,
   "metadata": {
    "scrolled": true
   },
   "outputs": [
    {
     "data": {
      "image/png": "[encoded data removed]",
      "text/plain": [
       "<Figure size 432x288 with 1 Axes>"
      ]
     },
     "metadata": {
      "needs_background": "light"
     },
     "output_type": "display_data"
    }
   ],
   "source": [
    "x=np.random.randn(1000)\n",
    "plt.hist(x,histtype='step')\n",
    "plt.show()"
   ]
  },
  {
   "cell_type": "code",
   "execution_count": 97,
   "metadata": {
    "collapsed": true
   },
   "outputs": [
    {
     "data": {
      "text/plain": [
       "array([ 3.17035200e-01,  6.72190984e-01,  4.90302704e-03, -5.80050054e-01,\n",
       "        2.97691499e+00,  1.48892395e+00, -1.52161521e+00,  4.51931007e-01,\n",
       "        8.15935899e-01, -1.37139930e-01, -8.43302181e-01, -7.02065717e-01,\n",
       "       -3.10616760e-01,  1.06648746e-01, -3.98658968e-01, -1.17170139e+00,\n",
       "       -5.88412062e-01, -2.44550485e-01, -1.07392556e+00,  1.25327465e+00,\n",
       "       -1.87217521e+00,  2.82633003e-01,  6.75541381e-01,  8.66732058e-01,\n",
       "       -6.79082191e-01,  4.15298264e-01,  1.09347849e+00,  2.59117971e-01,\n",
       "        3.57246740e-01, -8.67966169e-01, -4.85846103e-01,  5.26601975e-01,\n",
       "        8.93648891e-01, -5.33596206e-01,  2.07163045e+00, -2.91926392e-01,\n",
       "        1.59447478e+00,  2.75104535e-01, -7.35796332e-01, -2.18778065e+00,\n",
       "       -8.02001615e-01,  7.55757043e-01,  2.33583624e-01,  7.68185702e-02,\n",
       "        1.19712468e+00, -2.61269870e+00,  1.25499682e+00,  4.94041443e-01,\n",
       "        2.17211956e-01, -4.49931765e-01,  1.22143920e-01, -4.01631711e-01,\n",
       "        1.14465104e+00,  1.97462279e+00, -2.95924020e-01,  1.09101790e-01,\n",
       "        3.17651950e-01, -4.73589577e-01, -1.15991595e+00, -3.21085397e-01,\n",
       "       -3.22176318e-01,  4.55333508e-01,  6.18962809e-01, -3.82684839e-01,\n",
       "        1.81094194e-01, -2.56966488e+00,  1.58619244e-01,  4.14317803e-01,\n",
       "        2.29836164e-01,  7.99261335e-01, -1.09184993e+00,  9.77043284e-01,\n",
       "       -1.24189313e+00,  1.78803351e-02,  1.60985272e+00,  6.61290960e-01,\n",
       "        4.16346985e-01, -5.56402394e-01,  7.42108876e-01,  1.24401560e+00,\n",
       "        4.12465881e-01,  1.88075358e+00,  1.28869787e+00,  9.59738779e-01,\n",
       "       -6.28454866e-01, -3.43912362e-01,  3.60303620e-01, -2.73419496e-01,\n",
       "       -1.37814649e+00,  1.28170510e-01,  5.61452989e-01,  8.06883998e-01,\n",
       "        1.96619583e-01,  5.27113214e-01, -4.30466209e-01, -1.31501510e-01,\n",
       "       -2.84593328e-02,  6.33174546e-01,  7.41561932e-01, -3.42400983e-01,\n",
       "       -1.17796852e+00,  4.25734640e-01, -2.77546830e-01,  1.04734987e-01,\n",
       "       -3.15793162e-01, -2.51300022e-01, -1.10283137e+00, -4.92455044e-01,\n",
       "        4.56373120e-01, -5.60188892e-01, -6.85078142e-01,  1.20137535e+00,\n",
       "        6.13559523e-01,  1.21779658e+00,  1.08056936e-01, -1.50016331e+00,\n",
       "        2.31962091e-01, -2.31976075e-01,  8.79588316e-01, -4.29254799e-01,\n",
       "       -8.11920490e-01,  6.48822850e-01,  2.08283461e+00,  4.94979249e-01,\n",
       "        8.88552399e-01,  8.97971907e-01, -3.62947103e-01, -1.27680398e+00,\n",
       "       -1.86871738e-02,  1.09855153e+00, -8.82698994e-01,  2.32954160e-01,\n",
       "       -8.71002690e-01,  6.17829997e-01, -1.00712886e-02, -7.41489886e-02,\n",
       "        1.38410504e+00,  2.46339792e-01,  5.72337826e-01,  1.13208329e-01,\n",
       "       -2.25496258e-02,  3.85522190e-01, -1.55461812e+00, -1.75614601e+00,\n",
       "        1.03624647e+00, -3.38924574e-01,  6.57945507e-01, -2.52019928e-01,\n",
       "        1.51316943e-01,  7.75816768e-01, -1.00784688e+00,  1.13175381e+00,\n",
       "       -2.04841061e+00,  2.27572568e+00,  2.15401895e+00,  1.60530289e-01,\n",
       "        2.33152049e-01, -8.89790103e-01, -8.29306072e-01,  2.33686020e-01,\n",
       "       -1.90187654e+00,  5.26842142e-01, -2.77471630e-01, -6.27395795e-01,\n",
       "        7.13253648e-01,  4.19826703e-01, -8.81340500e-01, -9.43357984e-01,\n",
       "       -5.73566803e-01,  3.13684760e-01, -4.90200454e-02, -5.34696212e-01,\n",
       "       -5.04487094e-01,  3.67011877e-01,  1.72725503e+00, -1.60580922e-01,\n",
       "       -1.35554549e+00, -2.09906828e+00, -1.75694526e+00,  8.79879581e-01,\n",
       "        1.29115707e+00,  1.49692177e+00,  6.93934257e-01,  4.82845037e-01,\n",
       "       -1.36271205e-01,  1.13143801e+00,  7.85221087e-01, -4.09600280e-01,\n",
       "        1.23963032e+00, -4.09368545e-01,  5.49541036e-01, -2.73074344e-01,\n",
       "        1.39335704e+00,  2.23281166e-01, -9.22693301e-02, -1.13984358e+00,\n",
       "       -1.90376630e+00, -1.69285449e+00,  3.79535700e-01,  1.96857703e-01,\n",
       "        7.32491901e-01, -5.69301411e-01, -8.51236292e-03,  1.60244609e+00,\n",
       "       -8.80149733e-01,  9.06009978e-01, -7.21059937e-01, -8.65912628e-01,\n",
       "       -8.62111542e-01,  2.16268628e-01,  8.93752017e-01,  7.09699577e-01,\n",
       "       -1.16741341e+00,  5.04554555e-01, -2.17236644e+00, -4.74912977e-01,\n",
       "        1.17039904e+00,  1.35667557e+00, -1.23546867e+00, -2.64489793e-01,\n",
       "        1.62219045e-01, -1.32634374e+00, -1.19307761e+00, -8.38906243e-01,\n",
       "       -7.37547904e-01,  9.35560308e-01,  5.09582078e-02, -1.11316525e+00,\n",
       "        2.65489896e-01,  1.43111657e+00,  1.44115847e-01,  1.43371610e+00,\n",
       "        8.02506314e-01,  1.59735896e+00, -7.00073342e-04, -7.21202448e-02,\n",
       "       -9.54690869e-01, -1.95782373e+00,  2.25459225e-01, -1.18797063e-01,\n",
       "       -1.46973083e-01, -2.31544210e+00,  1.47570461e+00, -3.98553038e-01,\n",
       "        3.52043300e-01, -3.12237433e-01,  1.04915482e-01,  1.93434090e-01,\n",
       "        5.57688846e-01, -1.18760474e+00,  8.15607461e-01, -1.42276549e+00,\n",
       "       -3.23307505e-01,  1.06467626e+00,  1.52546597e+00,  1.61621605e+00,\n",
       "       -1.44784302e+00,  7.60834465e-02, -6.24669775e-01, -9.49416671e-01,\n",
       "        1.49698086e+00, -3.49827260e-01,  2.81388495e-01,  1.02263767e+00,\n",
       "        4.02572539e-02, -7.45193744e-01,  1.04882772e+00, -9.37813514e-01,\n",
       "        2.22360154e-01, -4.91146792e-01, -2.07637473e-01,  6.99810107e-03,\n",
       "       -1.02224638e-01, -9.14874633e-01,  1.01573514e+00, -1.61194122e+00,\n",
       "        1.31252761e+00,  6.44751975e-01,  1.15958753e+00, -2.05186172e+00,\n",
       "       -2.06590860e-01, -5.30949619e-01, -1.43256038e+00, -6.90872353e-02,\n",
       "        6.24776223e-01,  2.50851771e+00, -1.25886358e+00,  6.22185616e-01,\n",
       "        1.68316874e+00, -4.85572488e-01,  2.16322982e-01, -3.06527523e-01,\n",
       "        5.06105961e-01,  1.69023710e-01,  1.91027275e-01,  4.82503462e-01,\n",
       "        1.72971266e+00,  1.59185584e-01,  3.75640250e-01,  2.15562744e-01,\n",
       "        9.90361146e-01, -7.67959530e-01, -9.62613374e-01, -1.56165268e+00,\n",
       "        1.15419204e+00, -1.67539000e-01, -7.68661331e-01, -1.73464334e-01,\n",
       "        2.91837845e-01,  6.48358401e-01,  1.35722457e+00, -4.40413237e-01,\n",
       "        1.50428361e+00,  1.24603251e-01, -5.20747974e-01, -9.57319114e-01,\n",
       "        8.55044708e-01, -6.10112048e-01, -1.78730769e-01,  1.43689648e+00,\n",
       "       -7.27490412e-01,  1.44468611e+00,  1.96860878e-01, -3.29489644e-01,\n",
       "        1.28268517e+00,  8.43827907e-01, -3.48797415e+00,  4.71630566e-01,\n",
       "       -1.02038349e+00,  1.36833307e+00, -1.09449857e+00, -7.77149527e-01,\n",
       "       -7.52288291e-01, -2.33070589e-01, -1.48671905e-01, -3.92426679e-01,\n",
       "       -2.86391180e+00, -2.09782278e+00, -5.37719552e-01,  4.55329899e-01,\n",
       "       -9.40842170e-01, -1.19492525e+00, -6.90689762e-01,  6.63903468e-01,\n",
       "        1.13203109e-01,  2.96657733e-01, -7.88155999e-01, -2.70167118e-01,\n",
       "       -4.59701976e-01,  5.52187965e-01, -3.12629633e-01,  8.30707271e-01,\n",
       "        3.52769946e-01, -6.10725468e-01,  2.64312357e-01, -6.93079173e-01,\n",
       "       -1.49647735e+00, -1.59192264e-01, -1.24344157e+00, -9.45485340e-01,\n",
       "        8.14396877e-01, -4.71056196e-02, -3.77820405e-01, -4.86206825e-01,\n",
       "       -1.54846402e+00, -1.12515816e-01,  1.81977660e-01,  1.27663832e-01,\n",
       "        2.31390130e-01, -2.85035400e-01, -6.06362143e-01, -7.45515880e-01,\n",
       "        4.06573911e-01, -8.62353120e-02, -2.78396410e-01, -2.65514478e+00,\n",
       "        6.99112310e-01,  9.50891842e-01, -1.74806996e-01,  6.87695025e-01,\n",
       "        1.16213139e+00, -1.15197563e+00,  5.41022046e-02,  2.67116743e-01,\n",
       "        4.09170356e-01, -1.27266178e+00,  6.72345262e-01,  1.76216370e+00,\n",
       "       -4.28366280e-01,  2.17233377e-02,  5.94898748e-01, -1.34420298e+00,\n",
       "        1.83235211e+00, -2.45951165e-01,  5.32383237e-01, -1.88346487e+00,\n",
       "       -1.54751911e+00,  1.37034284e-02,  3.83581867e-01,  1.35549427e+00,\n",
       "       -1.38293795e-02,  1.11197766e+00, -1.19686038e+00, -9.60478199e-01,\n",
       "        2.08769266e+00,  1.48855338e-01,  1.48007667e+00, -6.41217116e-01,\n",
       "        3.44882046e-01, -6.21621202e-01,  1.93609091e+00, -2.44606312e-01,\n",
       "        1.94464792e+00,  3.29591170e-01, -1.20982440e+00, -1.39574645e-01,\n",
       "        5.66702705e-01,  8.06699000e-01, -7.91675440e-01, -7.68056443e-01,\n",
       "       -4.17494496e-01,  8.41018411e-01, -8.64612140e-01,  8.67848236e-02,\n",
       "        9.69733902e-01,  9.09265091e-01, -3.13950973e-01,  7.91883901e-01,\n",
       "       -6.48869463e-01, -1.31174482e+00,  1.69442325e+00, -4.80114008e-01,\n",
       "        1.18467746e+00, -2.45265464e+00,  1.67808445e+00,  6.14131210e-02,\n",
       "       -2.12933735e-01, -3.40598213e-01,  5.20371110e-01,  9.81483475e-01,\n",
       "       -2.20226132e+00, -1.13376398e+00, -1.37829638e-01,  1.67888857e+00,\n",
       "        4.67397486e-01, -5.51577052e-01, -6.23010021e-01,  2.59808367e-01,\n",
       "        1.07297260e+00, -5.14564230e-01, -4.04625745e-01,  2.76768170e-01,\n",
       "       -6.12621742e-01,  3.74212984e-01,  9.09041756e-01, -3.79442236e-01,\n",
       "       -1.50087214e+00,  1.29185536e+00, -4.43193600e-01, -3.88966926e-02,\n",
       "       -9.02670210e-01,  3.29978932e-01, -6.11043079e-02,  7.52040686e-01,\n",
       "       -6.67038116e-01, -2.70943440e-01,  4.46363463e-01,  1.39529616e+00,\n",
       "        8.80271466e-01,  2.73005624e-01,  1.79790802e+00,  1.08255729e+00,\n",
       "        5.36978466e-01, -3.29629159e-01,  2.22908533e-01, -6.50999925e-01,\n",
       "       -2.63525037e-02,  1.28075044e-01, -9.60913211e-01,  4.61931743e-01,\n",
       "        2.68447619e-01,  2.45790679e+00, -9.80514798e-01,  4.13123904e-01,\n",
       "       -8.07581218e-01,  1.57822612e-01,  4.82246318e-01, -8.41975175e-01,\n",
       "       -1.66357754e+00,  1.89582346e+00,  2.77050772e-01, -5.07185511e-01,\n",
       "       -6.01352840e-01,  2.44864791e+00, -6.04628902e-01, -4.76723043e-01,\n",
       "        4.78736274e-01, -6.01707821e-01,  6.96259579e-01,  1.91079683e-02,\n",
       "       -9.86607152e-02, -2.04589261e+00,  1.48856173e+00,  1.18224691e+00,\n",
       "       -1.12687840e+00,  5.10817458e-01, -5.80000457e-01, -3.16548627e-01,\n",
       "       -9.87363587e-01, -7.09379637e-01,  1.65564249e+00, -5.43485645e-01,\n",
       "        2.91712331e-01,  1.22983622e-01,  5.00609911e-01,  1.55037878e+00,\n",
       "       -1.13240603e+00, -4.78445574e-01,  7.10155078e-01, -4.53257439e-01,\n",
       "        1.30415133e+00,  1.45751780e+00, -2.91978315e-01, -6.56868975e-01,\n",
       "       -1.02968015e+00, -2.44823475e-01,  1.28245076e+00, -6.76652649e-01,\n",
       "        1.89823951e+00,  9.81378819e-01,  1.15235839e+00,  3.47223869e-01,\n",
       "       -2.29553514e+00, -3.41658054e-01, -4.30740045e-01, -8.05370497e-01,\n",
       "       -1.12702794e+00, -5.59438332e-01,  1.59804131e-01,  2.52322702e-01,\n",
       "       -7.38188667e-01,  1.45753378e+00,  1.47206173e+00,  1.71300977e+00,\n",
       "        9.28033763e-01, -8.30876007e-01, -5.45767404e-01, -1.02263132e+00,\n",
       "       -2.28829091e+00, -3.78178528e-01, -3.25335687e-01,  1.36714952e+00,\n",
       "       -8.95890724e-01, -1.41717912e-01,  7.88702461e-01, -2.82406651e-01,\n",
       "        1.42051180e+00, -1.05572687e+00,  4.86963675e-01,  7.22855612e-01,\n",
       "       -9.14740958e-01, -5.86541423e-01,  8.94963824e-01, -6.16648747e-01,\n",
       "       -7.44508250e-01,  1.12336846e+00, -5.29492655e-01, -1.08094886e+00,\n",
       "        5.20826180e-01, -1.72519877e+00,  5.01142804e-01, -8.85577605e-01,\n",
       "       -6.68145044e-01, -5.12669674e-01,  8.23353459e-03, -9.35021284e-01,\n",
       "        1.10680754e+00, -6.20149901e-01,  2.15649778e+00,  1.01299976e+00,\n",
       "       -6.23323805e-01, -1.42337814e+00, -4.45062697e-01, -1.04348773e+00,\n",
       "       -1.02826587e+00,  3.18016492e-01, -7.75437933e-02,  7.56037433e-01,\n",
       "        1.11459378e+00,  2.37063511e+00, -1.57719824e+00,  9.04641067e-01,\n",
       "        5.26904306e-01,  1.90594845e+00, -3.52509779e-01,  1.60974317e+00,\n",
       "        1.59138865e+00,  2.11355727e-01,  1.02806189e+00,  4.41314617e-01,\n",
       "        3.74094640e-01, -2.50530549e-01,  9.54384097e-02,  5.58307991e-01,\n",
       "        5.27228079e-01,  1.30222064e+00, -1.15279062e+00, -2.23772104e+00,\n",
       "       -1.13476066e-01,  2.95498779e-01, -6.26750301e-01, -4.38436212e-01,\n",
       "        1.89005822e-02, -2.14568896e-01,  4.27874968e-01,  1.30109987e+00,\n",
       "       -4.58623476e-01, -2.16844869e-01,  3.42984569e-01,  1.23677182e+00,\n",
       "        1.21601854e+00, -5.16212883e-01,  9.70632254e-02, -3.36279035e-01,\n",
       "        3.72272142e-01, -2.95733617e+00, -1.14425337e+00, -8.40858659e-01,\n",
       "        4.72135282e-01,  2.00803073e-02,  1.29108409e+00, -9.41427499e-01,\n",
       "        3.86012082e-01,  4.49735053e-01, -4.75067579e-02,  3.88344293e-01,\n",
       "       -2.09688370e-01, -3.57782381e-01, -1.00711636e+00, -1.10679652e+00,\n",
       "        3.20102778e-01,  3.78583212e-01,  1.30684491e-01,  1.48440743e+00,\n",
       "       -1.05448476e-01,  2.26738639e-01,  4.32146444e-01, -7.48550254e-01,\n",
       "       -8.76163665e-01,  5.75687273e-01,  2.11230317e-01, -1.20637505e+00,\n",
       "       -9.28786827e-01, -1.78927608e+00,  7.14042271e-02,  1.21776768e+00,\n",
       "        2.58884847e-01, -1.10500192e+00,  1.12479086e+00, -6.66983117e-02,\n",
       "        4.74166054e-01, -1.18433704e+00, -3.72052577e-01, -3.51460031e-01,\n",
       "        2.96020908e-02, -6.66076362e-01, -4.23655535e-01,  3.19211156e+00,\n",
       "       -1.43203999e+00,  6.92867017e-01, -1.00760726e-01, -6.85441115e-01,\n",
       "        6.35553385e-01, -2.79060637e-01, -1.27225743e+00,  1.47627627e+00,\n",
       "       -4.45576754e-01,  5.80298023e-02, -6.40339546e-01,  4.67172095e-01,\n",
       "        1.22964094e+00,  5.31841394e-01, -1.50920023e+00,  9.84819711e-01,\n",
       "       -1.85054910e+00, -1.51390329e+00, -4.88448621e-01, -3.73930891e-01,\n",
       "        1.92023569e+00,  7.45323458e-03, -4.05093811e-01, -3.75027674e-01,\n",
       "        1.25587848e+00, -4.07184737e-01,  1.38422836e+00, -4.85787441e-01,\n",
       "        7.17576051e-01,  1.97633474e-02,  5.18711132e-01, -6.52957700e-01,\n",
       "        1.14599862e+00,  1.04755175e+00, -2.41705429e+00, -1.53623784e+00,\n",
       "        1.87997847e-01, -3.35593426e-02,  7.50844279e-01, -7.28604802e-01,\n",
       "       -1.42458090e-01,  3.58025565e-01,  1.84932884e+00, -1.63682762e-01,\n",
       "        1.74678565e+00, -1.37022352e+00, -4.98785207e-01, -8.57478248e-01,\n",
       "       -4.47566251e-01,  6.31125199e-01, -1.10057260e-01, -5.45488578e-01,\n",
       "       -1.30977369e-01,  1.50313242e+00, -8.42970564e-01, -5.91397208e-01,\n",
       "        1.99800609e+00, -9.79469283e-01, -9.51203627e-01, -5.37231446e-02,\n",
       "       -4.00603966e-01,  2.56228855e-01,  1.14015867e+00, -7.49059908e-01,\n",
       "        2.38867225e-01, -1.46288686e+00, -3.07805807e-01, -4.85132787e-01,\n",
       "       -1.14755008e+00, -1.50798607e+00,  4.53293677e-01, -1.53176250e+00,\n",
       "       -1.00031827e+00, -1.47484205e+00, -9.72267889e-01, -1.41346189e+00,\n",
       "        3.50926705e-01,  1.17703806e+00, -2.13223718e-01,  7.57030669e-01,\n",
       "        1.57217469e+00, -9.29592701e-01, -3.93969384e-01, -1.11469136e+00,\n",
       "       -1.46867299e+00, -1.36223601e-01,  1.13941987e+00, -5.17597241e-01,\n",
       "        1.91763658e+00, -1.02663402e+00,  1.01838371e-01, -1.07305546e+00,\n",
       "       -5.17210841e-01,  5.30572408e-01,  5.66444044e-01,  7.33690973e-01,\n",
       "        1.01020825e+00,  1.03997555e+00, -1.41211500e+00,  9.92590391e-01,\n",
       "        1.49351275e+00,  2.10848137e-01,  7.05516841e-01, -6.14894635e-01,\n",
       "       -4.09826369e-01, -3.38631007e-01,  1.23012255e+00,  1.37444961e+00,\n",
       "       -4.12922940e-01, -8.65200418e-01,  2.14667945e-01,  1.83959706e-01,\n",
       "       -1.84009391e-01, -6.18115108e-01,  5.88053852e-01, -7.94833538e-01,\n",
       "       -3.39865312e-01,  1.43959287e-01, -4.01014130e-01,  1.87302088e+00,\n",
       "        2.16714971e+00,  4.84226518e-01,  6.06714585e-01,  3.00553331e-01,\n",
       "        1.21340919e-01, -7.77682399e-01, -8.53451920e-01, -4.48075445e-01,\n",
       "       -4.41596242e-01,  1.79820544e+00, -1.68728835e+00, -1.42090695e+00,\n",
       "        9.25142234e-01, -3.16122823e-01, -8.26383282e-02,  2.19035313e+00,\n",
       "       -4.42474512e-01, -7.49160910e-01,  8.67540563e-01,  1.88395575e+00,\n",
       "        7.16078199e-01, -3.64112446e-01, -1.54724979e+00,  3.22515466e-01,\n",
       "       -2.80715604e-01,  6.87910499e-01,  9.71263263e-01,  8.59371065e-01,\n",
       "       -1.57951806e+00, -1.56725411e+00, -2.75389461e-02, -1.64313302e-01,\n",
       "       -5.95860792e-01,  2.01051139e+00,  1.00846568e+00,  1.80883565e+00,\n",
       "       -8.34436391e-01,  1.09552901e-01, -4.26250827e-02, -1.53362838e+00,\n",
       "        1.34626053e-01, -1.15130476e-01, -7.66778689e-01, -3.91543753e-01,\n",
       "       -1.55205081e+00,  9.01253613e-01, -3.59678383e-02, -9.22272091e-01,\n",
       "       -9.17748678e-01,  1.46058948e-01,  6.99188768e-01, -2.12927717e-02,\n",
       "       -1.87285871e+00, -4.05409735e-01,  4.15523310e-01,  1.52205753e+00,\n",
       "        1.01832320e+00,  8.21471178e-01,  2.17843312e+00,  7.07330200e-01,\n",
       "        1.75661686e-01, -1.37509353e+00, -1.27727893e-01,  9.30720272e-01,\n",
       "       -1.54649474e+00,  1.99289152e+00, -1.06578271e+00, -7.49311161e-02,\n",
       "       -1.04698733e+00, -2.37940835e-01, -6.85544735e-01, -1.19488699e+00,\n",
       "       -8.97603835e-01,  1.68978753e-01,  1.05193753e+00,  7.02465276e-01,\n",
       "       -2.60612936e-01,  8.39773226e-01,  5.51783421e-02, -3.64362502e-02,\n",
       "       -1.18316167e+00,  1.02404542e+00, -5.76956711e-01, -7.39474455e-01,\n",
       "       -2.81148840e-01, -1.34276154e+00, -1.01692418e+00,  3.17351511e-02,\n",
       "        6.43023130e-01, -1.05469984e-01,  4.43000340e-01,  3.85604821e-01,\n",
       "        4.94743083e-01, -4.21389301e-01,  4.67321823e-01,  1.42574588e+00,\n",
       "       -4.71899198e-01,  1.62845370e+00,  5.05729199e-01, -4.32947259e-01,\n",
       "       -2.12302149e-01,  3.21894203e-01, -8.12943441e-02,  4.40688095e-01,\n",
       "        1.11554413e+00,  4.65580010e-01,  5.01663737e-01, -1.52723334e-01,\n",
       "        5.32138424e-01,  2.09421735e+00, -3.52411728e-02, -5.86764546e-01,\n",
       "        1.55584843e+00,  1.89368273e-01,  6.13424804e-01,  7.63365293e-01,\n",
       "        1.67393086e-01,  1.29534641e+00, -5.03029359e-01,  2.45701812e-01,\n",
       "        2.60057222e-01,  4.24772451e-01, -1.69679661e+00,  2.15096644e-01,\n",
       "       -2.75386047e+00,  1.68804015e-01,  1.28592295e+00, -3.72130319e-01,\n",
       "       -2.29765722e+00,  6.82371713e-01,  1.09652263e-01,  1.45844650e+00,\n",
       "        4.82450974e-01,  1.50575923e+00, -1.19965247e+00, -7.43743650e-02,\n",
       "       -3.75932050e-01,  1.53699848e+00, -1.38746443e+00,  9.15291169e-01,\n",
       "        3.84754752e-01,  8.74502381e-01, -9.45909922e-01, -2.01431399e-01,\n",
       "        1.12057686e-01, -1.08143524e+00,  6.98231171e-01, -4.97670676e-01,\n",
       "        2.24512378e-01, -1.47712310e+00,  1.13428927e+00,  3.07392230e-01,\n",
       "       -1.10347657e+00,  1.35418792e-01, -1.89042605e-02, -1.91907909e+00,\n",
       "        1.44961514e+00, -5.31260710e-01,  1.26921771e+00, -1.35674327e+00,\n",
       "        2.17538420e-01, -1.54662020e+00, -2.02573475e+00,  6.66321239e-01,\n",
       "       -7.95557039e-01,  1.97718051e-01,  4.13317106e-01,  7.45192642e-01,\n",
       "        3.44428583e-01, -9.77045748e-01, -4.17825826e-01, -1.93374751e-01,\n",
       "       -2.78661489e-01, -4.05913269e-01, -1.30342211e+00, -1.11291765e+00,\n",
       "       -9.95382159e-01, -5.81084393e-02, -2.12227930e-01,  1.16209134e+00,\n",
       "        1.44323307e-01,  6.26519254e-01, -1.18375931e+00, -9.31627221e-01,\n",
       "       -9.91191551e-01,  1.69922400e-01, -4.72709993e-01, -5.83075159e-01,\n",
       "       -7.82027916e-01,  2.55551651e-01,  2.14694963e+00, -3.24415633e-01,\n",
       "        1.76771438e+00,  9.24415177e-01,  1.08668929e+00, -2.98722664e+00,\n",
       "       -1.20351349e+00,  9.92246641e-01,  9.64882770e-01, -3.89765641e-01,\n",
       "       -4.58199434e-01, -2.32700737e+00, -1.20704919e+00, -4.03374729e-01,\n",
       "       -3.91914181e-01, -1.03060851e+00, -4.29228942e-01, -1.68420601e-01,\n",
       "       -2.54751260e-01, -5.32209941e-01, -1.73284122e-01,  1.60448247e+00])"
      ]
     },
     "execution_count": 97,
     "metadata": {},
     "output_type": "execute_result"
    }
   ],
   "source": [
    "x=np.random.randn(1000)\n",
    "x"
   ]
  },
  {
   "cell_type": "code",
   "execution_count": 69,
   "metadata": {},
   "outputs": [
    {
     "name": "stdout",
     "output_type": "stream",
     "text": [
      "Help on function hist in module matplotlib.pyplot:\n",
      "\n",
      "hist(x, bins=None, range=None, density=None, weights=None, cumulative=False, bottom=None, histtype='bar', align='mid', orientation='vertical', rwidth=None, log=False, color=None, label=None, stacked=False, normed=None, *, data=None, **kwargs)\n",
      "    Plot a histogram.\n",
      "    \n",
      "    Compute and draw the histogram of *x*. The return value is a\n",
      "    tuple (*n*, *bins*, *patches*) or ([*n0*, *n1*, ...], *bins*,\n",
      "    [*patches0*, *patches1*,...]) if the input contains multiple\n",
      "    data.\n",
      "    \n",
      "    Multiple data can be provided via *x* as a list of datasets\n",
      "    of potentially different length ([*x0*, *x1*, ...]), or as\n",
      "    a 2-D ndarray in which each column is a dataset.  Note that\n",
      "    the ndarray form is transposed relative to the list form.\n",
      "    \n",
      "    Masked arrays are not supported at present.\n",
      "    \n",
      "    Parameters\n",
      "    ----------\n",
      "    x : (n,) array or sequence of (n,) arrays\n",
      "        Input values, this takes either a single array or a sequence of\n",
      "        arrays which are not required to be of the same length.\n",
      "    \n",
      "    bins : int or sequence or str, optional\n",
      "        If an integer is given, ``bins + 1`` bin edges are calculated and\n",
      "        returned, consistent with `numpy.histogram`.\n",
      "    \n",
      "        If `bins` is a sequence, gives bin edges, including left edge of\n",
      "        first bin and right edge of last bin.  In this case, `bins` is\n",
      "        returned unmodified.\n",
      "    \n",
      "        All but the last (righthand-most) bin is half-open.  In other\n",
      "        words, if `bins` is::\n",
      "    \n",
      "            [1, 2, 3, 4]\n",
      "    \n",
      "        then the first bin is ``[1, 2)`` (including 1, but excluding 2) and\n",
      "        the second ``[2, 3)``.  The last bin, however, is ``[3, 4]``, which\n",
      "        *includes* 4.\n",
      "    \n",
      "        Unequally spaced bins are supported if *bins* is a sequence.\n",
      "    \n",
      "        With Numpy 1.11 or newer, you can alternatively provide a string\n",
      "        describing a binning strategy, such as 'auto', 'sturges', 'fd',\n",
      "        'doane', 'scott', 'rice', 'sturges' or 'sqrt', see\n",
      "        `numpy.histogram`.\n",
      "    \n",
      "        The default is taken from :rc:`hist.bins`.\n",
      "    \n",
      "    range : tuple or None, optional\n",
      "        The lower and upper range of the bins. Lower and upper outliers\n",
      "        are ignored. If not provided, *range* is ``(x.min(), x.max())``.\n",
      "        Range has no effect if *bins* is a sequence.\n",
      "    \n",
      "        If *bins* is a sequence or *range* is specified, autoscaling\n",
      "        is based on the specified bin range instead of the\n",
      "        range of x.\n",
      "    \n",
      "        Default is ``None``\n",
      "    \n",
      "    density : bool, optional\n",
      "        If ``True``, the first element of the return tuple will\n",
      "        be the counts normalized to form a probability density, i.e.,\n",
      "        the area (or integral) under the histogram will sum to 1.\n",
      "        This is achieved by dividing the count by the number of\n",
      "        observations times the bin width and not dividing by the total\n",
      "        number of observations. If *stacked* is also ``True``, the sum of\n",
      "        the histograms is normalized to 1.\n",
      "    \n",
      "        Default is ``None`` for both *normed* and *density*. If either is\n",
      "        set, then that value will be used. If neither are set, then the\n",
      "        args will be treated as ``False``.\n",
      "    \n",
      "        If both *density* and *normed* are set an error is raised.\n",
      "    \n",
      "    weights : (n, ) array_like or None, optional\n",
      "        An array of weights, of the same shape as *x*.  Each value in *x*\n",
      "        only contributes its associated weight towards the bin count\n",
      "        (instead of 1).  If *normed* or *density* is ``True``,\n",
      "        the weights are normalized, so that the integral of the density\n",
      "        over the range remains 1.\n",
      "    \n",
      "        Default is ``None``\n",
      "    \n",
      "    cumulative : bool, optional\n",
      "        If ``True``, then a histogram is computed where each bin gives the\n",
      "        counts in that bin plus all bins for smaller values. The last bin\n",
      "        gives the total number of datapoints. If *normed* or *density*\n",
      "        is also ``True`` then the histogram is normalized such that the\n",
      "        last bin equals 1. If *cumulative* evaluates to less than 0\n",
      "        (e.g., -1), the direction of accumulation is reversed.\n",
      "        In this case, if *normed* and/or *density* is also ``True``, then\n",
      "        the histogram is normalized such that the first bin equals 1.\n",
      "    \n",
      "        Default is ``False``\n",
      "    \n",
      "    bottom : array_like, scalar, or None\n",
      "        Location of the bottom baseline of each bin.  If a scalar,\n",
      "        the base line for each bin is shifted by the same amount.\n",
      "        If an array, each bin is shifted independently and the length\n",
      "        of bottom must match the number of bins.  If None, defaults to 0.\n",
      "    \n",
      "        Default is ``None``\n",
      "    \n",
      "    histtype : {'bar', 'barstacked', 'step',  'stepfilled'}, optional\n",
      "        The type of histogram to draw.\n",
      "    \n",
      "        - 'bar' is a traditional bar-type histogram.  If multiple data\n",
      "          are given the bars are arranged side by side.\n",
      "    \n",
      "        - 'barstacked' is a bar-type histogram where multiple\n",
      "          data are stacked on top of each other.\n",
      "    \n",
      "        - 'step' generates a lineplot that is by default\n",
      "          unfilled.\n",
      "    \n",
      "        - 'stepfilled' generates a lineplot that is by default\n",
      "          filled.\n",
      "    \n",
      "        Default is 'bar'\n",
      "    \n",
      "    align : {'left', 'mid', 'right'}, optional\n",
      "        Controls how the histogram is plotted.\n",
      "    \n",
      "            - 'left': bars are centered on the left bin edges.\n",
      "    \n",
      "            - 'mid': bars are centered between the bin edges.\n",
      "    \n",
      "            - 'right': bars are centered on the right bin edges.\n",
      "    \n",
      "        Default is 'mid'\n",
      "    \n",
      "    orientation : {'horizontal', 'vertical'}, optional\n",
      "        If 'horizontal', `~matplotlib.pyplot.barh` will be used for\n",
      "        bar-type histograms and the *bottom* kwarg will be the left edges.\n",
      "    \n",
      "    rwidth : scalar or None, optional\n",
      "        The relative width of the bars as a fraction of the bin width.  If\n",
      "        ``None``, automatically compute the width.\n",
      "    \n",
      "        Ignored if *histtype* is 'step' or 'stepfilled'.\n",
      "    \n",
      "        Default is ``None``\n",
      "    \n",
      "    log : bool, optional\n",
      "        If ``True``, the histogram axis will be set to a log scale. If\n",
      "        *log* is ``True`` and *x* is a 1D array, empty bins will be\n",
      "        filtered out and only the non-empty ``(n, bins, patches)``\n",
      "        will be returned.\n",
      "    \n",
      "        Default is ``False``\n",
      "    \n",
      "    color : color or array_like of colors or None, optional\n",
      "        Color spec or sequence of color specs, one per dataset.  Default\n",
      "        (``None``) uses the standard line color sequence.\n",
      "    \n",
      "        Default is ``None``\n",
      "    \n",
      "    label : str or None, optional\n",
      "        String, or sequence of strings to match multiple datasets.  Bar\n",
      "        charts yield multiple patches per dataset, but only the first gets\n",
      "        the label, so that the legend command will work as expected.\n",
      "    \n",
      "        default is ``None``\n",
      "    \n",
      "    stacked : bool, optional\n",
      "        If ``True``, multiple data are stacked on top of each other If\n",
      "        ``False`` multiple data are arranged side by side if histtype is\n",
      "        'bar' or on top of each other if histtype is 'step'\n",
      "    \n",
      "        Default is ``False``\n",
      "    \n",
      "    normed : bool, optional\n",
      "        Deprecated; use the density keyword argument instead.\n",
      "    \n",
      "    Returns\n",
      "    -------\n",
      "    n : array or list of arrays\n",
      "        The values of the histogram bins. See *normed* or *density*\n",
      "        and *weights* for a description of the possible semantics.\n",
      "        If input *x* is an array, then this is an array of length\n",
      "        *nbins*. If input is a sequence of arrays\n",
      "        ``[data1, data2,..]``, then this is a list of arrays with\n",
      "        the values of the histograms for each of the arrays in the\n",
      "        same order.\n",
      "    \n",
      "    bins : array\n",
      "        The edges of the bins. Length nbins + 1 (nbins left edges and right\n",
      "        edge of last bin).  Always a single array even when multiple data\n",
      "        sets are passed in.\n",
      "    \n",
      "    patches : list or list of lists\n",
      "        Silent list of individual patches used to create the histogram\n",
      "        or list of such list if multiple input datasets.\n",
      "    \n",
      "    Other Parameters\n",
      "    ----------------\n",
      "    **kwargs : `~matplotlib.patches.Patch` properties\n",
      "    \n",
      "    See also\n",
      "    --------\n",
      "    hist2d : 2D histograms\n",
      "    \n",
      "    Notes\n",
      "    -----\n",
      "    .. [Notes section required for data comment. See #10189.]\n",
      "    \n",
      "    .. note::\n",
      "        In addition to the above described arguments, this function can take a\n",
      "        **data** keyword argument. If such a **data** argument is given, the\n",
      "        following arguments are replaced by **data[<arg>]**:\n",
      "    \n",
      "        * All arguments with the following names: 'weights', 'x'.\n",
      "    \n",
      "        Objects passed as **data** must support item access (``data[<arg>]``) and\n",
      "        membership test (``<arg> in data``).\n",
      "\n"
     ]
    }
   ],
   "source": [
    "help(plt.hist)"
   ]
  },
  {
   "cell_type": "code",
   "execution_count": 71,
   "metadata": {},
   "outputs": [
    {
     "data": {
      "image/png": "[encoded data removed]",
      "text/plain": [
       "<Figure size 432x288 with 1 Axes>"
      ]
     },
     "metadata": {
      "needs_background": "light"
     },
     "output_type": "display_data"
    }
   ],
   "source": [
    "\n",
    "x=np.random.randn(1000)\n",
    "plt.hist(x,bins=10)\n",
    "plt.show()"
   ]
  },
  {
   "cell_type": "markdown",
   "metadata": {},
   "source": [
    "#### Box plot:\n",
    "- this is also knows as whisker plot\n",
    "- it contains min value,max value, first quartile, median, third quartaile\n",
    "\n",
    "![](https://www.simplypsychology.org/boxplot.jpg)"
   ]
  },
  {
   "cell_type": "code",
   "execution_count": 72,
   "metadata": {},
   "outputs": [
    {
     "data": {
      "text/plain": [
       "array([24, 25, 85, 82, 34, 41, 75, 84, 84, 64, 56, 22, 60, 81, 43, 15, 93,\n",
       "       46, 86, 93, 52, 23, 84, 83, 69, 84, 35, 87, 74, 99, 20, 43, 92, 77,\n",
       "       17, 45, 43, 30, 65, 21, 12, 47, 13, 78, 11, 26, 10, 90, 37, 96, 77,\n",
       "       74, 82, 69, 92, 21, 44, 95, 99, 26, 50, 91, 66, 58, 51, 12, 13, 34,\n",
       "       56, 51, 34, 56, 97, 67, 99, 28, 18, 68, 84, 79, 39, 51, 10, 54, 87,\n",
       "       73, 37, 62, 98, 54, 35, 23, 76, 98, 28, 85, 95, 87, 56, 74, 51])"
      ]
     },
     "execution_count": 72,
     "metadata": {},
     "output_type": "execute_result"
    }
   ],
   "source": [
    "#![](https://www.simplypsychology.org/boxplot.jpg)\n",
    "\n",
    "marks = np.random.randint(10,100,101)\n",
    "marks"
   ]
  },
  {
   "cell_type": "code",
   "execution_count": 73,
   "metadata": {
    "scrolled": false
   },
   "outputs": [
    {
     "data": {
      "image/png": "[encoded data removed]",
      "text/plain": [
       "<Figure size 432x288 with 1 Axes>"
      ]
     },
     "metadata": {
      "needs_background": "light"
     },
     "output_type": "display_data"
    }
   ],
   "source": [
    "plt.boxplot(marks)\n",
    "plt.show()"
   ]
  },
  {
   "cell_type": "code",
   "execution_count": 77,
   "metadata": {},
   "outputs": [
    {
     "data": {
      "image/png": "[encoded data removed]",
      "text/plain": [
       "<Figure size 432x288 with 1 Axes>"
      ]
     },
     "metadata": {
      "needs_background": "light"
     },
     "output_type": "display_data"
    }
   ],
   "source": [
    "data=np.random.normal(100,20,200)\n",
    "plt.boxplot(data)\n",
    "plt.show()"
   ]
  },
  {
   "cell_type": "code",
   "execution_count": 76,
   "metadata": {},
   "outputs": [
    {
     "data": {
      "image/png": "[encoded data removed]",
      "text/plain": [
       "<Figure size 432x288 with 1 Axes>"
      ]
     },
     "metadata": {
      "needs_background": "light"
     },
     "output_type": "display_data"
    }
   ],
   "source": [
    "\n",
    "a = np.random.randint(50,100,10)\n",
    "b = np.random.randint(40,90,10)\n",
    "c = np.random.randint(34,109,10)\n",
    "plt.boxplot([a,b,c],labels = [\"a\",\"b\",\"c\"])\n",
    "plt.show()"
   ]
  },
  {
   "cell_type": "markdown",
   "metadata": {},
   "source": [
    "#### Pie Chart\n",
    " - plt.pie()"
   ]
  },
  {
   "cell_type": "code",
   "execution_count": 82,
   "metadata": {},
   "outputs": [
    {
     "data": {
      "image/png": "[encoded data removed]",
      "text/plain": [
       "<Figure size 432x288 with 1 Axes>"
      ]
     },
     "metadata": {},
     "output_type": "display_data"
    }
   ],
   "source": [
    "labels=['python','c','c++','java']\n",
    "size=[100,200,300,450]\n",
    "colors=['gold','yellowgreen','lightcoral','lightskyblue']\n",
    "plt.pie(size,labels=labels,colors=colors,autopct=\"%1.2f%%\")\n",
    "plt.axis('equal')\n",
    "plt.show()"
   ]
  },
  {
   "cell_type": "code",
   "execution_count": 83,
   "metadata": {},
   "outputs": [
    {
     "data": {
      "image/png": "[encoded data removed]",
      "text/plain": [
       "<Figure size 432x288 with 1 Axes>"
      ]
     },
     "metadata": {},
     "output_type": "display_data"
    }
   ],
   "source": [
    "labels=['python','c','c++','java']\n",
    "size=[100,200,300,450]\n",
    "colors=['gold','yellowgreen','lightcoral','lightskyblue']\n",
    "explode=(1,0,0,0)\n",
    "plt.pie(size,labels=labels,explode=explode,colors=colors,autopct=\"%1.2f%%\")\n",
    "plt.axis('equal')\n",
    "plt.show()"
   ]
  },
  {
   "cell_type": "code",
   "execution_count": 84,
   "metadata": {},
   "outputs": [
    {
     "data": {
      "image/png": "[encoded data removed]",
      "text/plain": [
       "<Figure size 432x288 with 1 Axes>"
      ]
     },
     "metadata": {},
     "output_type": "display_data"
    }
   ],
   "source": [
    "labels=['python','c','c++','java']\n",
    "size=[100,200,300,450]\n",
    "colors=['gold','yellowgreen','lightcoral','lightskyblue']\n",
    "explode=(1,0,0,0)\n",
    "plt.pie(size,labels=labels,explode=explode,colors=colors,autopct=\"%1.2f%%\")  #ex: 234.56\n",
    "plt.axis('equal')\n",
    "plt.savefig(\"pieplot2.jpg\") #d://folder/filename.png\n",
    "plt.show()"
   ]
  },
  {
   "cell_type": "markdown",
   "metadata": {},
   "source": [
    "### Read the image"
   ]
  },
  {
   "cell_type": "code",
   "execution_count": 89,
   "metadata": {},
   "outputs": [
    {
     "data": {
      "text/plain": [
       "array([[[255, 255, 255],\n",
       "        [255, 255, 255],\n",
       "        [255, 255, 255],\n",
       "        ...,\n",
       "        [255, 255, 255],\n",
       "        [255, 255, 255],\n",
       "        [255, 255, 255]],\n",
       "\n",
       "       [[255, 255, 255],\n",
       "        [255, 255, 255],\n",
       "        [255, 255, 255],\n",
       "        ...,\n",
       "        [255, 255, 255],\n",
       "        [255, 255, 255],\n",
       "        [255, 255, 255]],\n",
       "\n",
       "       [[255, 255, 255],\n",
       "        [255, 255, 255],\n",
       "        [255, 255, 255],\n",
       "        ...,\n",
       "        [255, 255, 255],\n",
       "        [255, 255, 255],\n",
       "        [255, 255, 255]],\n",
       "\n",
       "       ...,\n",
       "\n",
       "       [[255, 255, 255],\n",
       "        [255, 255, 255],\n",
       "        [255, 255, 255],\n",
       "        ...,\n",
       "        [255, 255, 255],\n",
       "        [255, 255, 255],\n",
       "        [255, 255, 255]],\n",
       "\n",
       "       [[255, 255, 255],\n",
       "        [255, 255, 255],\n",
       "        [255, 255, 255],\n",
       "        ...,\n",
       "        [255, 255, 255],\n",
       "        [255, 255, 255],\n",
       "        [255, 255, 255]],\n",
       "\n",
       "       [[255, 255, 255],\n",
       "        [255, 255, 255],\n",
       "        [255, 255, 255],\n",
       "        ...,\n",
       "        [255, 255, 255],\n",
       "        [255, 255, 255],\n",
       "        [255, 255, 255]]], dtype=uint8)"
      ]
     },
     "execution_count": 89,
     "metadata": {},
     "output_type": "execute_result"
    }
   ],
   "source": [
    "a=plt.imread(\"pieplot2.jpg\")\n",
    "a"
   ]
  },
  {
   "cell_type": "code",
   "execution_count": 90,
   "metadata": {},
   "outputs": [
    {
     "data": {
      "image/png": "[encoded data removed]",
      "text/plain": [
       "<Figure size 432x288 with 1 Axes>"
      ]
     },
     "metadata": {
      "needs_background": "light"
     },
     "output_type": "display_data"
    },
    {
     "data": {
      "text/plain": [
       "<Figure size 864x576 with 0 Axes>"
      ]
     },
     "metadata": {},
     "output_type": "display_data"
    }
   ],
   "source": [
    "plt.imshow(a)\n",
    "plt.figure(figsize=(12,8))\n",
    "plt.show()"
   ]
  },
  {
   "cell_type": "code",
   "execution_count": null,
   "metadata": {},
   "outputs": [],
   "source": []
  }
 ],
 "metadata": {
  "kernelspec": {
   "display_name": "Python 3",
   "language": "python",
   "name": "python3"
  },
  "language_info": {
   "codemirror_mode": {
    "name": "ipython",
    "version": 3
   },
   "file_extension": ".py",
   "mimetype": "text/x-python",
   "name": "python",
   "nbconvert_exporter": "python",
   "pygments_lexer": "ipython3",
   "version": "3.7.3"
  }
 },
 "nbformat": 4,
 "nbformat_minor": 2
}

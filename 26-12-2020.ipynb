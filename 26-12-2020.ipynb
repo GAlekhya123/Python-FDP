{
 "cells": [
  {
   "cell_type": "markdown",
   "metadata": {},
   "source": [
    "- Data Frames\n",
    "- It is a table with multiple rows and columns\n",
    "- Various format of files can able to read using data frames.\n",
    "- Files like excel, csv, json etc,."
   ]
  },
  {
   "cell_type": "code",
   "execution_count": 1,
   "metadata": {},
   "outputs": [],
   "source": [
    "import pandas as pd"
   ]
  },
  {
   "cell_type": "markdown",
   "metadata": {},
   "source": [
    "- Create data frames"
   ]
  },
  {
   "cell_type": "code",
   "execution_count": 2,
   "metadata": {},
   "outputs": [
    {
     "data": {
      "text/html": [
       "<div>\n",
       "<style scoped>\n",
       "    .dataframe tbody tr th:only-of-type {\n",
       "        vertical-align: middle;\n",
       "    }\n",
       "\n",
       "    .dataframe tbody tr th {\n",
       "        vertical-align: top;\n",
       "    }\n",
       "\n",
       "    .dataframe thead th {\n",
       "        text-align: right;\n",
       "    }\n",
       "</style>\n",
       "<table border=\"1\" class=\"dataframe\">\n",
       "  <thead>\n",
       "    <tr style=\"text-align: right;\">\n",
       "      <th></th>\n",
       "      <th>0</th>\n",
       "    </tr>\n",
       "  </thead>\n",
       "  <tbody>\n",
       "    <tr>\n",
       "      <th>0</th>\n",
       "      <td>1</td>\n",
       "    </tr>\n",
       "    <tr>\n",
       "      <th>1</th>\n",
       "      <td>2</td>\n",
       "    </tr>\n",
       "    <tr>\n",
       "      <th>2</th>\n",
       "      <td>3</td>\n",
       "    </tr>\n",
       "    <tr>\n",
       "      <th>3</th>\n",
       "      <td>4</td>\n",
       "    </tr>\n",
       "  </tbody>\n",
       "</table>\n",
       "</div>"
      ],
      "text/plain": [
       "   0\n",
       "0  1\n",
       "1  2\n",
       "2  3\n",
       "3  4"
      ]
     },
     "execution_count": 2,
     "metadata": {},
     "output_type": "execute_result"
    }
   ],
   "source": [
    "d1 = pd.DataFrame([1,2,3,4])\n",
    "d1"
   ]
  },
  {
   "cell_type": "code",
   "execution_count": 13,
   "metadata": {},
   "outputs": [
    {
     "data": {
      "text/html": [
       "<div>\n",
       "<style scoped>\n",
       "    .dataframe tbody tr th:only-of-type {\n",
       "        vertical-align: middle;\n",
       "    }\n",
       "\n",
       "    .dataframe tbody tr th {\n",
       "        vertical-align: top;\n",
       "    }\n",
       "\n",
       "    .dataframe thead th {\n",
       "        text-align: right;\n",
       "    }\n",
       "</style>\n",
       "<table border=\"1\" class=\"dataframe\">\n",
       "  <thead>\n",
       "    <tr style=\"text-align: right;\">\n",
       "      <th></th>\n",
       "      <th>0</th>\n",
       "      <th>1</th>\n",
       "      <th>2</th>\n",
       "    </tr>\n",
       "  </thead>\n",
       "  <tbody>\n",
       "    <tr>\n",
       "      <th>0</th>\n",
       "      <td>Alekhya</td>\n",
       "      <td>10</td>\n",
       "      <td>2020</td>\n",
       "    </tr>\n",
       "    <tr>\n",
       "      <th>1</th>\n",
       "      <td>Naga</td>\n",
       "      <td>11</td>\n",
       "      <td>2020</td>\n",
       "    </tr>\n",
       "  </tbody>\n",
       "</table>\n",
       "</div>"
      ],
      "text/plain": [
       "         0   1     2\n",
       "0  Alekhya  10  2020\n",
       "1     Naga  11  2020"
      ]
     },
     "execution_count": 13,
     "metadata": {},
     "output_type": "execute_result"
    }
   ],
   "source": [
    "d2 = pd.DataFrame([[\"Alekhya\",10,2020],[\"Naga\",11,2020]])\n",
    "d2"
   ]
  },
  {
   "cell_type": "code",
   "execution_count": 4,
   "metadata": {
    "scrolled": true
   },
   "outputs": [
    {
     "data": {
      "text/html": [
       "<div>\n",
       "<style scoped>\n",
       "    .dataframe tbody tr th:only-of-type {\n",
       "        vertical-align: middle;\n",
       "    }\n",
       "\n",
       "    .dataframe tbody tr th {\n",
       "        vertical-align: top;\n",
       "    }\n",
       "\n",
       "    .dataframe thead th {\n",
       "        text-align: right;\n",
       "    }\n",
       "</style>\n",
       "<table border=\"1\" class=\"dataframe\">\n",
       "  <thead>\n",
       "    <tr style=\"text-align: right;\">\n",
       "      <th></th>\n",
       "      <th>Name</th>\n",
       "      <th>rollnum</th>\n",
       "      <th>year</th>\n",
       "    </tr>\n",
       "  </thead>\n",
       "  <tbody>\n",
       "    <tr>\n",
       "      <th>a</th>\n",
       "      <td>Alekhya</td>\n",
       "      <td>10</td>\n",
       "      <td>2020</td>\n",
       "    </tr>\n",
       "    <tr>\n",
       "      <th>b</th>\n",
       "      <td>Naga</td>\n",
       "      <td>11</td>\n",
       "      <td>2020</td>\n",
       "    </tr>\n",
       "  </tbody>\n",
       "</table>\n",
       "</div>"
      ],
      "text/plain": [
       "      Name  rollnum  year\n",
       "a  Alekhya       10  2020\n",
       "b     Naga       11  2020"
      ]
     },
     "execution_count": 4,
     "metadata": {},
     "output_type": "execute_result"
    }
   ],
   "source": [
    "d2 = pd.DataFrame([[\"Alekhya\",10,2020],[\"Naga\",11,2020]],\n",
    "                 columns = (\"Name\",\"rollnum\",\"year\"),\n",
    "                 index = ['a','b'])\n",
    "d2"
   ]
  },
  {
   "cell_type": "code",
   "execution_count": 17,
   "metadata": {},
   "outputs": [
    {
     "data": {
      "text/html": [
       "<div>\n",
       "<style scoped>\n",
       "    .dataframe tbody tr th:only-of-type {\n",
       "        vertical-align: middle;\n",
       "    }\n",
       "\n",
       "    .dataframe tbody tr th {\n",
       "        vertical-align: top;\n",
       "    }\n",
       "\n",
       "    .dataframe thead th {\n",
       "        text-align: right;\n",
       "    }\n",
       "</style>\n",
       "<table border=\"1\" class=\"dataframe\">\n",
       "  <thead>\n",
       "    <tr style=\"text-align: right;\">\n",
       "      <th></th>\n",
       "      <th>Name</th>\n",
       "      <th>rollnum</th>\n",
       "      <th>year</th>\n",
       "    </tr>\n",
       "  </thead>\n",
       "  <tbody>\n",
       "    <tr>\n",
       "      <th>a</th>\n",
       "      <td>Alekhya</td>\n",
       "      <td>10</td>\n",
       "      <td>2020</td>\n",
       "    </tr>\n",
       "    <tr>\n",
       "      <th>b</th>\n",
       "      <td>Naga</td>\n",
       "      <td>11</td>\n",
       "      <td>2020</td>\n",
       "    </tr>\n",
       "  </tbody>\n",
       "</table>\n",
       "</div>"
      ],
      "text/plain": [
       "      Name  rollnum  year\n",
       "a  Alekhya       10  2020\n",
       "b     Naga       11  2020"
      ]
     },
     "execution_count": 17,
     "metadata": {},
     "output_type": "execute_result"
    }
   ],
   "source": [
    "d2 = pd.DataFrame([[\"Alekhya\",10,2020],[\"Naga\",11,2020]],\n",
    "                 columns = (\"Name\",\"rollnum\",\"year\"),\n",
    "                 index = ['a','b'])\n",
    "d2"
   ]
  },
  {
   "cell_type": "code",
   "execution_count": 18,
   "metadata": {},
   "outputs": [],
   "source": [
    "d2.set_index('Name',inplace=True)"
   ]
  },
  {
   "cell_type": "code",
   "execution_count": 19,
   "metadata": {},
   "outputs": [
    {
     "data": {
      "text/html": [
       "<div>\n",
       "<style scoped>\n",
       "    .dataframe tbody tr th:only-of-type {\n",
       "        vertical-align: middle;\n",
       "    }\n",
       "\n",
       "    .dataframe tbody tr th {\n",
       "        vertical-align: top;\n",
       "    }\n",
       "\n",
       "    .dataframe thead th {\n",
       "        text-align: right;\n",
       "    }\n",
       "</style>\n",
       "<table border=\"1\" class=\"dataframe\">\n",
       "  <thead>\n",
       "    <tr style=\"text-align: right;\">\n",
       "      <th></th>\n",
       "      <th>rollnum</th>\n",
       "      <th>year</th>\n",
       "    </tr>\n",
       "    <tr>\n",
       "      <th>Name</th>\n",
       "      <th></th>\n",
       "      <th></th>\n",
       "    </tr>\n",
       "  </thead>\n",
       "  <tbody>\n",
       "    <tr>\n",
       "      <th>Alekhya</th>\n",
       "      <td>10</td>\n",
       "      <td>2020</td>\n",
       "    </tr>\n",
       "    <tr>\n",
       "      <th>Naga</th>\n",
       "      <td>11</td>\n",
       "      <td>2020</td>\n",
       "    </tr>\n",
       "  </tbody>\n",
       "</table>\n",
       "</div>"
      ],
      "text/plain": [
       "         rollnum  year\n",
       "Name                  \n",
       "Alekhya       10  2020\n",
       "Naga          11  2020"
      ]
     },
     "execution_count": 19,
     "metadata": {},
     "output_type": "execute_result"
    }
   ],
   "source": [
    "d2"
   ]
  },
  {
   "cell_type": "code",
   "execution_count": 20,
   "metadata": {},
   "outputs": [
    {
     "data": {
      "text/html": [
       "<div>\n",
       "<style scoped>\n",
       "    .dataframe tbody tr th:only-of-type {\n",
       "        vertical-align: middle;\n",
       "    }\n",
       "\n",
       "    .dataframe tbody tr th {\n",
       "        vertical-align: top;\n",
       "    }\n",
       "\n",
       "    .dataframe thead th {\n",
       "        text-align: right;\n",
       "    }\n",
       "</style>\n",
       "<table border=\"1\" class=\"dataframe\">\n",
       "  <thead>\n",
       "    <tr style=\"text-align: right;\">\n",
       "      <th></th>\n",
       "      <th>Name</th>\n",
       "      <th>rollnum</th>\n",
       "      <th>year</th>\n",
       "    </tr>\n",
       "  </thead>\n",
       "  <tbody>\n",
       "    <tr>\n",
       "      <th>0</th>\n",
       "      <td>Alekhya</td>\n",
       "      <td>10</td>\n",
       "      <td>2020</td>\n",
       "    </tr>\n",
       "    <tr>\n",
       "      <th>1</th>\n",
       "      <td>Naga</td>\n",
       "      <td>11</td>\n",
       "      <td>2020</td>\n",
       "    </tr>\n",
       "  </tbody>\n",
       "</table>\n",
       "</div>"
      ],
      "text/plain": [
       "      Name  rollnum  year\n",
       "0  Alekhya       10  2020\n",
       "1     Naga       11  2020"
      ]
     },
     "execution_count": 20,
     "metadata": {},
     "output_type": "execute_result"
    }
   ],
   "source": [
    "d2.reset_index(inplace=True)\n",
    "d2"
   ]
  },
  {
   "cell_type": "code",
   "execution_count": 5,
   "metadata": {},
   "outputs": [
    {
     "data": {
      "text/html": [
       "<div>\n",
       "<style scoped>\n",
       "    .dataframe tbody tr th:only-of-type {\n",
       "        vertical-align: middle;\n",
       "    }\n",
       "\n",
       "    .dataframe tbody tr th {\n",
       "        vertical-align: top;\n",
       "    }\n",
       "\n",
       "    .dataframe thead th {\n",
       "        text-align: right;\n",
       "    }\n",
       "</style>\n",
       "<table border=\"1\" class=\"dataframe\">\n",
       "  <thead>\n",
       "    <tr style=\"text-align: right;\">\n",
       "      <th></th>\n",
       "      <th>Name</th>\n",
       "      <th>rollnum</th>\n",
       "      <th>year</th>\n",
       "    </tr>\n",
       "  </thead>\n",
       "  <tbody>\n",
       "    <tr>\n",
       "      <th>a</th>\n",
       "      <td>Alekhya</td>\n",
       "      <td>10</td>\n",
       "      <td>2015</td>\n",
       "    </tr>\n",
       "    <tr>\n",
       "      <th>b</th>\n",
       "      <td>Naga</td>\n",
       "      <td>11</td>\n",
       "      <td>2016</td>\n",
       "    </tr>\n",
       "    <tr>\n",
       "      <th>c</th>\n",
       "      <td>Mounika</td>\n",
       "      <td>12</td>\n",
       "      <td>2017</td>\n",
       "    </tr>\n",
       "    <tr>\n",
       "      <th>d</th>\n",
       "      <td>Niharik</td>\n",
       "      <td>13</td>\n",
       "      <td>2018</td>\n",
       "    </tr>\n",
       "  </tbody>\n",
       "</table>\n",
       "</div>"
      ],
      "text/plain": [
       "      Name  rollnum  year\n",
       "a  Alekhya       10  2015\n",
       "b     Naga       11  2016\n",
       "c  Mounika       12  2017\n",
       "d  Niharik       13  2018"
      ]
     },
     "execution_count": 5,
     "metadata": {},
     "output_type": "execute_result"
    }
   ],
   "source": [
    "dict1 = {\"Name\" : [\"Alekhya\",\"Naga\",\"Mounika\",\"Niharik\"],\n",
    "        \"rollnum\" : [10,11,12,13],\n",
    "        \"year\" : [2015,2016,2017,2018]}\n",
    "d3 = pd.DataFrame(dict1, index = ['a','b','c','d'])\n",
    "d3"
   ]
  },
  {
   "cell_type": "code",
   "execution_count": 6,
   "metadata": {},
   "outputs": [
    {
     "data": {
      "text/plain": [
       "Index(['a', 'b', 'c', 'd'], dtype='object')"
      ]
     },
     "execution_count": 6,
     "metadata": {},
     "output_type": "execute_result"
    }
   ],
   "source": [
    "d3.index"
   ]
  },
  {
   "cell_type": "code",
   "execution_count": 12,
   "metadata": {},
   "outputs": [
    {
     "data": {
      "text/html": [
       "<div>\n",
       "<style scoped>\n",
       "    .dataframe tbody tr th:only-of-type {\n",
       "        vertical-align: middle;\n",
       "    }\n",
       "\n",
       "    .dataframe tbody tr th {\n",
       "        vertical-align: top;\n",
       "    }\n",
       "\n",
       "    .dataframe thead th {\n",
       "        text-align: right;\n",
       "    }\n",
       "</style>\n",
       "<table border=\"1\" class=\"dataframe\">\n",
       "  <thead>\n",
       "    <tr style=\"text-align: right;\">\n",
       "      <th></th>\n",
       "      <th>Name</th>\n",
       "      <th>rollnum</th>\n",
       "      <th>year</th>\n",
       "    </tr>\n",
       "  </thead>\n",
       "  <tbody>\n",
       "    <tr>\n",
       "      <th>a</th>\n",
       "      <td>Alekhya</td>\n",
       "      <td>10</td>\n",
       "      <td>2015</td>\n",
       "    </tr>\n",
       "    <tr>\n",
       "      <th>b</th>\n",
       "      <td>Naga</td>\n",
       "      <td>11</td>\n",
       "      <td>2016</td>\n",
       "    </tr>\n",
       "    <tr>\n",
       "      <th>c</th>\n",
       "      <td>Mounika</td>\n",
       "      <td>12</td>\n",
       "      <td>2017</td>\n",
       "    </tr>\n",
       "    <tr>\n",
       "      <th>d</th>\n",
       "      <td>Niharik</td>\n",
       "      <td>13</td>\n",
       "      <td>2018</td>\n",
       "    </tr>\n",
       "  </tbody>\n",
       "</table>\n",
       "</div>"
      ],
      "text/plain": [
       "      Name  rollnum  year\n",
       "a  Alekhya       10  2015\n",
       "b     Naga       11  2016\n",
       "c  Mounika       12  2017\n",
       "d  Niharik       13  2018"
      ]
     },
     "execution_count": 12,
     "metadata": {},
     "output_type": "execute_result"
    }
   ],
   "source": [
    "d3"
   ]
  },
  {
   "cell_type": "code",
   "execution_count": null,
   "metadata": {},
   "outputs": [],
   "source": []
  },
  {
   "cell_type": "code",
   "execution_count": 7,
   "metadata": {},
   "outputs": [
    {
     "data": {
      "text/plain": [
       "Index(['Name', 'rollnum', 'year'], dtype='object')"
      ]
     },
     "execution_count": 7,
     "metadata": {},
     "output_type": "execute_result"
    }
   ],
   "source": [
    "d3.columns"
   ]
  },
  {
   "cell_type": "code",
   "execution_count": 8,
   "metadata": {},
   "outputs": [
    {
     "data": {
      "text/plain": [
       "(4, 3)"
      ]
     },
     "execution_count": 8,
     "metadata": {},
     "output_type": "execute_result"
    }
   ],
   "source": [
    "d3.shape"
   ]
  },
  {
   "cell_type": "markdown",
   "metadata": {},
   "source": [
    "- Accessing elements"
   ]
  },
  {
   "cell_type": "code",
   "execution_count": 9,
   "metadata": {},
   "outputs": [
    {
     "data": {
      "text/plain": [
       "a    Alekhya\n",
       "b       Naga\n",
       "c    Mounika\n",
       "d    Niharik\n",
       "Name: Name, dtype: object"
      ]
     },
     "execution_count": 9,
     "metadata": {},
     "output_type": "execute_result"
    }
   ],
   "source": [
    "d3['Name']# getting column"
   ]
  },
  {
   "cell_type": "code",
   "execution_count": 10,
   "metadata": {},
   "outputs": [
    {
     "data": {
      "text/plain": [
       "'Naga'"
      ]
     },
     "execution_count": 10,
     "metadata": {},
     "output_type": "execute_result"
    }
   ],
   "source": [
    "\n",
    "d3[\"Name\"][1]# getting value"
   ]
  },
  {
   "cell_type": "code",
   "execution_count": 11,
   "metadata": {},
   "outputs": [
    {
     "data": {
      "text/html": [
       "<div>\n",
       "<style scoped>\n",
       "    .dataframe tbody tr th:only-of-type {\n",
       "        vertical-align: middle;\n",
       "    }\n",
       "\n",
       "    .dataframe tbody tr th {\n",
       "        vertical-align: top;\n",
       "    }\n",
       "\n",
       "    .dataframe thead th {\n",
       "        text-align: right;\n",
       "    }\n",
       "</style>\n",
       "<table border=\"1\" class=\"dataframe\">\n",
       "  <thead>\n",
       "    <tr style=\"text-align: right;\">\n",
       "      <th></th>\n",
       "      <th>Name</th>\n",
       "      <th>rollnum</th>\n",
       "      <th>year</th>\n",
       "    </tr>\n",
       "  </thead>\n",
       "  <tbody>\n",
       "    <tr>\n",
       "      <th>d</th>\n",
       "      <td>Niharik</td>\n",
       "      <td>13</td>\n",
       "      <td>2018</td>\n",
       "    </tr>\n",
       "  </tbody>\n",
       "</table>\n",
       "</div>"
      ],
      "text/plain": [
       "      Name  rollnum  year\n",
       "d  Niharik       13  2018"
      ]
     },
     "execution_count": 11,
     "metadata": {},
     "output_type": "execute_result"
    }
   ],
   "source": [
    "\n",
    "d3[-1:]"
   ]
  },
  {
   "cell_type": "code",
   "execution_count": 21,
   "metadata": {},
   "outputs": [
    {
     "data": {
      "text/html": [
       "<div>\n",
       "<style scoped>\n",
       "    .dataframe tbody tr th:only-of-type {\n",
       "        vertical-align: middle;\n",
       "    }\n",
       "\n",
       "    .dataframe tbody tr th {\n",
       "        vertical-align: top;\n",
       "    }\n",
       "\n",
       "    .dataframe thead th {\n",
       "        text-align: right;\n",
       "    }\n",
       "</style>\n",
       "<table border=\"1\" class=\"dataframe\">\n",
       "  <thead>\n",
       "    <tr style=\"text-align: right;\">\n",
       "      <th></th>\n",
       "      <th>Name</th>\n",
       "      <th>rollnum</th>\n",
       "    </tr>\n",
       "  </thead>\n",
       "  <tbody>\n",
       "    <tr>\n",
       "      <th>a</th>\n",
       "      <td>Alekhya</td>\n",
       "      <td>10</td>\n",
       "    </tr>\n",
       "    <tr>\n",
       "      <th>b</th>\n",
       "      <td>Naga</td>\n",
       "      <td>11</td>\n",
       "    </tr>\n",
       "    <tr>\n",
       "      <th>c</th>\n",
       "      <td>Mounika</td>\n",
       "      <td>12</td>\n",
       "    </tr>\n",
       "    <tr>\n",
       "      <th>d</th>\n",
       "      <td>Niharik</td>\n",
       "      <td>13</td>\n",
       "    </tr>\n",
       "  </tbody>\n",
       "</table>\n",
       "</div>"
      ],
      "text/plain": [
       "      Name  rollnum\n",
       "a  Alekhya       10\n",
       "b     Naga       11\n",
       "c  Mounika       12\n",
       "d  Niharik       13"
      ]
     },
     "execution_count": 21,
     "metadata": {},
     "output_type": "execute_result"
    }
   ],
   "source": [
    "d3[['Name','rollnum']]"
   ]
  },
  {
   "cell_type": "code",
   "execution_count": 25,
   "metadata": {},
   "outputs": [
    {
     "data": {
      "text/html": [
       "<div>\n",
       "<style scoped>\n",
       "    .dataframe tbody tr th:only-of-type {\n",
       "        vertical-align: middle;\n",
       "    }\n",
       "\n",
       "    .dataframe tbody tr th {\n",
       "        vertical-align: top;\n",
       "    }\n",
       "\n",
       "    .dataframe thead th {\n",
       "        text-align: right;\n",
       "    }\n",
       "</style>\n",
       "<table border=\"1\" class=\"dataframe\">\n",
       "  <thead>\n",
       "    <tr style=\"text-align: right;\">\n",
       "      <th></th>\n",
       "      <th>Name</th>\n",
       "      <th>rollnum</th>\n",
       "      <th>year</th>\n",
       "    </tr>\n",
       "  </thead>\n",
       "  <tbody>\n",
       "    <tr>\n",
       "      <th>a</th>\n",
       "      <td>Alekhya</td>\n",
       "      <td>10</td>\n",
       "      <td>2015</td>\n",
       "    </tr>\n",
       "    <tr>\n",
       "      <th>b</th>\n",
       "      <td>Naga</td>\n",
       "      <td>11</td>\n",
       "      <td>2016</td>\n",
       "    </tr>\n",
       "    <tr>\n",
       "      <th>c</th>\n",
       "      <td>Mounika</td>\n",
       "      <td>12</td>\n",
       "      <td>2017</td>\n",
       "    </tr>\n",
       "    <tr>\n",
       "      <th>d</th>\n",
       "      <td>Niharik</td>\n",
       "      <td>13</td>\n",
       "      <td>2018</td>\n",
       "    </tr>\n",
       "  </tbody>\n",
       "</table>\n",
       "</div>"
      ],
      "text/plain": [
       "      Name  rollnum  year\n",
       "a  Alekhya       10  2015\n",
       "b     Naga       11  2016\n",
       "c  Mounika       12  2017\n",
       "d  Niharik       13  2018"
      ]
     },
     "execution_count": 25,
     "metadata": {},
     "output_type": "execute_result"
    }
   ],
   "source": [
    "d3"
   ]
  },
  {
   "cell_type": "code",
   "execution_count": 27,
   "metadata": {},
   "outputs": [
    {
     "data": {
      "text/plain": [
       "Name       Mounika\n",
       "rollnum         12\n",
       "year          2017\n",
       "Name: c, dtype: object"
      ]
     },
     "execution_count": 27,
     "metadata": {},
     "output_type": "execute_result"
    }
   ],
   "source": [
    "d3.loc[\"c\"]"
   ]
  },
  {
   "cell_type": "code",
   "execution_count": 29,
   "metadata": {},
   "outputs": [
    {
     "data": {
      "text/html": [
       "<div>\n",
       "<style scoped>\n",
       "    .dataframe tbody tr th:only-of-type {\n",
       "        vertical-align: middle;\n",
       "    }\n",
       "\n",
       "    .dataframe tbody tr th {\n",
       "        vertical-align: top;\n",
       "    }\n",
       "\n",
       "    .dataframe thead th {\n",
       "        text-align: right;\n",
       "    }\n",
       "</style>\n",
       "<table border=\"1\" class=\"dataframe\">\n",
       "  <thead>\n",
       "    <tr style=\"text-align: right;\">\n",
       "      <th></th>\n",
       "      <th>Name</th>\n",
       "      <th>rollnum</th>\n",
       "      <th>year</th>\n",
       "    </tr>\n",
       "  </thead>\n",
       "  <tbody>\n",
       "    <tr>\n",
       "      <th>a</th>\n",
       "      <td>Alekhya</td>\n",
       "      <td>10</td>\n",
       "      <td>2015</td>\n",
       "    </tr>\n",
       "    <tr>\n",
       "      <th>b</th>\n",
       "      <td>Naga</td>\n",
       "      <td>11</td>\n",
       "      <td>2016</td>\n",
       "    </tr>\n",
       "    <tr>\n",
       "      <th>c</th>\n",
       "      <td>Mounika</td>\n",
       "      <td>12</td>\n",
       "      <td>2017</td>\n",
       "    </tr>\n",
       "  </tbody>\n",
       "</table>\n",
       "</div>"
      ],
      "text/plain": [
       "      Name  rollnum  year\n",
       "a  Alekhya       10  2015\n",
       "b     Naga       11  2016\n",
       "c  Mounika       12  2017"
      ]
     },
     "execution_count": 29,
     "metadata": {},
     "output_type": "execute_result"
    }
   ],
   "source": [
    "\n",
    "d3.loc[:\"c\"]"
   ]
  },
  {
   "cell_type": "code",
   "execution_count": 31,
   "metadata": {},
   "outputs": [
    {
     "data": {
      "text/html": [
       "<div>\n",
       "<style scoped>\n",
       "    .dataframe tbody tr th:only-of-type {\n",
       "        vertical-align: middle;\n",
       "    }\n",
       "\n",
       "    .dataframe tbody tr th {\n",
       "        vertical-align: top;\n",
       "    }\n",
       "\n",
       "    .dataframe thead th {\n",
       "        text-align: right;\n",
       "    }\n",
       "</style>\n",
       "<table border=\"1\" class=\"dataframe\">\n",
       "  <thead>\n",
       "    <tr style=\"text-align: right;\">\n",
       "      <th></th>\n",
       "      <th>Name</th>\n",
       "      <th>rollnum</th>\n",
       "      <th>year</th>\n",
       "    </tr>\n",
       "  </thead>\n",
       "  <tbody>\n",
       "    <tr>\n",
       "      <th>a</th>\n",
       "      <td>Alekhya</td>\n",
       "      <td>10</td>\n",
       "      <td>2015</td>\n",
       "    </tr>\n",
       "    <tr>\n",
       "      <th>b</th>\n",
       "      <td>Naga</td>\n",
       "      <td>11</td>\n",
       "      <td>2016</td>\n",
       "    </tr>\n",
       "    <tr>\n",
       "      <th>c</th>\n",
       "      <td>Mounika</td>\n",
       "      <td>12</td>\n",
       "      <td>2017</td>\n",
       "    </tr>\n",
       "    <tr>\n",
       "      <th>d</th>\n",
       "      <td>Niharik</td>\n",
       "      <td>13</td>\n",
       "      <td>2018</td>\n",
       "    </tr>\n",
       "  </tbody>\n",
       "</table>\n",
       "</div>"
      ],
      "text/plain": [
       "      Name  rollnum  year\n",
       "a  Alekhya       10  2015\n",
       "b     Naga       11  2016\n",
       "c  Mounika       12  2017\n",
       "d  Niharik       13  2018"
      ]
     },
     "execution_count": 31,
     "metadata": {},
     "output_type": "execute_result"
    }
   ],
   "source": [
    "d3.loc[:,\"Name\":]"
   ]
  },
  {
   "cell_type": "code",
   "execution_count": 33,
   "metadata": {},
   "outputs": [
    {
     "data": {
      "text/html": [
       "<div>\n",
       "<style scoped>\n",
       "    .dataframe tbody tr th:only-of-type {\n",
       "        vertical-align: middle;\n",
       "    }\n",
       "\n",
       "    .dataframe tbody tr th {\n",
       "        vertical-align: top;\n",
       "    }\n",
       "\n",
       "    .dataframe thead th {\n",
       "        text-align: right;\n",
       "    }\n",
       "</style>\n",
       "<table border=\"1\" class=\"dataframe\">\n",
       "  <thead>\n",
       "    <tr style=\"text-align: right;\">\n",
       "      <th></th>\n",
       "      <th>Name</th>\n",
       "      <th>rollnum</th>\n",
       "      <th>year</th>\n",
       "    </tr>\n",
       "  </thead>\n",
       "  <tbody>\n",
       "    <tr>\n",
       "      <th>a</th>\n",
       "      <td>Alekhya</td>\n",
       "      <td>10</td>\n",
       "      <td>2015</td>\n",
       "    </tr>\n",
       "    <tr>\n",
       "      <th>b</th>\n",
       "      <td>Naga</td>\n",
       "      <td>11</td>\n",
       "      <td>2016</td>\n",
       "    </tr>\n",
       "    <tr>\n",
       "      <th>c</th>\n",
       "      <td>Mounika</td>\n",
       "      <td>12</td>\n",
       "      <td>2017</td>\n",
       "    </tr>\n",
       "  </tbody>\n",
       "</table>\n",
       "</div>"
      ],
      "text/plain": [
       "      Name  rollnum  year\n",
       "a  Alekhya       10  2015\n",
       "b     Naga       11  2016\n",
       "c  Mounika       12  2017"
      ]
     },
     "execution_count": 33,
     "metadata": {},
     "output_type": "execute_result"
    }
   ],
   "source": [
    "d3.loc[:'c']"
   ]
  },
  {
   "cell_type": "code",
   "execution_count": 34,
   "metadata": {},
   "outputs": [
    {
     "data": {
      "text/html": [
       "<div>\n",
       "<style scoped>\n",
       "    .dataframe tbody tr th:only-of-type {\n",
       "        vertical-align: middle;\n",
       "    }\n",
       "\n",
       "    .dataframe tbody tr th {\n",
       "        vertical-align: top;\n",
       "    }\n",
       "\n",
       "    .dataframe thead th {\n",
       "        text-align: right;\n",
       "    }\n",
       "</style>\n",
       "<table border=\"1\" class=\"dataframe\">\n",
       "  <thead>\n",
       "    <tr style=\"text-align: right;\">\n",
       "      <th></th>\n",
       "      <th>Name</th>\n",
       "      <th>rollnum</th>\n",
       "      <th>year</th>\n",
       "    </tr>\n",
       "  </thead>\n",
       "  <tbody>\n",
       "    <tr>\n",
       "      <th>a</th>\n",
       "      <td>Alekhya</td>\n",
       "      <td>10</td>\n",
       "      <td>2015</td>\n",
       "    </tr>\n",
       "    <tr>\n",
       "      <th>b</th>\n",
       "      <td>Naga</td>\n",
       "      <td>11</td>\n",
       "      <td>2016</td>\n",
       "    </tr>\n",
       "  </tbody>\n",
       "</table>\n",
       "</div>"
      ],
      "text/plain": [
       "      Name  rollnum  year\n",
       "a  Alekhya       10  2015\n",
       "b     Naga       11  2016"
      ]
     },
     "execution_count": 34,
     "metadata": {},
     "output_type": "execute_result"
    }
   ],
   "source": [
    "d3.iloc[:2]"
   ]
  },
  {
   "cell_type": "code",
   "execution_count": 35,
   "metadata": {},
   "outputs": [
    {
     "data": {
      "text/html": [
       "<div>\n",
       "<style scoped>\n",
       "    .dataframe tbody tr th:only-of-type {\n",
       "        vertical-align: middle;\n",
       "    }\n",
       "\n",
       "    .dataframe tbody tr th {\n",
       "        vertical-align: top;\n",
       "    }\n",
       "\n",
       "    .dataframe thead th {\n",
       "        text-align: right;\n",
       "    }\n",
       "</style>\n",
       "<table border=\"1\" class=\"dataframe\">\n",
       "  <thead>\n",
       "    <tr style=\"text-align: right;\">\n",
       "      <th></th>\n",
       "      <th>Name</th>\n",
       "    </tr>\n",
       "  </thead>\n",
       "  <tbody>\n",
       "    <tr>\n",
       "      <th>b</th>\n",
       "      <td>Naga</td>\n",
       "    </tr>\n",
       "    <tr>\n",
       "      <th>c</th>\n",
       "      <td>Mounika</td>\n",
       "    </tr>\n",
       "    <tr>\n",
       "      <th>d</th>\n",
       "      <td>Niharik</td>\n",
       "    </tr>\n",
       "  </tbody>\n",
       "</table>\n",
       "</div>"
      ],
      "text/plain": [
       "      Name\n",
       "b     Naga\n",
       "c  Mounika\n",
       "d  Niharik"
      ]
     },
     "execution_count": 35,
     "metadata": {},
     "output_type": "execute_result"
    }
   ],
   "source": [
    "d3.iloc[1:4,:1]"
   ]
  },
  {
   "cell_type": "code",
   "execution_count": 36,
   "metadata": {},
   "outputs": [
    {
     "data": {
      "text/html": [
       "<div>\n",
       "<style scoped>\n",
       "    .dataframe tbody tr th:only-of-type {\n",
       "        vertical-align: middle;\n",
       "    }\n",
       "\n",
       "    .dataframe tbody tr th {\n",
       "        vertical-align: top;\n",
       "    }\n",
       "\n",
       "    .dataframe thead th {\n",
       "        text-align: right;\n",
       "    }\n",
       "</style>\n",
       "<table border=\"1\" class=\"dataframe\">\n",
       "  <thead>\n",
       "    <tr style=\"text-align: right;\">\n",
       "      <th></th>\n",
       "      <th>fname</th>\n",
       "      <th>lname</th>\n",
       "      <th>marks</th>\n",
       "    </tr>\n",
       "  </thead>\n",
       "  <tbody>\n",
       "    <tr>\n",
       "      <th>0</th>\n",
       "      <td>a</td>\n",
       "      <td>sai</td>\n",
       "      <td>31</td>\n",
       "    </tr>\n",
       "    <tr>\n",
       "      <th>1</th>\n",
       "      <td>b</td>\n",
       "      <td>ganesh</td>\n",
       "      <td>85</td>\n",
       "    </tr>\n",
       "    <tr>\n",
       "      <th>2</th>\n",
       "      <td>c</td>\n",
       "      <td>vijay</td>\n",
       "      <td>23</td>\n",
       "    </tr>\n",
       "    <tr>\n",
       "      <th>3</th>\n",
       "      <td>d</td>\n",
       "      <td>raju</td>\n",
       "      <td>20</td>\n",
       "    </tr>\n",
       "    <tr>\n",
       "      <th>4</th>\n",
       "      <td>e</td>\n",
       "      <td>ravi</td>\n",
       "      <td>55</td>\n",
       "    </tr>\n",
       "  </tbody>\n",
       "</table>\n",
       "</div>"
      ],
      "text/plain": [
       "  fname   lname  marks\n",
       "0     a     sai     31\n",
       "1     b  ganesh     85\n",
       "2     c   vijay     23\n",
       "3     d    raju     20\n",
       "4     e    ravi     55"
      ]
     },
     "execution_count": 36,
     "metadata": {},
     "output_type": "execute_result"
    }
   ],
   "source": [
    "k={'fname':['a','b','c','d','e'],\"lname\":['sai','ganesh','vijay','raju','ravi'],'marks':[31,85,23,20,55]}\n",
    "df=pd.DataFrame(k)\n",
    "df"
   ]
  },
  {
   "cell_type": "code",
   "execution_count": 37,
   "metadata": {},
   "outputs": [
    {
     "data": {
      "text/html": [
       "<div>\n",
       "<style scoped>\n",
       "    .dataframe tbody tr th:only-of-type {\n",
       "        vertical-align: middle;\n",
       "    }\n",
       "\n",
       "    .dataframe tbody tr th {\n",
       "        vertical-align: top;\n",
       "    }\n",
       "\n",
       "    .dataframe thead th {\n",
       "        text-align: right;\n",
       "    }\n",
       "</style>\n",
       "<table border=\"1\" class=\"dataframe\">\n",
       "  <thead>\n",
       "    <tr style=\"text-align: right;\">\n",
       "      <th></th>\n",
       "      <th>fname</th>\n",
       "      <th>lname</th>\n",
       "      <th>marks</th>\n",
       "      <th>sresults</th>\n",
       "    </tr>\n",
       "  </thead>\n",
       "  <tbody>\n",
       "    <tr>\n",
       "      <th>0</th>\n",
       "      <td>a</td>\n",
       "      <td>sai</td>\n",
       "      <td>31</td>\n",
       "      <td>second</td>\n",
       "    </tr>\n",
       "    <tr>\n",
       "      <th>1</th>\n",
       "      <td>b</td>\n",
       "      <td>ganesh</td>\n",
       "      <td>85</td>\n",
       "      <td>first</td>\n",
       "    </tr>\n",
       "    <tr>\n",
       "      <th>2</th>\n",
       "      <td>c</td>\n",
       "      <td>vijay</td>\n",
       "      <td>23</td>\n",
       "      <td>fail</td>\n",
       "    </tr>\n",
       "    <tr>\n",
       "      <th>3</th>\n",
       "      <td>d</td>\n",
       "      <td>raju</td>\n",
       "      <td>20</td>\n",
       "      <td>fail</td>\n",
       "    </tr>\n",
       "    <tr>\n",
       "      <th>4</th>\n",
       "      <td>e</td>\n",
       "      <td>ravi</td>\n",
       "      <td>55</td>\n",
       "      <td>second</td>\n",
       "    </tr>\n",
       "  </tbody>\n",
       "</table>\n",
       "</div>"
      ],
      "text/plain": [
       "  fname   lname  marks sresults\n",
       "0     a     sai     31   second\n",
       "1     b  ganesh     85    first\n",
       "2     c   vijay     23     fail\n",
       "3     d    raju     20     fail\n",
       "4     e    ravi     55   second"
      ]
     },
     "execution_count": 37,
     "metadata": {},
     "output_type": "execute_result"
    }
   ],
   "source": [
    "r=[]\n",
    "for i in df['marks']:\n",
    "    if i>0 and i<=25:\n",
    "        r.append(\"fail\")\n",
    "    elif i>25 and i<60:\n",
    "        r.append(\"second\")\n",
    "    else:\n",
    "        r.append(\"first\")\n",
    "df['sresults']=r\n",
    "df"
   ]
  },
  {
   "cell_type": "code",
   "execution_count": 38,
   "metadata": {},
   "outputs": [
    {
     "data": {
      "text/html": [
       "<div>\n",
       "<style scoped>\n",
       "    .dataframe tbody tr th:only-of-type {\n",
       "        vertical-align: middle;\n",
       "    }\n",
       "\n",
       "    .dataframe tbody tr th {\n",
       "        vertical-align: top;\n",
       "    }\n",
       "\n",
       "    .dataframe thead th {\n",
       "        text-align: right;\n",
       "    }\n",
       "</style>\n",
       "<table border=\"1\" class=\"dataframe\">\n",
       "  <thead>\n",
       "    <tr style=\"text-align: right;\">\n",
       "      <th></th>\n",
       "      <th>fname</th>\n",
       "      <th>lname</th>\n",
       "      <th>marks</th>\n",
       "      <th>sresults</th>\n",
       "    </tr>\n",
       "  </thead>\n",
       "  <tbody>\n",
       "    <tr>\n",
       "      <th>2</th>\n",
       "      <td>c</td>\n",
       "      <td>vijay</td>\n",
       "      <td>23</td>\n",
       "      <td>fail</td>\n",
       "    </tr>\n",
       "    <tr>\n",
       "      <th>3</th>\n",
       "      <td>d</td>\n",
       "      <td>raju</td>\n",
       "      <td>20</td>\n",
       "      <td>fail</td>\n",
       "    </tr>\n",
       "  </tbody>\n",
       "</table>\n",
       "</div>"
      ],
      "text/plain": [
       "  fname  lname  marks sresults\n",
       "2     c  vijay     23     fail\n",
       "3     d   raju     20     fail"
      ]
     },
     "execution_count": 38,
     "metadata": {},
     "output_type": "execute_result"
    }
   ],
   "source": [
    "# using single condition\n",
    "\n",
    "#df['sresults']=='fail'\n",
    "\n",
    "df[df['sresults']=='fail']"
   ]
  },
  {
   "cell_type": "code",
   "execution_count": 39,
   "metadata": {},
   "outputs": [
    {
     "data": {
      "text/html": [
       "<div>\n",
       "<style scoped>\n",
       "    .dataframe tbody tr th:only-of-type {\n",
       "        vertical-align: middle;\n",
       "    }\n",
       "\n",
       "    .dataframe tbody tr th {\n",
       "        vertical-align: top;\n",
       "    }\n",
       "\n",
       "    .dataframe thead th {\n",
       "        text-align: right;\n",
       "    }\n",
       "</style>\n",
       "<table border=\"1\" class=\"dataframe\">\n",
       "  <thead>\n",
       "    <tr style=\"text-align: right;\">\n",
       "      <th></th>\n",
       "      <th>fname</th>\n",
       "      <th>lname</th>\n",
       "      <th>marks</th>\n",
       "      <th>sresults</th>\n",
       "    </tr>\n",
       "  </thead>\n",
       "  <tbody>\n",
       "    <tr>\n",
       "      <th>1</th>\n",
       "      <td>b</td>\n",
       "      <td>ganesh</td>\n",
       "      <td>85</td>\n",
       "      <td>first</td>\n",
       "    </tr>\n",
       "    <tr>\n",
       "      <th>4</th>\n",
       "      <td>e</td>\n",
       "      <td>ravi</td>\n",
       "      <td>55</td>\n",
       "      <td>second</td>\n",
       "    </tr>\n",
       "  </tbody>\n",
       "</table>\n",
       "</div>"
      ],
      "text/plain": [
       "  fname   lname  marks sresults\n",
       "1     b  ganesh     85    first\n",
       "4     e    ravi     55   second"
      ]
     },
     "execution_count": 39,
     "metadata": {},
     "output_type": "execute_result"
    }
   ],
   "source": [
    "df[df['marks']>=50]"
   ]
  },
  {
   "cell_type": "code",
   "execution_count": 40,
   "metadata": {},
   "outputs": [
    {
     "data": {
      "text/html": [
       "<div>\n",
       "<style scoped>\n",
       "    .dataframe tbody tr th:only-of-type {\n",
       "        vertical-align: middle;\n",
       "    }\n",
       "\n",
       "    .dataframe tbody tr th {\n",
       "        vertical-align: top;\n",
       "    }\n",
       "\n",
       "    .dataframe thead th {\n",
       "        text-align: right;\n",
       "    }\n",
       "</style>\n",
       "<table border=\"1\" class=\"dataframe\">\n",
       "  <thead>\n",
       "    <tr style=\"text-align: right;\">\n",
       "      <th></th>\n",
       "      <th>fname</th>\n",
       "      <th>lname</th>\n",
       "      <th>marks</th>\n",
       "      <th>sresults</th>\n",
       "    </tr>\n",
       "  </thead>\n",
       "  <tbody>\n",
       "    <tr>\n",
       "      <th>3</th>\n",
       "      <td>d</td>\n",
       "      <td>raju</td>\n",
       "      <td>20</td>\n",
       "      <td>fail</td>\n",
       "    </tr>\n",
       "  </tbody>\n",
       "</table>\n",
       "</div>"
      ],
      "text/plain": [
       "  fname lname  marks sresults\n",
       "3     d  raju     20     fail"
      ]
     },
     "execution_count": 40,
     "metadata": {},
     "output_type": "execute_result"
    }
   ],
   "source": [
    "df[(df['marks']<22) & (df['sresults']=='fail')]"
   ]
  },
  {
   "cell_type": "code",
   "execution_count": null,
   "metadata": {},
   "outputs": [],
   "source": []
  },
  {
   "cell_type": "markdown",
   "metadata": {},
   "source": [
    "- Load DataSet"
   ]
  },
  {
   "cell_type": "markdown",
   "metadata": {},
   "source": [
    "### read the data into dataframe using files\n",
    "- csv\n",
    "- pd.read_csv(\"filename.csv\")\n",
    "- excel\n",
    "- pd.read_excel(\"filename.xlsx)\n",
    "- json\n",
    "- pd.read_json(\"filename.json\")\n",
    "- html\n",
    "- pd.read_html(\"fileurl\")"
   ]
  },
  {
   "cell_type": "code",
   "execution_count": 68,
   "metadata": {},
   "outputs": [
    {
     "data": {
      "text/html": [
       "<div>\n",
       "<style scoped>\n",
       "    .dataframe tbody tr th:only-of-type {\n",
       "        vertical-align: middle;\n",
       "    }\n",
       "\n",
       "    .dataframe tbody tr th {\n",
       "        vertical-align: top;\n",
       "    }\n",
       "\n",
       "    .dataframe thead th {\n",
       "        text-align: right;\n",
       "    }\n",
       "</style>\n",
       "<table border=\"1\" class=\"dataframe\">\n",
       "  <thead>\n",
       "    <tr style=\"text-align: right;\">\n",
       "      <th></th>\n",
       "      <th>s.no</th>\n",
       "      <th>est</th>\n",
       "      <th>temparature</th>\n",
       "      <th>winspeed</th>\n",
       "      <th>humidity</th>\n",
       "      <th>event</th>\n",
       "      <th>city</th>\n",
       "    </tr>\n",
       "  </thead>\n",
       "  <tbody>\n",
       "    <tr>\n",
       "      <th>0</th>\n",
       "      <td>1</td>\n",
       "      <td>1/2/2019</td>\n",
       "      <td>30</td>\n",
       "      <td>12</td>\n",
       "      <td>12.50</td>\n",
       "      <td>rain</td>\n",
       "      <td>guntur</td>\n",
       "    </tr>\n",
       "    <tr>\n",
       "      <th>1</th>\n",
       "      <td>1</td>\n",
       "      <td>1/2/2019</td>\n",
       "      <td>33</td>\n",
       "      <td>14</td>\n",
       "      <td>14.23</td>\n",
       "      <td>rain</td>\n",
       "      <td>vijayawada</td>\n",
       "    </tr>\n",
       "    <tr>\n",
       "      <th>2</th>\n",
       "      <td>2</td>\n",
       "      <td>1/3/2019</td>\n",
       "      <td>43</td>\n",
       "      <td>13</td>\n",
       "      <td>43.13</td>\n",
       "      <td>rain</td>\n",
       "      <td>vizag</td>\n",
       "    </tr>\n",
       "    <tr>\n",
       "      <th>3</th>\n",
       "      <td>3</td>\n",
       "      <td>1/4/2019</td>\n",
       "      <td>55</td>\n",
       "      <td>8</td>\n",
       "      <td>55.80</td>\n",
       "      <td>fullair</td>\n",
       "      <td>guntur</td>\n",
       "    </tr>\n",
       "    <tr>\n",
       "      <th>4</th>\n",
       "      <td>4</td>\n",
       "      <td>1/5/2019</td>\n",
       "      <td>66</td>\n",
       "      <td>10</td>\n",
       "      <td>66.10</td>\n",
       "      <td>cold</td>\n",
       "      <td>vijayawada</td>\n",
       "    </tr>\n",
       "    <tr>\n",
       "      <th>5</th>\n",
       "      <td>5</td>\n",
       "      <td>1/6/2019</td>\n",
       "      <td>34</td>\n",
       "      <td>15</td>\n",
       "      <td>34.15</td>\n",
       "      <td>cold</td>\n",
       "      <td>vizag</td>\n",
       "    </tr>\n",
       "    <tr>\n",
       "      <th>6</th>\n",
       "      <td>6</td>\n",
       "      <td>1/7/2019</td>\n",
       "      <td>76</td>\n",
       "      <td>17</td>\n",
       "      <td>76.17</td>\n",
       "      <td>fullair</td>\n",
       "      <td>guntur</td>\n",
       "    </tr>\n",
       "    <tr>\n",
       "      <th>7</th>\n",
       "      <td>7</td>\n",
       "      <td>1/8/2019</td>\n",
       "      <td>89</td>\n",
       "      <td>23</td>\n",
       "      <td>89.23</td>\n",
       "      <td>cold</td>\n",
       "      <td>vijayawada</td>\n",
       "    </tr>\n",
       "    <tr>\n",
       "      <th>8</th>\n",
       "      <td>8</td>\n",
       "      <td>1/9/2019</td>\n",
       "      <td>23</td>\n",
       "      <td>9</td>\n",
       "      <td>23.90</td>\n",
       "      <td>fullair</td>\n",
       "      <td>vizag</td>\n",
       "    </tr>\n",
       "    <tr>\n",
       "      <th>9</th>\n",
       "      <td>9</td>\n",
       "      <td>1/10/2019</td>\n",
       "      <td>90</td>\n",
       "      <td>11</td>\n",
       "      <td>90.11</td>\n",
       "      <td>cold</td>\n",
       "      <td>guntur</td>\n",
       "    </tr>\n",
       "    <tr>\n",
       "      <th>10</th>\n",
       "      <td>10</td>\n",
       "      <td>1/11/2019</td>\n",
       "      <td>65</td>\n",
       "      <td>18</td>\n",
       "      <td>65.18</td>\n",
       "      <td>fullair</td>\n",
       "      <td>vijayawada</td>\n",
       "    </tr>\n",
       "    <tr>\n",
       "      <th>11</th>\n",
       "      <td>11</td>\n",
       "      <td>1/12/2019</td>\n",
       "      <td>78</td>\n",
       "      <td>20</td>\n",
       "      <td>78.20</td>\n",
       "      <td>fullair</td>\n",
       "      <td>vizag</td>\n",
       "    </tr>\n",
       "  </tbody>\n",
       "</table>\n",
       "</div>"
      ],
      "text/plain": [
       "    s.no        est  temparature  winspeed  humidity    event        city\n",
       "0      1   1/2/2019           30        12     12.50     rain      guntur\n",
       "1      1   1/2/2019           33        14     14.23     rain  vijayawada\n",
       "2      2   1/3/2019           43        13     43.13     rain       vizag\n",
       "3      3   1/4/2019           55         8     55.80  fullair      guntur\n",
       "4      4   1/5/2019           66        10     66.10     cold  vijayawada\n",
       "5      5   1/6/2019           34        15     34.15     cold       vizag\n",
       "6      6   1/7/2019           76        17     76.17  fullair      guntur\n",
       "7      7   1/8/2019           89        23     89.23     cold  vijayawada\n",
       "8      8   1/9/2019           23         9     23.90  fullair       vizag\n",
       "9      9  1/10/2019           90        11     90.11     cold      guntur\n",
       "10    10  1/11/2019           65        18     65.18  fullair  vijayawada\n",
       "11    11  1/12/2019           78        20     78.20  fullair       vizag"
      ]
     },
     "execution_count": 68,
     "metadata": {},
     "output_type": "execute_result"
    }
   ],
   "source": [
    "# if you want to read the csv files \n",
    "df=pd.read_csv(\"weather.csv\")\n",
    "df"
   ]
  },
  {
   "cell_type": "code",
   "execution_count": 42,
   "metadata": {},
   "outputs": [
    {
     "data": {
      "text/html": [
       "<div>\n",
       "<style scoped>\n",
       "    .dataframe tbody tr th:only-of-type {\n",
       "        vertical-align: middle;\n",
       "    }\n",
       "\n",
       "    .dataframe tbody tr th {\n",
       "        vertical-align: top;\n",
       "    }\n",
       "\n",
       "    .dataframe thead th {\n",
       "        text-align: right;\n",
       "    }\n",
       "</style>\n",
       "<table border=\"1\" class=\"dataframe\">\n",
       "  <thead>\n",
       "    <tr style=\"text-align: right;\">\n",
       "      <th></th>\n",
       "      <th>s.no</th>\n",
       "      <th>est</th>\n",
       "      <th>temparature</th>\n",
       "      <th>winspeed</th>\n",
       "      <th>humidity</th>\n",
       "      <th>event</th>\n",
       "      <th>city</th>\n",
       "    </tr>\n",
       "  </thead>\n",
       "  <tbody>\n",
       "    <tr>\n",
       "      <th>0</th>\n",
       "      <td>1</td>\n",
       "      <td>1/2/2019</td>\n",
       "      <td>30</td>\n",
       "      <td>12</td>\n",
       "      <td>12.50</td>\n",
       "      <td>rain</td>\n",
       "      <td>guntur</td>\n",
       "    </tr>\n",
       "    <tr>\n",
       "      <th>1</th>\n",
       "      <td>1</td>\n",
       "      <td>1/2/2019</td>\n",
       "      <td>33</td>\n",
       "      <td>14</td>\n",
       "      <td>14.23</td>\n",
       "      <td>rain</td>\n",
       "      <td>vijayawada</td>\n",
       "    </tr>\n",
       "    <tr>\n",
       "      <th>2</th>\n",
       "      <td>2</td>\n",
       "      <td>1/3/2019</td>\n",
       "      <td>43</td>\n",
       "      <td>13</td>\n",
       "      <td>43.13</td>\n",
       "      <td>rain</td>\n",
       "      <td>vizag</td>\n",
       "    </tr>\n",
       "    <tr>\n",
       "      <th>3</th>\n",
       "      <td>3</td>\n",
       "      <td>1/4/2019</td>\n",
       "      <td>55</td>\n",
       "      <td>8</td>\n",
       "      <td>55.80</td>\n",
       "      <td>fullair</td>\n",
       "      <td>guntur</td>\n",
       "    </tr>\n",
       "    <tr>\n",
       "      <th>4</th>\n",
       "      <td>4</td>\n",
       "      <td>1/5/2019</td>\n",
       "      <td>66</td>\n",
       "      <td>10</td>\n",
       "      <td>66.10</td>\n",
       "      <td>cold</td>\n",
       "      <td>vijayawada</td>\n",
       "    </tr>\n",
       "  </tbody>\n",
       "</table>\n",
       "</div>"
      ],
      "text/plain": [
       "   s.no       est  temparature  winspeed  humidity    event        city\n",
       "0     1  1/2/2019           30        12     12.50     rain      guntur\n",
       "1     1  1/2/2019           33        14     14.23     rain  vijayawada\n",
       "2     2  1/3/2019           43        13     43.13     rain       vizag\n",
       "3     3  1/4/2019           55         8     55.80  fullair      guntur\n",
       "4     4  1/5/2019           66        10     66.10     cold  vijayawada"
      ]
     },
     "execution_count": 42,
     "metadata": {},
     "output_type": "execute_result"
    }
   ],
   "source": [
    "df.head()"
   ]
  },
  {
   "cell_type": "code",
   "execution_count": 43,
   "metadata": {},
   "outputs": [
    {
     "data": {
      "text/html": [
       "<div>\n",
       "<style scoped>\n",
       "    .dataframe tbody tr th:only-of-type {\n",
       "        vertical-align: middle;\n",
       "    }\n",
       "\n",
       "    .dataframe tbody tr th {\n",
       "        vertical-align: top;\n",
       "    }\n",
       "\n",
       "    .dataframe thead th {\n",
       "        text-align: right;\n",
       "    }\n",
       "</style>\n",
       "<table border=\"1\" class=\"dataframe\">\n",
       "  <thead>\n",
       "    <tr style=\"text-align: right;\">\n",
       "      <th></th>\n",
       "      <th>s.no</th>\n",
       "      <th>est</th>\n",
       "      <th>temparature</th>\n",
       "      <th>winspeed</th>\n",
       "      <th>humidity</th>\n",
       "      <th>event</th>\n",
       "      <th>city</th>\n",
       "    </tr>\n",
       "  </thead>\n",
       "  <tbody>\n",
       "    <tr>\n",
       "      <th>0</th>\n",
       "      <td>1</td>\n",
       "      <td>1/2/2019</td>\n",
       "      <td>30</td>\n",
       "      <td>12</td>\n",
       "      <td>12.50</td>\n",
       "      <td>rain</td>\n",
       "      <td>guntur</td>\n",
       "    </tr>\n",
       "    <tr>\n",
       "      <th>1</th>\n",
       "      <td>1</td>\n",
       "      <td>1/2/2019</td>\n",
       "      <td>33</td>\n",
       "      <td>14</td>\n",
       "      <td>14.23</td>\n",
       "      <td>rain</td>\n",
       "      <td>vijayawada</td>\n",
       "    </tr>\n",
       "    <tr>\n",
       "      <th>2</th>\n",
       "      <td>2</td>\n",
       "      <td>1/3/2019</td>\n",
       "      <td>43</td>\n",
       "      <td>13</td>\n",
       "      <td>43.13</td>\n",
       "      <td>rain</td>\n",
       "      <td>vizag</td>\n",
       "    </tr>\n",
       "  </tbody>\n",
       "</table>\n",
       "</div>"
      ],
      "text/plain": [
       "   s.no       est  temparature  winspeed  humidity event        city\n",
       "0     1  1/2/2019           30        12     12.50  rain      guntur\n",
       "1     1  1/2/2019           33        14     14.23  rain  vijayawada\n",
       "2     2  1/3/2019           43        13     43.13  rain       vizag"
      ]
     },
     "execution_count": 43,
     "metadata": {},
     "output_type": "execute_result"
    }
   ],
   "source": [
    "df.head(3)"
   ]
  },
  {
   "cell_type": "code",
   "execution_count": 44,
   "metadata": {
    "scrolled": true
   },
   "outputs": [
    {
     "data": {
      "text/html": [
       "<div>\n",
       "<style scoped>\n",
       "    .dataframe tbody tr th:only-of-type {\n",
       "        vertical-align: middle;\n",
       "    }\n",
       "\n",
       "    .dataframe tbody tr th {\n",
       "        vertical-align: top;\n",
       "    }\n",
       "\n",
       "    .dataframe thead th {\n",
       "        text-align: right;\n",
       "    }\n",
       "</style>\n",
       "<table border=\"1\" class=\"dataframe\">\n",
       "  <thead>\n",
       "    <tr style=\"text-align: right;\">\n",
       "      <th></th>\n",
       "      <th>s.no</th>\n",
       "      <th>est</th>\n",
       "      <th>temparature</th>\n",
       "      <th>winspeed</th>\n",
       "      <th>humidity</th>\n",
       "      <th>event</th>\n",
       "      <th>city</th>\n",
       "    </tr>\n",
       "  </thead>\n",
       "  <tbody>\n",
       "    <tr>\n",
       "      <th>7</th>\n",
       "      <td>7</td>\n",
       "      <td>1/8/2019</td>\n",
       "      <td>89</td>\n",
       "      <td>23</td>\n",
       "      <td>89.23</td>\n",
       "      <td>cold</td>\n",
       "      <td>vijayawada</td>\n",
       "    </tr>\n",
       "    <tr>\n",
       "      <th>8</th>\n",
       "      <td>8</td>\n",
       "      <td>1/9/2019</td>\n",
       "      <td>23</td>\n",
       "      <td>9</td>\n",
       "      <td>23.90</td>\n",
       "      <td>fullair</td>\n",
       "      <td>vizag</td>\n",
       "    </tr>\n",
       "    <tr>\n",
       "      <th>9</th>\n",
       "      <td>9</td>\n",
       "      <td>1/10/2019</td>\n",
       "      <td>90</td>\n",
       "      <td>11</td>\n",
       "      <td>90.11</td>\n",
       "      <td>cold</td>\n",
       "      <td>guntur</td>\n",
       "    </tr>\n",
       "    <tr>\n",
       "      <th>10</th>\n",
       "      <td>10</td>\n",
       "      <td>1/11/2019</td>\n",
       "      <td>65</td>\n",
       "      <td>18</td>\n",
       "      <td>65.18</td>\n",
       "      <td>fullair</td>\n",
       "      <td>vijayawada</td>\n",
       "    </tr>\n",
       "    <tr>\n",
       "      <th>11</th>\n",
       "      <td>11</td>\n",
       "      <td>1/12/2019</td>\n",
       "      <td>78</td>\n",
       "      <td>20</td>\n",
       "      <td>78.20</td>\n",
       "      <td>fullair</td>\n",
       "      <td>vizag</td>\n",
       "    </tr>\n",
       "  </tbody>\n",
       "</table>\n",
       "</div>"
      ],
      "text/plain": [
       "    s.no        est  temparature  winspeed  humidity    event        city\n",
       "7      7   1/8/2019           89        23     89.23     cold  vijayawada\n",
       "8      8   1/9/2019           23         9     23.90  fullair       vizag\n",
       "9      9  1/10/2019           90        11     90.11     cold      guntur\n",
       "10    10  1/11/2019           65        18     65.18  fullair  vijayawada\n",
       "11    11  1/12/2019           78        20     78.20  fullair       vizag"
      ]
     },
     "execution_count": 44,
     "metadata": {},
     "output_type": "execute_result"
    }
   ],
   "source": [
    "df.tail()"
   ]
  },
  {
   "cell_type": "code",
   "execution_count": 69,
   "metadata": {},
   "outputs": [
    {
     "data": {
      "text/html": [
       "<div>\n",
       "<style scoped>\n",
       "    .dataframe tbody tr th:only-of-type {\n",
       "        vertical-align: middle;\n",
       "    }\n",
       "\n",
       "    .dataframe tbody tr th {\n",
       "        vertical-align: top;\n",
       "    }\n",
       "\n",
       "    .dataframe thead th {\n",
       "        text-align: right;\n",
       "    }\n",
       "</style>\n",
       "<table border=\"1\" class=\"dataframe\">\n",
       "  <thead>\n",
       "    <tr style=\"text-align: right;\">\n",
       "      <th></th>\n",
       "      <th>s.no</th>\n",
       "      <th>temparature</th>\n",
       "      <th>winspeed</th>\n",
       "      <th>humidity</th>\n",
       "    </tr>\n",
       "  </thead>\n",
       "  <tbody>\n",
       "    <tr>\n",
       "      <th>count</th>\n",
       "      <td>12.000000</td>\n",
       "      <td>12.000000</td>\n",
       "      <td>12.000000</td>\n",
       "      <td>12.000000</td>\n",
       "    </tr>\n",
       "    <tr>\n",
       "      <th>mean</th>\n",
       "      <td>5.583333</td>\n",
       "      <td>56.833333</td>\n",
       "      <td>14.166667</td>\n",
       "      <td>54.058333</td>\n",
       "    </tr>\n",
       "    <tr>\n",
       "      <th>std</th>\n",
       "      <td>3.476109</td>\n",
       "      <td>23.835929</td>\n",
       "      <td>4.608950</td>\n",
       "      <td>27.991765</td>\n",
       "    </tr>\n",
       "    <tr>\n",
       "      <th>min</th>\n",
       "      <td>1.000000</td>\n",
       "      <td>23.000000</td>\n",
       "      <td>8.000000</td>\n",
       "      <td>12.500000</td>\n",
       "    </tr>\n",
       "    <tr>\n",
       "      <th>25%</th>\n",
       "      <td>2.750000</td>\n",
       "      <td>33.750000</td>\n",
       "      <td>10.750000</td>\n",
       "      <td>31.587500</td>\n",
       "    </tr>\n",
       "    <tr>\n",
       "      <th>50%</th>\n",
       "      <td>5.500000</td>\n",
       "      <td>60.000000</td>\n",
       "      <td>13.500000</td>\n",
       "      <td>60.490000</td>\n",
       "    </tr>\n",
       "    <tr>\n",
       "      <th>75%</th>\n",
       "      <td>8.250000</td>\n",
       "      <td>76.500000</td>\n",
       "      <td>17.250000</td>\n",
       "      <td>76.677500</td>\n",
       "    </tr>\n",
       "    <tr>\n",
       "      <th>max</th>\n",
       "      <td>11.000000</td>\n",
       "      <td>90.000000</td>\n",
       "      <td>23.000000</td>\n",
       "      <td>90.110000</td>\n",
       "    </tr>\n",
       "  </tbody>\n",
       "</table>\n",
       "</div>"
      ],
      "text/plain": [
       "            s.no  temparature   winspeed   humidity\n",
       "count  12.000000    12.000000  12.000000  12.000000\n",
       "mean    5.583333    56.833333  14.166667  54.058333\n",
       "std     3.476109    23.835929   4.608950  27.991765\n",
       "min     1.000000    23.000000   8.000000  12.500000\n",
       "25%     2.750000    33.750000  10.750000  31.587500\n",
       "50%     5.500000    60.000000  13.500000  60.490000\n",
       "75%     8.250000    76.500000  17.250000  76.677500\n",
       "max    11.000000    90.000000  23.000000  90.110000"
      ]
     },
     "execution_count": 69,
     "metadata": {},
     "output_type": "execute_result"
    }
   ],
   "source": [
    "df.describe()"
   ]
  },
  {
   "cell_type": "code",
   "execution_count": 70,
   "metadata": {},
   "outputs": [
    {
     "name": "stdout",
     "output_type": "stream",
     "text": [
      "<class 'pandas.core.frame.DataFrame'>\n",
      "RangeIndex: 12 entries, 0 to 11\n",
      "Data columns (total 7 columns):\n",
      "s.no           12 non-null int64\n",
      "est            12 non-null object\n",
      "temparature    12 non-null int64\n",
      "winspeed       12 non-null int64\n",
      "humidity       12 non-null float64\n",
      "event          12 non-null object\n",
      "city           12 non-null object\n",
      "dtypes: float64(1), int64(3), object(3)\n",
      "memory usage: 752.0+ bytes\n"
     ]
    }
   ],
   "source": [
    "df.info()"
   ]
  },
  {
   "cell_type": "code",
   "execution_count": 71,
   "metadata": {},
   "outputs": [
    {
     "data": {
      "text/plain": [
       "s.no            3.476109\n",
       "temparature    23.835929\n",
       "winspeed        4.608950\n",
       "humidity       27.991765\n",
       "dtype: float64"
      ]
     },
     "execution_count": 71,
     "metadata": {},
     "output_type": "execute_result"
    }
   ],
   "source": [
    "df.std()"
   ]
  },
  {
   "cell_type": "code",
   "execution_count": 72,
   "metadata": {},
   "outputs": [
    {
     "data": {
      "text/plain": [
       "s.no            5.583333\n",
       "temparature    56.833333\n",
       "winspeed       14.166667\n",
       "humidity       54.058333\n",
       "dtype: float64"
      ]
     },
     "execution_count": 72,
     "metadata": {},
     "output_type": "execute_result"
    }
   ],
   "source": [
    "df.mean()"
   ]
  },
  {
   "cell_type": "code",
   "execution_count": 73,
   "metadata": {},
   "outputs": [
    {
     "data": {
      "text/plain": [
       "s.no            5.50\n",
       "temparature    60.00\n",
       "winspeed       13.50\n",
       "humidity       60.49\n",
       "dtype: float64"
      ]
     },
     "execution_count": 73,
     "metadata": {},
     "output_type": "execute_result"
    }
   ],
   "source": [
    "df.median()"
   ]
  },
  {
   "cell_type": "code",
   "execution_count": 76,
   "metadata": {},
   "outputs": [
    {
     "data": {
      "text/plain": [
       "s.no           0\n",
       "est            0\n",
       "temparature    0\n",
       "winspeed       0\n",
       "humidity       0\n",
       "event          0\n",
       "city           0\n",
       "dtype: int64"
      ]
     },
     "execution_count": 76,
     "metadata": {},
     "output_type": "execute_result"
    }
   ],
   "source": [
    "df.isnull().sum()"
   ]
  },
  {
   "cell_type": "code",
   "execution_count": 77,
   "metadata": {
    "scrolled": true
   },
   "outputs": [
    {
     "data": {
      "text/html": [
       "<div>\n",
       "<style scoped>\n",
       "    .dataframe tbody tr th:only-of-type {\n",
       "        vertical-align: middle;\n",
       "    }\n",
       "\n",
       "    .dataframe tbody tr th {\n",
       "        vertical-align: top;\n",
       "    }\n",
       "\n",
       "    .dataframe thead th {\n",
       "        text-align: right;\n",
       "    }\n",
       "</style>\n",
       "<table border=\"1\" class=\"dataframe\">\n",
       "  <thead>\n",
       "    <tr style=\"text-align: right;\">\n",
       "      <th></th>\n",
       "      <th>s.no</th>\n",
       "      <th>est</th>\n",
       "      <th>temparature</th>\n",
       "      <th>winspeed</th>\n",
       "      <th>humidity</th>\n",
       "      <th>event</th>\n",
       "      <th>city</th>\n",
       "    </tr>\n",
       "  </thead>\n",
       "  <tbody>\n",
       "    <tr>\n",
       "      <th>0</th>\n",
       "      <td>False</td>\n",
       "      <td>False</td>\n",
       "      <td>False</td>\n",
       "      <td>False</td>\n",
       "      <td>False</td>\n",
       "      <td>False</td>\n",
       "      <td>False</td>\n",
       "    </tr>\n",
       "    <tr>\n",
       "      <th>1</th>\n",
       "      <td>False</td>\n",
       "      <td>False</td>\n",
       "      <td>False</td>\n",
       "      <td>False</td>\n",
       "      <td>False</td>\n",
       "      <td>False</td>\n",
       "      <td>False</td>\n",
       "    </tr>\n",
       "    <tr>\n",
       "      <th>2</th>\n",
       "      <td>False</td>\n",
       "      <td>False</td>\n",
       "      <td>False</td>\n",
       "      <td>False</td>\n",
       "      <td>False</td>\n",
       "      <td>False</td>\n",
       "      <td>False</td>\n",
       "    </tr>\n",
       "    <tr>\n",
       "      <th>3</th>\n",
       "      <td>False</td>\n",
       "      <td>False</td>\n",
       "      <td>False</td>\n",
       "      <td>False</td>\n",
       "      <td>False</td>\n",
       "      <td>False</td>\n",
       "      <td>False</td>\n",
       "    </tr>\n",
       "    <tr>\n",
       "      <th>4</th>\n",
       "      <td>False</td>\n",
       "      <td>False</td>\n",
       "      <td>False</td>\n",
       "      <td>False</td>\n",
       "      <td>False</td>\n",
       "      <td>False</td>\n",
       "      <td>False</td>\n",
       "    </tr>\n",
       "    <tr>\n",
       "      <th>5</th>\n",
       "      <td>False</td>\n",
       "      <td>False</td>\n",
       "      <td>False</td>\n",
       "      <td>False</td>\n",
       "      <td>False</td>\n",
       "      <td>False</td>\n",
       "      <td>False</td>\n",
       "    </tr>\n",
       "    <tr>\n",
       "      <th>6</th>\n",
       "      <td>False</td>\n",
       "      <td>False</td>\n",
       "      <td>False</td>\n",
       "      <td>False</td>\n",
       "      <td>False</td>\n",
       "      <td>False</td>\n",
       "      <td>False</td>\n",
       "    </tr>\n",
       "    <tr>\n",
       "      <th>7</th>\n",
       "      <td>False</td>\n",
       "      <td>False</td>\n",
       "      <td>False</td>\n",
       "      <td>False</td>\n",
       "      <td>False</td>\n",
       "      <td>False</td>\n",
       "      <td>False</td>\n",
       "    </tr>\n",
       "    <tr>\n",
       "      <th>8</th>\n",
       "      <td>False</td>\n",
       "      <td>False</td>\n",
       "      <td>False</td>\n",
       "      <td>False</td>\n",
       "      <td>False</td>\n",
       "      <td>False</td>\n",
       "      <td>False</td>\n",
       "    </tr>\n",
       "    <tr>\n",
       "      <th>9</th>\n",
       "      <td>False</td>\n",
       "      <td>False</td>\n",
       "      <td>False</td>\n",
       "      <td>False</td>\n",
       "      <td>False</td>\n",
       "      <td>False</td>\n",
       "      <td>False</td>\n",
       "    </tr>\n",
       "    <tr>\n",
       "      <th>10</th>\n",
       "      <td>False</td>\n",
       "      <td>False</td>\n",
       "      <td>False</td>\n",
       "      <td>False</td>\n",
       "      <td>False</td>\n",
       "      <td>False</td>\n",
       "      <td>False</td>\n",
       "    </tr>\n",
       "    <tr>\n",
       "      <th>11</th>\n",
       "      <td>False</td>\n",
       "      <td>False</td>\n",
       "      <td>False</td>\n",
       "      <td>False</td>\n",
       "      <td>False</td>\n",
       "      <td>False</td>\n",
       "      <td>False</td>\n",
       "    </tr>\n",
       "  </tbody>\n",
       "</table>\n",
       "</div>"
      ],
      "text/plain": [
       "     s.no    est  temparature  winspeed  humidity  event   city\n",
       "0   False  False        False     False     False  False  False\n",
       "1   False  False        False     False     False  False  False\n",
       "2   False  False        False     False     False  False  False\n",
       "3   False  False        False     False     False  False  False\n",
       "4   False  False        False     False     False  False  False\n",
       "5   False  False        False     False     False  False  False\n",
       "6   False  False        False     False     False  False  False\n",
       "7   False  False        False     False     False  False  False\n",
       "8   False  False        False     False     False  False  False\n",
       "9   False  False        False     False     False  False  False\n",
       "10  False  False        False     False     False  False  False\n",
       "11  False  False        False     False     False  False  False"
      ]
     },
     "execution_count": 77,
     "metadata": {},
     "output_type": "execute_result"
    }
   ],
   "source": [
    "df.isnull()"
   ]
  },
  {
   "cell_type": "code",
   "execution_count": 78,
   "metadata": {},
   "outputs": [
    {
     "data": {
      "text/plain": [
       "s.no           0\n",
       "est            0\n",
       "temparature    0\n",
       "winspeed       0\n",
       "humidity       0\n",
       "event          0\n",
       "city           0\n",
       "dtype: int64"
      ]
     },
     "execution_count": 78,
     "metadata": {},
     "output_type": "execute_result"
    }
   ],
   "source": [
    "df.isnull().sum()"
   ]
  },
  {
   "cell_type": "code",
   "execution_count": 79,
   "metadata": {},
   "outputs": [
    {
     "data": {
      "text/plain": [
       "s.no           0\n",
       "est            0\n",
       "temparature    0\n",
       "winspeed       0\n",
       "humidity       0\n",
       "event          0\n",
       "city           0\n",
       "dtype: int64"
      ]
     },
     "execution_count": 79,
     "metadata": {},
     "output_type": "execute_result"
    }
   ],
   "source": [
    "df.isna().sum()"
   ]
  },
  {
   "cell_type": "code",
   "execution_count": null,
   "metadata": {},
   "outputs": [],
   "source": []
  },
  {
   "cell_type": "code",
   "execution_count": 55,
   "metadata": {},
   "outputs": [
    {
     "data": {
      "text/plain": [
       "'[{\"s.no\":1,\"est\":\"1\\\\/2\\\\/2019\",\"temparature\":30,\"winspeed\":12,\"humidity\":12.5,\"event\":\"rain\",\"city\":\"guntur\"},{\"s.no\":1,\"est\":\"1\\\\/2\\\\/2019\",\"temparature\":33,\"winspeed\":14,\"humidity\":14.23,\"event\":\"rain\",\"city\":\"vijayawada\"},{\"s.no\":2,\"est\":\"1\\\\/3\\\\/2019\",\"temparature\":43,\"winspeed\":13,\"humidity\":43.13,\"event\":\"rain\",\"city\":\"vizag\"},{\"s.no\":3,\"est\":\"1\\\\/4\\\\/2019\",\"temparature\":55,\"winspeed\":8,\"humidity\":55.8,\"event\":\"fullair\",\"city\":\"guntur\"},{\"s.no\":4,\"est\":\"1\\\\/5\\\\/2019\",\"temparature\":66,\"winspeed\":10,\"humidity\":66.1,\"event\":\"cold\",\"city\":\"vijayawada\"},{\"s.no\":5,\"est\":\"1\\\\/6\\\\/2019\",\"temparature\":34,\"winspeed\":15,\"humidity\":34.15,\"event\":\"cold\",\"city\":\"vizag\"},{\"s.no\":6,\"est\":\"1\\\\/7\\\\/2019\",\"temparature\":76,\"winspeed\":17,\"humidity\":76.17,\"event\":\"fullair\",\"city\":\"guntur\"},{\"s.no\":7,\"est\":\"1\\\\/8\\\\/2019\",\"temparature\":89,\"winspeed\":23,\"humidity\":89.23,\"event\":\"cold\",\"city\":\"vijayawada\"},{\"s.no\":8,\"est\":\"1\\\\/9\\\\/2019\",\"temparature\":23,\"winspeed\":9,\"humidity\":23.9,\"event\":\"fullair\",\"city\":\"vizag\"},{\"s.no\":9,\"est\":\"1\\\\/10\\\\/2019\",\"temparature\":90,\"winspeed\":11,\"humidity\":90.11,\"event\":\"cold\",\"city\":\"guntur\"},{\"s.no\":10,\"est\":\"1\\\\/11\\\\/2019\",\"temparature\":65,\"winspeed\":18,\"humidity\":65.18,\"event\":\"fullair\",\"city\":\"vijayawada\"},{\"s.no\":11,\"est\":\"1\\\\/12\\\\/2019\",\"temparature\":78,\"winspeed\":20,\"humidity\":78.2,\"event\":\"fullair\",\"city\":\"vizag\"}]'"
      ]
     },
     "execution_count": 55,
     "metadata": {},
     "output_type": "execute_result"
    }
   ],
   "source": [
    "# conver csv data json\n",
    "\n",
    "jsondata=df.to_json(orient='records')\n",
    "jsondata"
   ]
  },
  {
   "cell_type": "code",
   "execution_count": 56,
   "metadata": {},
   "outputs": [
    {
     "data": {
      "text/html": [
       "<div>\n",
       "<style scoped>\n",
       "    .dataframe tbody tr th:only-of-type {\n",
       "        vertical-align: middle;\n",
       "    }\n",
       "\n",
       "    .dataframe tbody tr th {\n",
       "        vertical-align: top;\n",
       "    }\n",
       "\n",
       "    .dataframe thead th {\n",
       "        text-align: right;\n",
       "    }\n",
       "</style>\n",
       "<table border=\"1\" class=\"dataframe\">\n",
       "  <thead>\n",
       "    <tr style=\"text-align: right;\">\n",
       "      <th></th>\n",
       "      <th>city</th>\n",
       "      <th>est</th>\n",
       "      <th>event</th>\n",
       "      <th>humidity</th>\n",
       "      <th>s.no</th>\n",
       "      <th>temparature</th>\n",
       "      <th>winspeed</th>\n",
       "    </tr>\n",
       "  </thead>\n",
       "  <tbody>\n",
       "    <tr>\n",
       "      <th>0</th>\n",
       "      <td>guntur</td>\n",
       "      <td>1/2/2019</td>\n",
       "      <td>rain</td>\n",
       "      <td>12.50</td>\n",
       "      <td>1</td>\n",
       "      <td>30</td>\n",
       "      <td>12</td>\n",
       "    </tr>\n",
       "    <tr>\n",
       "      <th>1</th>\n",
       "      <td>vijayawada</td>\n",
       "      <td>1/2/2019</td>\n",
       "      <td>rain</td>\n",
       "      <td>14.23</td>\n",
       "      <td>1</td>\n",
       "      <td>33</td>\n",
       "      <td>14</td>\n",
       "    </tr>\n",
       "    <tr>\n",
       "      <th>2</th>\n",
       "      <td>vizag</td>\n",
       "      <td>1/3/2019</td>\n",
       "      <td>rain</td>\n",
       "      <td>43.13</td>\n",
       "      <td>2</td>\n",
       "      <td>43</td>\n",
       "      <td>13</td>\n",
       "    </tr>\n",
       "    <tr>\n",
       "      <th>3</th>\n",
       "      <td>guntur</td>\n",
       "      <td>1/4/2019</td>\n",
       "      <td>fullair</td>\n",
       "      <td>55.80</td>\n",
       "      <td>3</td>\n",
       "      <td>55</td>\n",
       "      <td>8</td>\n",
       "    </tr>\n",
       "    <tr>\n",
       "      <th>4</th>\n",
       "      <td>vijayawada</td>\n",
       "      <td>1/5/2019</td>\n",
       "      <td>cold</td>\n",
       "      <td>66.10</td>\n",
       "      <td>4</td>\n",
       "      <td>66</td>\n",
       "      <td>10</td>\n",
       "    </tr>\n",
       "    <tr>\n",
       "      <th>5</th>\n",
       "      <td>vizag</td>\n",
       "      <td>1/6/2019</td>\n",
       "      <td>cold</td>\n",
       "      <td>34.15</td>\n",
       "      <td>5</td>\n",
       "      <td>34</td>\n",
       "      <td>15</td>\n",
       "    </tr>\n",
       "    <tr>\n",
       "      <th>6</th>\n",
       "      <td>guntur</td>\n",
       "      <td>1/7/2019</td>\n",
       "      <td>fullair</td>\n",
       "      <td>76.17</td>\n",
       "      <td>6</td>\n",
       "      <td>76</td>\n",
       "      <td>17</td>\n",
       "    </tr>\n",
       "    <tr>\n",
       "      <th>7</th>\n",
       "      <td>vijayawada</td>\n",
       "      <td>1/8/2019</td>\n",
       "      <td>cold</td>\n",
       "      <td>89.23</td>\n",
       "      <td>7</td>\n",
       "      <td>89</td>\n",
       "      <td>23</td>\n",
       "    </tr>\n",
       "    <tr>\n",
       "      <th>8</th>\n",
       "      <td>vizag</td>\n",
       "      <td>1/9/2019</td>\n",
       "      <td>fullair</td>\n",
       "      <td>23.90</td>\n",
       "      <td>8</td>\n",
       "      <td>23</td>\n",
       "      <td>9</td>\n",
       "    </tr>\n",
       "    <tr>\n",
       "      <th>9</th>\n",
       "      <td>guntur</td>\n",
       "      <td>1/10/2019</td>\n",
       "      <td>cold</td>\n",
       "      <td>90.11</td>\n",
       "      <td>9</td>\n",
       "      <td>90</td>\n",
       "      <td>11</td>\n",
       "    </tr>\n",
       "    <tr>\n",
       "      <th>10</th>\n",
       "      <td>vijayawada</td>\n",
       "      <td>1/11/2019</td>\n",
       "      <td>fullair</td>\n",
       "      <td>65.18</td>\n",
       "      <td>10</td>\n",
       "      <td>65</td>\n",
       "      <td>18</td>\n",
       "    </tr>\n",
       "    <tr>\n",
       "      <th>11</th>\n",
       "      <td>vizag</td>\n",
       "      <td>1/12/2019</td>\n",
       "      <td>fullair</td>\n",
       "      <td>78.20</td>\n",
       "      <td>11</td>\n",
       "      <td>78</td>\n",
       "      <td>20</td>\n",
       "    </tr>\n",
       "  </tbody>\n",
       "</table>\n",
       "</div>"
      ],
      "text/plain": [
       "          city        est    event  humidity  s.no  temparature  winspeed\n",
       "0       guntur   1/2/2019     rain     12.50     1           30        12\n",
       "1   vijayawada   1/2/2019     rain     14.23     1           33        14\n",
       "2        vizag   1/3/2019     rain     43.13     2           43        13\n",
       "3       guntur   1/4/2019  fullair     55.80     3           55         8\n",
       "4   vijayawada   1/5/2019     cold     66.10     4           66        10\n",
       "5        vizag   1/6/2019     cold     34.15     5           34        15\n",
       "6       guntur   1/7/2019  fullair     76.17     6           76        17\n",
       "7   vijayawada   1/8/2019     cold     89.23     7           89        23\n",
       "8        vizag   1/9/2019  fullair     23.90     8           23         9\n",
       "9       guntur  1/10/2019     cold     90.11     9           90        11\n",
       "10  vijayawada  1/11/2019  fullair     65.18    10           65        18\n",
       "11       vizag  1/12/2019  fullair     78.20    11           78        20"
      ]
     },
     "execution_count": 56,
     "metadata": {},
     "output_type": "execute_result"
    }
   ],
   "source": [
    "# read json data\n",
    "json_df=pd.read_json(jsondata)\n",
    "json_df"
   ]
  },
  {
   "cell_type": "code",
   "execution_count": 57,
   "metadata": {},
   "outputs": [
    {
     "data": {
      "text/plain": [
       "<Response [200]>"
      ]
     },
     "execution_count": 57,
     "metadata": {},
     "output_type": "execute_result"
    }
   ],
   "source": [
    "# read data using html\n",
    "import requests\n",
    "\n",
    "u=\"https://www.worldcoinindex.com/\"\n",
    "\n",
    "curl=requests.get(u)\n",
    "\n",
    "curl"
   ]
  },
  {
   "cell_type": "code",
   "execution_count": 58,
   "metadata": {},
   "outputs": [],
   "source": [
    "cd=pd.read_html(curl.text)"
   ]
  },
  {
   "cell_type": "code",
   "execution_count": 59,
   "metadata": {},
   "outputs": [
    {
     "data": {
      "text/plain": [
       "list"
      ]
     },
     "execution_count": 59,
     "metadata": {},
     "output_type": "execute_result"
    }
   ],
   "source": [
    "type(cd)"
   ]
  },
  {
   "cell_type": "code",
   "execution_count": 62,
   "metadata": {
    "collapsed": true
   },
   "outputs": [
    {
     "data": {
      "text/plain": [
       "[                                                     #  \\\n",
       " 0                                                    1   \n",
       " 1                                                    2   \n",
       " 2                                                    3   \n",
       " 3                                                    4   \n",
       " 4                                                    5   \n",
       " 5                                                    6   \n",
       " 6                                                    7   \n",
       " 7                                                    8   \n",
       " 8                                                    9   \n",
       " 9                                                   10   \n",
       " 10   googletag.cmd.push(function() { googletag.disp...   \n",
       " 11                                                  11   \n",
       " 12                                                  12   \n",
       " 13                                                  13   \n",
       " 14                                                  14   \n",
       " 15                                                  15   \n",
       " 16                                                  16   \n",
       " 17                                                  17   \n",
       " 18                                                  18   \n",
       " 19                                                  19   \n",
       " 20                                                  20   \n",
       " 21   googletag.cmd.push(function() { googletag.disp...   \n",
       " 22                                                  21   \n",
       " 23                                                  22   \n",
       " 24                                                  23   \n",
       " 25                                                  24   \n",
       " 26                                                  25   \n",
       " 27                                                  26   \n",
       " 28                                                  27   \n",
       " 29                                                  28   \n",
       " ..                                                 ...   \n",
       " 72                                                  71   \n",
       " 73                                                  72   \n",
       " 74                                                  73   \n",
       " 75                                                  74   \n",
       " 76                                                  75   \n",
       " 77                                                  76   \n",
       " 78                                                  77   \n",
       " 79                                                  78   \n",
       " 80                                                  79   \n",
       " 81                                                  80   \n",
       " 82                                                  81   \n",
       " 83                                                  82   \n",
       " 84                                                  83   \n",
       " 85                                                  84   \n",
       " 86                                                  85   \n",
       " 87                                                  86   \n",
       " 88                                                  87   \n",
       " 89                                                  88   \n",
       " 90                                                  89   \n",
       " 91                                                  90   \n",
       " 92                                                  91   \n",
       " 93                                                  92   \n",
       " 94                                                  93   \n",
       " 95                                                  94   \n",
       " 96                                                  95   \n",
       " 97                                                  96   \n",
       " 98                                                  97   \n",
       " 99                                                  98   \n",
       " 100                                                 99   \n",
       " 101                                                100   \n",
       " \n",
       "                                             Unnamed: 1  \\\n",
       " 0                                                  NaN   \n",
       " 1                                                  NaN   \n",
       " 2                                                  NaN   \n",
       " 3                                                  NaN   \n",
       " 4                                                  NaN   \n",
       " 5                                                  NaN   \n",
       " 6                                                  NaN   \n",
       " 7                                                  NaN   \n",
       " 8                                                  NaN   \n",
       " 9                                                  NaN   \n",
       " 10   googletag.cmd.push(function() { googletag.disp...   \n",
       " 11                                                 NaN   \n",
       " 12                                                 NaN   \n",
       " 13                                                 NaN   \n",
       " 14                                                 NaN   \n",
       " 15                                                 NaN   \n",
       " 16                                                 NaN   \n",
       " 17                                                 NaN   \n",
       " 18                                                 NaN   \n",
       " 19                                                 NaN   \n",
       " 20                                                 NaN   \n",
       " 21   googletag.cmd.push(function() { googletag.disp...   \n",
       " 22                                                 NaN   \n",
       " 23                                                 NaN   \n",
       " 24                                                 NaN   \n",
       " 25                                                 NaN   \n",
       " 26                                                 NaN   \n",
       " 27                                                 NaN   \n",
       " 28                                                 NaN   \n",
       " 29                                                 NaN   \n",
       " ..                                                 ...   \n",
       " 72                                                 NaN   \n",
       " 73                                                 NaN   \n",
       " 74                                                 NaN   \n",
       " 75                                                 NaN   \n",
       " 76                                                 NaN   \n",
       " 77                                                 NaN   \n",
       " 78                                                 NaN   \n",
       " 79                                                 NaN   \n",
       " 80                                                 NaN   \n",
       " 81                                                 NaN   \n",
       " 82                                                 NaN   \n",
       " 83                                                 NaN   \n",
       " 84                                                 NaN   \n",
       " 85                                                 NaN   \n",
       " 86                                                 NaN   \n",
       " 87                                                 NaN   \n",
       " 88                                                 NaN   \n",
       " 89                                                 NaN   \n",
       " 90                                                 NaN   \n",
       " 91                                                 NaN   \n",
       " 92                                                 NaN   \n",
       " 93                                                 NaN   \n",
       " 94                                                 NaN   \n",
       " 95                                                 NaN   \n",
       " 96                                                 NaN   \n",
       " 97                                                 NaN   \n",
       " 98                                                 NaN   \n",
       " 99                                                 NaN   \n",
       " 100                                                NaN   \n",
       " 101                                                NaN   \n",
       " \n",
       "                                                   Name  \\\n",
       " 0                                              Bitcoin   \n",
       " 1                                               Ripple   \n",
       " 2                                             Ethereum   \n",
       " 3                                             Litecoin   \n",
       " 4                                                  Eos   \n",
       " 5                                          Bitcoincash   \n",
       " 6                                               Elysia   \n",
       " 7                                                1inch   \n",
       " 8                                            Chainlink   \n",
       " 9                                        Stellarlumens   \n",
       " 10   googletag.cmd.push(function() { googletag.disp...   \n",
       " 11                                                Tron   \n",
       " 12                                     Ethereumclassic   \n",
       " 13                                             Cardano   \n",
       " 14                                           The Graph   \n",
       " 15                                             Zilliqa   \n",
       " 16                                                Dash   \n",
       " 17                                      Wrappedbitcoin   \n",
       " 18                                                 Neo   \n",
       " 19                                       Yearn.finance   \n",
       " 20                                              Monero   \n",
       " 21   googletag.cmd.push(function() { googletag.disp...   \n",
       " 22                                               Zcash   \n",
       " 23                                            Polkadot   \n",
       " 24                                              Tether   \n",
       " 25                                          Binanceusd   \n",
       " 26                                         Binancecoin   \n",
       " 27                                                 Nem   \n",
       " 28                                                Qtum   \n",
       " 29                                          Thetatoken   \n",
       " ..                                                 ...   \n",
       " 72                                        Bandprotocol   \n",
       " 73                                               Swipe   \n",
       " 74                                               Kyber   \n",
       " 75                                  Injective Protocol   \n",
       " 76                                               Civic   \n",
       " 77                                       Reserverights   \n",
       " 78                                         Ankrnetwork   \n",
       " 79                                             Trueusd   \n",
       " 80                                       Paxosstandard   \n",
       " 81                                               Gifto   \n",
       " 82                                               Augur   \n",
       " 83                                                Grin   \n",
       " 84                                                Aelf   \n",
       " 85                                     Tokamak Network   \n",
       " 86                                        UNUS SED LEO   \n",
       " 87                              Consensus Cell Network   \n",
       " 88                                              Tellor   \n",
       " 89                                               Ocean   \n",
       " 90                                         Bitcoingold   \n",
       " 91                                        Thundertoken   \n",
       " 92                                            Ftxtoken   \n",
       " 93                                             Horizen   \n",
       " 94                                                 Uma   \n",
       " 95                                               Storj   \n",
       " 96                                           Avalanche   \n",
       " 97                                                Kava   \n",
       " 98                                 Value DeFi Protocol   \n",
       " 99                                           Bitshares   \n",
       " 100                                        Groestlcoin   \n",
       " 101                                               Nexo   \n",
       " \n",
       "                                                 Ticker  \\\n",
       " 0                                                  BTC   \n",
       " 1                                                  XRP   \n",
       " 2                                                  ETH   \n",
       " 3                                                  LTC   \n",
       " 4                                                  EOS   \n",
       " 5                                                  BCH   \n",
       " 6                                                   EL   \n",
       " 7                                                1INCH   \n",
       " 8                                                 LINK   \n",
       " 9                                                  XLM   \n",
       " 10   googletag.cmd.push(function() { googletag.disp...   \n",
       " 11                                                 TRX   \n",
       " 12                                                 ETC   \n",
       " 13                                                 ADA   \n",
       " 14                                                 GRT   \n",
       " 15                                                 ZIL   \n",
       " 16                                                DASH   \n",
       " 17                                                WBTC   \n",
       " 18                                                 NEO   \n",
       " 19                                                 YFI   \n",
       " 20                                                 XMR   \n",
       " 21   googletag.cmd.push(function() { googletag.disp...   \n",
       " 22                                                 ZEC   \n",
       " 23                                                 DOT   \n",
       " 24                                                USDT   \n",
       " 25                                                BUSD   \n",
       " 26                                                 BNB   \n",
       " 27                                                 XEM   \n",
       " 28                                                QTUM   \n",
       " 29                                               THETA   \n",
       " ..                                                 ...   \n",
       " 72                                                BAND   \n",
       " 73                                                 SXP   \n",
       " 74                                                 KNC   \n",
       " 75                                                 INJ   \n",
       " 76                                                 CVC   \n",
       " 77                                                 RSR   \n",
       " 78                                                ANKR   \n",
       " 79                                                TUSD   \n",
       " 80                                                 PAX   \n",
       " 81                                                 GTO   \n",
       " 82                                                 REP   \n",
       " 83                                                GRIN   \n",
       " 84                                                 ELF   \n",
       " 85                                                 TON   \n",
       " 86                                                 LEO   \n",
       " 87                                               ECELL   \n",
       " 88                                                 TRB   \n",
       " 89                                               OCEAN   \n",
       " 90                                                 BTG   \n",
       " 91                                                  TT   \n",
       " 92                                                 FTT   \n",
       " 93                                                 ZEN   \n",
       " 94                                                 UMA   \n",
       " 95                                               STORJ   \n",
       " 96                                                AVAX   \n",
       " 97                                                KAVA   \n",
       " 98                                               VALUE   \n",
       " 99                                                 BTS   \n",
       " 100                                                GRS   \n",
       " 101                                               NEXO   \n",
       " \n",
       "                                             Last price  \\\n",
       " 0                                             $ 24,888   \n",
       " 1                                           $ 0.310109   \n",
       " 2                                             $ 627.34   \n",
       " 3                                             $ 128.83   \n",
       " 4                                               $ 2.65   \n",
       " 5                                             $ 320.88   \n",
       " 6                                           $ 0.002987   \n",
       " 7                                               $ 1.96   \n",
       " 8                                              $ 11.65   \n",
       " 9                                           $ 0.150077   \n",
       " 10   googletag.cmd.push(function() { googletag.disp...   \n",
       " 11                                          $ 0.028373   \n",
       " 12                                              $ 5.76   \n",
       " 13                                          $ 0.155312   \n",
       " 14                                          $ 0.343460   \n",
       " 15                                          $ 0.065705   \n",
       " 16                                            $ 104.60   \n",
       " 17                                            $ 24,869   \n",
       " 18                                             $ 15.02   \n",
       " 19                                            $ 23,407   \n",
       " 20                                            $ 164.35   \n",
       " 21   googletag.cmd.push(function() { googletag.disp...   \n",
       " 22                                             $ 66.47   \n",
       " 23                                              $ 5.22   \n",
       " 24                                              $ 1.00   \n",
       " 25                                          $ 0.998326   \n",
       " 26                                             $ 33.48   \n",
       " 27                                          $ 0.253861   \n",
       " 28                                              $ 2.29   \n",
       " 29                                              $ 1.38   \n",
       " ..                                                 ...   \n",
       " 72                                              $ 5.59   \n",
       " 73                                          $ 0.708323   \n",
       " 74                                          $ 0.823805   \n",
       " 75                                              $ 4.29   \n",
       " 76                                          $ 0.090847   \n",
       " 77                                          $ 0.016924   \n",
       " 78                                          $ 0.008214   \n",
       " 79                                          $ 0.998273   \n",
       " 80                                          $ 0.998522   \n",
       " 81                                          $ 0.015929   \n",
       " 82                                             $ 16.59   \n",
       " 83                                          $ 0.432832   \n",
       " 84                                          $ 0.101052   \n",
       " 85                                              $ 2.44   \n",
       " 86                                              $ 1.36   \n",
       " 87                                          $ 0.030365   \n",
       " 88                                             $ 17.98   \n",
       " 89                                          $ 0.324544   \n",
       " 90                                              $ 8.52   \n",
       " 91                                          $ 0.004729   \n",
       " 92                                              $ 4.96   \n",
       " 93                                             $ 11.36   \n",
       " 94                                              $ 7.99   \n",
       " 95                                          $ 0.297167   \n",
       " 96                                              $ 2.93   \n",
       " 97                                              $ 1.34   \n",
       " 98                                              $ 1.90   \n",
       " 99                                          $ 0.022401   \n",
       " 100                                         $ 0.307139   \n",
       " 101                                         $ 0.588610   \n",
       " \n",
       "                                                      %  \\\n",
       " 0                                               +0.86%   \n",
       " 1                                               -2.51%   \n",
       " 2                                               +0.16%   \n",
       " 3                                               +1.07%   \n",
       " 4                                               -0.39%   \n",
       " 5                                               +0.63%   \n",
       " 6                                               +0.86%   \n",
       " 7                                              -14.72%   \n",
       " 8                                               +0.90%   \n",
       " 9                                               -1.43%   \n",
       " 10   googletag.cmd.push(function() { googletag.disp...   \n",
       " 11                                              -0.02%   \n",
       " 12                                              +0.12%   \n",
       " 13                                              -1.20%   \n",
       " 14                                              -4.08%   \n",
       " 15                                              +4.01%   \n",
       " 16                                              +1.30%   \n",
       " 17                                              +0.79%   \n",
       " 18                                              -0.82%   \n",
       " 19                                              -1.01%   \n",
       " 20                                              +3.33%   \n",
       " 21   googletag.cmd.push(function() { googletag.disp...   \n",
       " 22                                              +3.02%   \n",
       " 23                                              +0.24%   \n",
       " 24                                              +0.19%   \n",
       " 25                                              -0.06%   \n",
       " 26                                              +0.96%   \n",
       " 27                                              +3.91%   \n",
       " 28                                              -0.35%   \n",
       " 29                                              +7.55%   \n",
       " ..                                                 ...   \n",
       " 72                                              -0.37%   \n",
       " 73                                              -0.47%   \n",
       " 74                                              -0.88%   \n",
       " 75                                              +5.23%   \n",
       " 76                                              -0.50%   \n",
       " 77                                              -0.61%   \n",
       " 78                                              -4.90%   \n",
       " 79                                              -0.07%   \n",
       " 80                                              -0.07%   \n",
       " 81                                             +43.45%   \n",
       " 82                                              -0.69%   \n",
       " 83                                              -1.46%   \n",
       " 84                                              -1.33%   \n",
       " 85                                              -2.94%   \n",
       " 86                                              -0.01%   \n",
       " 87                                              -0.76%   \n",
       " 88                                              -0.89%   \n",
       " 89                                              +0.24%   \n",
       " 90                                              +0.99%   \n",
       " 91                                              +0.86%   \n",
       " 92                                              +0.63%   \n",
       " 93                                              +1.22%   \n",
       " 94                                              -1.06%   \n",
       " 95                                              -1.05%   \n",
       " 96                                              -0.92%   \n",
       " 97                                              -1.29%   \n",
       " 98                                              -1.50%   \n",
       " 99                                              -1.33%   \n",
       " 100                                             -3.67%   \n",
       " 101                                             +2.81%   \n",
       " \n",
       "                                                24 high  \\\n",
       " 0                                             $ 24,890   \n",
       " 1                                           $ 0.320842   \n",
       " 2                                             $ 628.45   \n",
       " 3                                             $ 129.59   \n",
       " 4                                               $ 2.69   \n",
       " 5                                             $ 324.06   \n",
       " 6                                           $ 0.003202   \n",
       " 7                                               $ 2.44   \n",
       " 8                                              $ 11.67   \n",
       " 9                                           $ 0.152664   \n",
       " 10   googletag.cmd.push(function() { googletag.disp...   \n",
       " 11                                          $ 0.028461   \n",
       " 12                                              $ 5.80   \n",
       " 13                                          $ 0.157360   \n",
       " 14                                          $ 0.360093   \n",
       " 15                                          $ 0.066852   \n",
       " 16                                            $ 104.66   \n",
       " 17                                            $ 24,889   \n",
       " 18                                             $ 15.18   \n",
       " 19                                            $ 23,754   \n",
       " 20                                            $ 164.89   \n",
       " 21   googletag.cmd.push(function() { googletag.disp...   \n",
       " 22                                             $ 66.55   \n",
       " 23                                              $ 5.28   \n",
       " 24                                              $ 1.01   \n",
       " 25                                              $ 1.00   \n",
       " 26                                             $ 33.81   \n",
       " 27                                          $ 0.257074   \n",
       " 28                                              $ 2.30   \n",
       " 29                                              $ 1.38   \n",
       " ..                                                 ...   \n",
       " 72                                              $ 5.63   \n",
       " 73                                          $ 0.711988   \n",
       " 74                                          $ 0.834029   \n",
       " 75                                              $ 4.33   \n",
       " 76                                          $ 0.091738   \n",
       " 77                                          $ 0.017077   \n",
       " 78                                          $ 0.008662   \n",
       " 79                                              $ 1.00   \n",
       " 80                                              $ 1.00   \n",
       " 81                                          $ 0.015929   \n",
       " 82                                             $ 16.79   \n",
       " 83                                          $ 0.440883   \n",
       " 84                                          $ 0.102937   \n",
       " 85                                              $ 2.52   \n",
       " 86                                              $ 1.36   \n",
       " 87                                          $ 0.030626   \n",
       " 88                                             $ 18.20   \n",
       " 89                                          $ 0.325854   \n",
       " 90                                              $ 8.60   \n",
       " 91                                          $ 0.004977   \n",
       " 92                                              $ 4.96   \n",
       " 93                                             $ 11.39   \n",
       " 94                                              $ 8.10   \n",
       " 95                                          $ 0.300770   \n",
       " 96                                              $ 2.96   \n",
       " 97                                              $ 1.36   \n",
       " 98                                              $ 1.94   \n",
       " 99                                          $ 0.022761   \n",
       " 100                                         $ 0.327236   \n",
       " 101                                         $ 0.591544   \n",
       " \n",
       "                                                 24 low  \\\n",
       " 0                                             $ 24,494   \n",
       " 1                                           $ 0.302806   \n",
       " 2                                             $ 621.21   \n",
       " 3                                             $ 125.00   \n",
       " 4                                               $ 2.62   \n",
       " 5                                             $ 314.83   \n",
       " 6                                           $ 0.002940   \n",
       " 7                                               $ 1.96   \n",
       " 8                                              $ 11.49   \n",
       " 9                                           $ 0.148681   \n",
       " 10   googletag.cmd.push(function() { googletag.disp...   \n",
       " 11                                          $ 0.027984   \n",
       " 12                                              $ 5.72   \n",
       " 13                                          $ 0.154070   \n",
       " 14                                          $ 0.342345   \n",
       " 15                                          $ 0.062685   \n",
       " 16                                            $ 103.00   \n",
       " 17                                            $ 24,484   \n",
       " 18                                             $ 14.99   \n",
       " 19                                            $ 23,306   \n",
       " 20                                            $ 158.85   \n",
       " 21   googletag.cmd.push(function() { googletag.disp...   \n",
       " 22                                             $ 64.34   \n",
       " 23                                              $ 5.17   \n",
       " 24                                          $ 0.998394   \n",
       " 25                                          $ 0.997923   \n",
       " 26                                             $ 33.00   \n",
       " 27                                          $ 0.243383   \n",
       " 28                                              $ 2.28   \n",
       " 29                                              $ 1.26   \n",
       " ..                                                 ...   \n",
       " 72                                              $ 5.56   \n",
       " 73                                          $ 0.701871   \n",
       " 74                                          $ 0.816425   \n",
       " 75                                              $ 4.06   \n",
       " 76                                          $ 0.090116   \n",
       " 77                                          $ 0.016606   \n",
       " 78                                          $ 0.008206   \n",
       " 79                                          $ 0.997740   \n",
       " 80                                          $ 0.997740   \n",
       " 81                                          $ 0.011053   \n",
       " 82                                             $ 16.52   \n",
       " 83                                          $ 0.426282   \n",
       " 84                                          $ 0.100338   \n",
       " 85                                              $ 2.39   \n",
       " 86                                              $ 1.35   \n",
       " 87                                          $ 0.030337   \n",
       " 88                                             $ 17.86   \n",
       " 89                                          $ 0.321595   \n",
       " 90                                              $ 8.17   \n",
       " 91                                          $ 0.004654   \n",
       " 92                                              $ 4.90   \n",
       " 93                                             $ 11.06   \n",
       " 94                                              $ 7.94   \n",
       " 95                                          $ 0.296717   \n",
       " 96                                              $ 2.92   \n",
       " 97                                              $ 1.34   \n",
       " 98                                              $ 1.89   \n",
       " 99                                          $ 0.022057   \n",
       " 100                                         $ 0.301962   \n",
       " 101                                         $ 0.568563   \n",
       " \n",
       "                                        Price Charts 7d  \\\n",
       " 0                                                  NaN   \n",
       " 1                                                  NaN   \n",
       " 2                                                  NaN   \n",
       " 3                                                  NaN   \n",
       " 4                                                  NaN   \n",
       " 5                                                  NaN   \n",
       " 6                                                  NaN   \n",
       " 7                                                  NaN   \n",
       " 8                                                  NaN   \n",
       " 9                                                  NaN   \n",
       " 10   googletag.cmd.push(function() { googletag.disp...   \n",
       " 11                                                 NaN   \n",
       " 12                                                 NaN   \n",
       " 13                                                 NaN   \n",
       " 14                                                 NaN   \n",
       " 15                                                 NaN   \n",
       " 16                                                 NaN   \n",
       " 17                                                 NaN   \n",
       " 18                                                 NaN   \n",
       " 19                                                 NaN   \n",
       " 20                                                 NaN   \n",
       " 21   googletag.cmd.push(function() { googletag.disp...   \n",
       " 22                                                 NaN   \n",
       " 23                                                 NaN   \n",
       " 24                                                 NaN   \n",
       " 25                                                 NaN   \n",
       " 26                                                 NaN   \n",
       " 27                                                 NaN   \n",
       " 28                                                 NaN   \n",
       " 29                                                 NaN   \n",
       " ..                                                 ...   \n",
       " 72                                                 NaN   \n",
       " 73                                                 NaN   \n",
       " 74                                                 NaN   \n",
       " 75                                                 NaN   \n",
       " 76                                                 NaN   \n",
       " 77                                                 NaN   \n",
       " 78                                                 NaN   \n",
       " 79                                                 NaN   \n",
       " 80                                                 NaN   \n",
       " 81                                                 NaN   \n",
       " 82                                                 NaN   \n",
       " 83                                                 NaN   \n",
       " 84                                                 NaN   \n",
       " 85                                                 NaN   \n",
       " 86                                                 NaN   \n",
       " 87                                                 NaN   \n",
       " 88                                                 NaN   \n",
       " 89                                                 NaN   \n",
       " 90                                                 NaN   \n",
       " 91                                                 NaN   \n",
       " 92                                                 NaN   \n",
       " 93                                                 NaN   \n",
       " 94                                                 NaN   \n",
       " 95                                                 NaN   \n",
       " 96                                                 NaN   \n",
       " 97                                                 NaN   \n",
       " 98                                                 NaN   \n",
       " 99                                                 NaN   \n",
       " 100                                                NaN   \n",
       " 101                                                NaN   \n",
       " \n",
       "                                              24 volume  \\\n",
       " 0                                             $ 12.17B   \n",
       " 1                                              $ 6.83B   \n",
       " 2                                              $ 5.35B   \n",
       " 3                                              $ 4.30B   \n",
       " 4                                              $ 1.69B   \n",
       " 5                                              $ 1.38B   \n",
       " 6                                              $ 1.02B   \n",
       " 7                                            $ 685.30M   \n",
       " 8                                            $ 664.60M   \n",
       " 9                                            $ 538.81M   \n",
       " 10   googletag.cmd.push(function() { googletag.disp...   \n",
       " 11                                           $ 463.71M   \n",
       " 12                                           $ 421.18M   \n",
       " 13                                           $ 350.05M   \n",
       " 14                                           $ 297.53M   \n",
       " 15                                           $ 267.42M   \n",
       " 16                                           $ 256.51M   \n",
       " 17                                           $ 235.40M   \n",
       " 18                                           $ 235.07M   \n",
       " 19                                           $ 234.47M   \n",
       " 20                                           $ 224.87M   \n",
       " 21   googletag.cmd.push(function() { googletag.disp...   \n",
       " 22                                           $ 197.85M   \n",
       " 23                                           $ 189.78M   \n",
       " 24                                           $ 181.99M   \n",
       " 25                                           $ 150.96M   \n",
       " 26                                           $ 147.43M   \n",
       " 27                                           $ 142.24M   \n",
       " 28                                           $ 134.77M   \n",
       " 29                                           $ 131.98M   \n",
       " ..                                                 ...   \n",
       " 72                                            $ 19.12M   \n",
       " 73                                            $ 18.53M   \n",
       " 74                                            $ 18.03M   \n",
       " 75                                            $ 17.56M   \n",
       " 76                                            $ 17.25M   \n",
       " 77                                            $ 17.25M   \n",
       " 78                                            $ 16.50M   \n",
       " 79                                            $ 16.38M   \n",
       " 80                                            $ 16.20M   \n",
       " 81                                            $ 15.42M   \n",
       " 82                                            $ 15.33M   \n",
       " 83                                            $ 14.32M   \n",
       " 84                                            $ 13.87M   \n",
       " 85                                            $ 13.00M   \n",
       " 86                                            $ 12.06M   \n",
       " 87                                            $ 11.62M   \n",
       " 88                                            $ 11.36M   \n",
       " 89                                            $ 11.36M   \n",
       " 90                                            $ 11.23M   \n",
       " 91                                            $ 11.15M   \n",
       " 92                                            $ 10.20M   \n",
       " 93                                            $ 10.10M   \n",
       " 94                                             $ 9.46M   \n",
       " 95                                             $ 9.45M   \n",
       " 96                                             $ 9.28M   \n",
       " 97                                             $ 8.99M   \n",
       " 98                                             $ 8.92M   \n",
       " 99                                             $ 8.91M   \n",
       " 100                                            $ 8.88M   \n",
       " 101                                            $ 8.84M   \n",
       " \n",
       "                                                # Coins  \\\n",
       " 0                                               18.58M   \n",
       " 1                                               45.42B   \n",
       " 2                                              113.98M   \n",
       " 3                                               66.08M   \n",
       " 4                                                1.01B   \n",
       " 5                                               18.45M   \n",
       " 6                                                  NaN   \n",
       " 7                                                  NaN   \n",
       " 8                                              350.00M   \n",
       " 9                                               21.86B   \n",
       " 10   googletag.cmd.push(function() { googletag.disp...   \n",
       " 11                                              66.68B   \n",
       " 12                                             109.78M   \n",
       " 13                                              25.92B   \n",
       " 14                                                 NaN   \n",
       " 15                                               6.58B   \n",
       " 16                                               9.66M   \n",
       " 17                                                 NaN   \n",
       " 18                                              70.53M   \n",
       " 19                                              30.00K   \n",
       " 20                                              16.92M   \n",
       " 21   googletag.cmd.push(function() { googletag.disp...   \n",
       " 22                                              10.76M   \n",
       " 23                                                 NaN   \n",
       " 24                                               9.18B   \n",
       " 25                                             160.17M   \n",
       " 26                                              99.01M   \n",
       " 27                                               8.99B   \n",
       " 28                                              89.40M   \n",
       " 29                                             870.50M   \n",
       " ..                                                 ...   \n",
       " 72                                              20.49M   \n",
       " 73                                              61.13M   \n",
       " 74                                             180.93M   \n",
       " 75                                                 NaN   \n",
       " 76                                               1.00B   \n",
       " 77                                                 NaN   \n",
       " 78                                                 NaN   \n",
       " 79                                             197.66M   \n",
       " 80                                             109.64M   \n",
       " 81                                               1.00B   \n",
       " 82                                              11.00M   \n",
       " 83                                              61.10M   \n",
       " 84                                             250.00M   \n",
       " 85                                                 NaN   \n",
       " 86                                                 NaN   \n",
       " 87                                                 NaN   \n",
       " 88                                                 NaN   \n",
       " 89                                             314.11M   \n",
       " 90                                              17.51M   \n",
       " 91                                                 NaN   \n",
       " 92                                              94.34M   \n",
       " 93                                               8.92M   \n",
       " 94                                                 NaN   \n",
       " 95                                             102.97M   \n",
       " 96                                              76.93M   \n",
       " 97                                               6.23M   \n",
       " 98                                                 NaN   \n",
       " 99                                               2.49B   \n",
       " 100                                             76.58M   \n",
       " 101                                            560.00M   \n",
       " \n",
       "                                             Market cap  \n",
       " 0                                            $ 462.45B  \n",
       " 1                                             $ 14.08B  \n",
       " 2                                             $ 71.50B  \n",
       " 3                                              $ 8.51B  \n",
       " 4                                              $ 2.70B  \n",
       " 5                                              $ 5.92B  \n",
       " 6                                                  NaN  \n",
       " 7                                                  NaN  \n",
       " 8                                              $ 4.07B  \n",
       " 9                                              $ 3.28B  \n",
       " 10   googletag.cmd.push(function() { googletag.disp...  \n",
       " 11                                             $ 1.89B  \n",
       " 12                                           $ 632.63M  \n",
       " 13                                             $ 4.02B  \n",
       " 14                                                 NaN  \n",
       " 15                                           $ 432.39M  \n",
       " 16                                             $ 1.01B  \n",
       " 17                                                 NaN  \n",
       " 18                                             $ 1.05B  \n",
       " 19                                           $ 702.22M  \n",
       " 20                                             $ 2.78B  \n",
       " 21   googletag.cmd.push(function() { googletag.disp...  \n",
       " 22                                           $ 715.84M  \n",
       " 23                                                 NaN  \n",
       " 24                                             $ 9.21B  \n",
       " 25                                           $ 159.90M  \n",
       " 26                                             $ 3.31B  \n",
       " 27                                             $ 2.28B  \n",
       " 28                                           $ 204.35M  \n",
       " 29                                             $ 1.20B  \n",
       " ..                                                 ...  \n",
       " 72                                           $ 114.55M  \n",
       " 73                                            $ 43.30M  \n",
       " 74                                           $ 149.05M  \n",
       " 75                                                 NaN  \n",
       " 76                                            $ 90.84M  \n",
       " 77                                                 NaN  \n",
       " 78                                                 NaN  \n",
       " 79                                           $ 197.32M  \n",
       " 80                                           $ 109.48M  \n",
       " 81                                            $ 15.92M  \n",
       " 82                                           $ 182.54M  \n",
       " 83                                            $ 26.44M  \n",
       " 84                                            $ 25.26M  \n",
       " 85                                                 NaN  \n",
       " 86                                                 NaN  \n",
       " 87                                                 NaN  \n",
       " 88                                                 NaN  \n",
       " 89                                           $ 101.94M  \n",
       " 90                                           $ 149.15M  \n",
       " 91                                                 NaN  \n",
       " 92                                           $ 467.68M  \n",
       " 93                                           $ 101.29M  \n",
       " 94                                                 NaN  \n",
       " 95                                            $ 30.60M  \n",
       " 96                                           $ 225.25M  \n",
       " 97                                             $ 8.34M  \n",
       " 98                                                 NaN  \n",
       " 99                                            $ 55.95M  \n",
       " 100                                           $ 23.52M  \n",
       " 101                                          $ 329.62M  \n",
       " \n",
       " [102 rows x 12 columns]]"
      ]
     },
     "execution_count": 62,
     "metadata": {},
     "output_type": "execute_result"
    }
   ],
   "source": [
    "cd"
   ]
  },
  {
   "cell_type": "code",
   "execution_count": 60,
   "metadata": {},
   "outputs": [],
   "source": [
    "cd2=cd[0]"
   ]
  },
  {
   "cell_type": "code",
   "execution_count": 61,
   "metadata": {},
   "outputs": [
    {
     "data": {
      "text/html": [
       "<div>\n",
       "<style scoped>\n",
       "    .dataframe tbody tr th:only-of-type {\n",
       "        vertical-align: middle;\n",
       "    }\n",
       "\n",
       "    .dataframe tbody tr th {\n",
       "        vertical-align: top;\n",
       "    }\n",
       "\n",
       "    .dataframe thead th {\n",
       "        text-align: right;\n",
       "    }\n",
       "</style>\n",
       "<table border=\"1\" class=\"dataframe\">\n",
       "  <thead>\n",
       "    <tr style=\"text-align: right;\">\n",
       "      <th></th>\n",
       "      <th>Name</th>\n",
       "      <th>Ticker</th>\n",
       "      <th>Last price</th>\n",
       "      <th>%</th>\n",
       "      <th>24 high</th>\n",
       "      <th>24 low</th>\n",
       "      <th>Price Charts 7d</th>\n",
       "      <th>24 volume</th>\n",
       "      <th># Coins</th>\n",
       "      <th>Market cap</th>\n",
       "    </tr>\n",
       "  </thead>\n",
       "  <tbody>\n",
       "    <tr>\n",
       "      <th>0</th>\n",
       "      <td>Bitcoin</td>\n",
       "      <td>BTC</td>\n",
       "      <td>$ 24,888</td>\n",
       "      <td>+0.86%</td>\n",
       "      <td>$ 24,890</td>\n",
       "      <td>$ 24,494</td>\n",
       "      <td>NaN</td>\n",
       "      <td>$ 12.17B</td>\n",
       "      <td>18.58M</td>\n",
       "      <td>$ 462.45B</td>\n",
       "    </tr>\n",
       "    <tr>\n",
       "      <th>1</th>\n",
       "      <td>Ripple</td>\n",
       "      <td>XRP</td>\n",
       "      <td>$ 0.310109</td>\n",
       "      <td>-2.51%</td>\n",
       "      <td>$ 0.320842</td>\n",
       "      <td>$ 0.302806</td>\n",
       "      <td>NaN</td>\n",
       "      <td>$ 6.83B</td>\n",
       "      <td>45.42B</td>\n",
       "      <td>$ 14.08B</td>\n",
       "    </tr>\n",
       "    <tr>\n",
       "      <th>2</th>\n",
       "      <td>Ethereum</td>\n",
       "      <td>ETH</td>\n",
       "      <td>$ 627.34</td>\n",
       "      <td>+0.16%</td>\n",
       "      <td>$ 628.45</td>\n",
       "      <td>$ 621.21</td>\n",
       "      <td>NaN</td>\n",
       "      <td>$ 5.35B</td>\n",
       "      <td>113.98M</td>\n",
       "      <td>$ 71.50B</td>\n",
       "    </tr>\n",
       "    <tr>\n",
       "      <th>3</th>\n",
       "      <td>Litecoin</td>\n",
       "      <td>LTC</td>\n",
       "      <td>$ 128.83</td>\n",
       "      <td>+1.07%</td>\n",
       "      <td>$ 129.59</td>\n",
       "      <td>$ 125.00</td>\n",
       "      <td>NaN</td>\n",
       "      <td>$ 4.30B</td>\n",
       "      <td>66.08M</td>\n",
       "      <td>$ 8.51B</td>\n",
       "    </tr>\n",
       "    <tr>\n",
       "      <th>4</th>\n",
       "      <td>Eos</td>\n",
       "      <td>EOS</td>\n",
       "      <td>$ 2.65</td>\n",
       "      <td>-0.39%</td>\n",
       "      <td>$ 2.69</td>\n",
       "      <td>$ 2.62</td>\n",
       "      <td>NaN</td>\n",
       "      <td>$ 1.69B</td>\n",
       "      <td>1.01B</td>\n",
       "      <td>$ 2.70B</td>\n",
       "    </tr>\n",
       "  </tbody>\n",
       "</table>\n",
       "</div>"
      ],
      "text/plain": [
       "       Name Ticker  Last price       %     24 high      24 low  \\\n",
       "0   Bitcoin    BTC    $ 24,888  +0.86%    $ 24,890    $ 24,494   \n",
       "1    Ripple    XRP  $ 0.310109  -2.51%  $ 0.320842  $ 0.302806   \n",
       "2  Ethereum    ETH    $ 627.34  +0.16%    $ 628.45    $ 621.21   \n",
       "3  Litecoin    LTC    $ 128.83  +1.07%    $ 129.59    $ 125.00   \n",
       "4       Eos    EOS      $ 2.65  -0.39%      $ 2.69      $ 2.62   \n",
       "\n",
       "  Price Charts 7d 24 volume  # Coins Market cap  \n",
       "0             NaN  $ 12.17B   18.58M  $ 462.45B  \n",
       "1             NaN   $ 6.83B   45.42B   $ 14.08B  \n",
       "2             NaN   $ 5.35B  113.98M   $ 71.50B  \n",
       "3             NaN   $ 4.30B   66.08M    $ 8.51B  \n",
       "4             NaN   $ 1.69B    1.01B    $ 2.70B  "
      ]
     },
     "execution_count": 61,
     "metadata": {},
     "output_type": "execute_result"
    }
   ],
   "source": [
    "df=cd2.iloc[:,2:]\n",
    "df.head()"
   ]
  },
  {
   "cell_type": "code",
   "execution_count": 64,
   "metadata": {},
   "outputs": [
    {
     "data": {
      "text/plain": [
       "(102, 10)"
      ]
     },
     "execution_count": 64,
     "metadata": {},
     "output_type": "execute_result"
    }
   ],
   "source": [
    "df.shape"
   ]
  },
  {
   "cell_type": "code",
   "execution_count": 67,
   "metadata": {},
   "outputs": [
    {
     "data": {
      "text/html": [
       "<div>\n",
       "<style scoped>\n",
       "    .dataframe tbody tr th:only-of-type {\n",
       "        vertical-align: middle;\n",
       "    }\n",
       "\n",
       "    .dataframe tbody tr th {\n",
       "        vertical-align: top;\n",
       "    }\n",
       "\n",
       "    .dataframe thead th {\n",
       "        text-align: right;\n",
       "    }\n",
       "</style>\n",
       "<table border=\"1\" class=\"dataframe\">\n",
       "  <thead>\n",
       "    <tr style=\"text-align: right;\">\n",
       "      <th></th>\n",
       "      <th>Name</th>\n",
       "      <th>Ticker</th>\n",
       "      <th>Last price</th>\n",
       "      <th>%</th>\n",
       "      <th>24 high</th>\n",
       "      <th>24 low</th>\n",
       "      <th>Price Charts 7d</th>\n",
       "      <th>24 volume</th>\n",
       "      <th># Coins</th>\n",
       "      <th>Market cap</th>\n",
       "    </tr>\n",
       "  </thead>\n",
       "  <tbody>\n",
       "    <tr>\n",
       "      <th>count</th>\n",
       "      <td>102</td>\n",
       "      <td>102</td>\n",
       "      <td>102</td>\n",
       "      <td>102</td>\n",
       "      <td>102</td>\n",
       "      <td>102</td>\n",
       "      <td>2</td>\n",
       "      <td>102</td>\n",
       "      <td>76</td>\n",
       "      <td>76</td>\n",
       "    </tr>\n",
       "    <tr>\n",
       "      <th>unique</th>\n",
       "      <td>102</td>\n",
       "      <td>102</td>\n",
       "      <td>100</td>\n",
       "      <td>86</td>\n",
       "      <td>97</td>\n",
       "      <td>101</td>\n",
       "      <td>2</td>\n",
       "      <td>99</td>\n",
       "      <td>74</td>\n",
       "      <td>76</td>\n",
       "    </tr>\n",
       "    <tr>\n",
       "      <th>top</th>\n",
       "      <td>Tokamak Network</td>\n",
       "      <td>OCEAN</td>\n",
       "      <td>$ 0.150077</td>\n",
       "      <td>+0.86%</td>\n",
       "      <td>$ 1.00</td>\n",
       "      <td>$ 0.997740</td>\n",
       "      <td>googletag.cmd.push(function() { googletag.disp...</td>\n",
       "      <td>$ 36.75M</td>\n",
       "      <td>1.00B</td>\n",
       "      <td>$ 429.63M</td>\n",
       "    </tr>\n",
       "    <tr>\n",
       "      <th>freq</th>\n",
       "      <td>1</td>\n",
       "      <td>1</td>\n",
       "      <td>2</td>\n",
       "      <td>6</td>\n",
       "      <td>4</td>\n",
       "      <td>2</td>\n",
       "      <td>1</td>\n",
       "      <td>2</td>\n",
       "      <td>2</td>\n",
       "      <td>1</td>\n",
       "    </tr>\n",
       "  </tbody>\n",
       "</table>\n",
       "</div>"
      ],
      "text/plain": [
       "                   Name Ticker  Last price       % 24 high      24 low  \\\n",
       "count               102    102         102     102     102         102   \n",
       "unique              102    102         100      86      97         101   \n",
       "top     Tokamak Network  OCEAN  $ 0.150077  +0.86%  $ 1.00  $ 0.997740   \n",
       "freq                  1      1           2       6       4           2   \n",
       "\n",
       "                                          Price Charts 7d 24 volume # Coins  \\\n",
       "count                                                   2       102      76   \n",
       "unique                                                  2        99      74   \n",
       "top     googletag.cmd.push(function() { googletag.disp...  $ 36.75M   1.00B   \n",
       "freq                                                    1         2       2   \n",
       "\n",
       "       Market cap  \n",
       "count          76  \n",
       "unique         76  \n",
       "top     $ 429.63M  \n",
       "freq            1  "
      ]
     },
     "execution_count": 67,
     "metadata": {},
     "output_type": "execute_result"
    }
   ],
   "source": [
    "df.describe()"
   ]
  },
  {
   "cell_type": "markdown",
   "metadata": {},
   "source": [
    "#### Data visulization:\n",
    "- matplotlib\n",
    "- seaborn\n",
    "##### Matplotlib:\n",
    "- matplotlib is a one of the best python library for data visulization\n",
    "- it is written by john D Hunter in 2003\n",
    "#### Different types of plots:\n",
    "- Lineplot\n",
    "- Scatterplot\n",
    "- Bar plot\n",
    "- Box plot\n",
    "- Histogram plot : 1D data visulization\n",
    "- Pie plot\n",
    "\n",
    "- how to read a image and how to display image in matplotlib\n",
    "\n",
    "- how to save the image"
   ]
  },
  {
   "cell_type": "code",
   "execution_count": 82,
   "metadata": {},
   "outputs": [],
   "source": [
    "import matplotlib.pyplot as plt\n",
    "import seaborn as sns"
   ]
  },
  {
   "cell_type": "code",
   "execution_count": 83,
   "metadata": {},
   "outputs": [],
   "source": [
    "# import the lib\n",
    "\n",
    "import pandas as pd\n",
    "import numpy as np\n",
    "import matplotlib.pyplot as plt"
   ]
  },
  {
   "cell_type": "markdown",
   "metadata": {},
   "source": [
    "- Line plot:"
   ]
  },
  {
   "cell_type": "code",
   "execution_count": 84,
   "metadata": {},
   "outputs": [
    {
     "data": {
      "image/png": "[encoded data removed]",
      "text/plain": [
       "<Figure size 432x288 with 1 Axes>"
      ]
     },
     "metadata": {
      "needs_background": "light"
     },
     "output_type": "display_data"
    }
   ],
   "source": [
    "\n",
    "x=[1,2,3,4]\n",
    "y=[1,2,3,4]\n",
    "\n",
    "plt.plot(x,y)\n",
    "plt.show()"
   ]
  },
  {
   "cell_type": "code",
   "execution_count": 85,
   "metadata": {},
   "outputs": [
    {
     "data": {
      "image/png": "[encoded data removed]",
      "text/plain": [
       "<Figure size 432x288 with 1 Axes>"
      ]
     },
     "metadata": {
      "needs_background": "light"
     },
     "output_type": "display_data"
    }
   ],
   "source": [
    "x=np.array([10,20,30,40])\n",
    "y=np.array([50,60,70,80])\n",
    "plt.plot(x,y)\n",
    "plt.show()"
   ]
  },
  {
   "cell_type": "code",
   "execution_count": null,
   "metadata": {},
   "outputs": [],
   "source": [
    "help(plt.plot)"
   ]
  },
  {
   "cell_type": "code",
   "execution_count": 86,
   "metadata": {},
   "outputs": [
    {
     "data": {
      "text/plain": [
       "[<matplotlib.lines.Line2D at 0x1d9695abac8>]"
      ]
     },
     "execution_count": 86,
     "metadata": {},
     "output_type": "execute_result"
    },
    {
     "data": {
      "image/png": "[encoded data removed]",
      "text/plain": [
       "<Figure size 432x288 with 1 Axes>"
      ]
     },
     "metadata": {
      "needs_background": "light"
     },
     "output_type": "display_data"
    }
   ],
   "source": [
    "plt.plot(x,y,color='g')"
   ]
  },
  {
   "cell_type": "code",
   "execution_count": 87,
   "metadata": {},
   "outputs": [
    {
     "data": {
      "text/plain": [
       "[<matplotlib.lines.Line2D at 0x1d969612278>]"
      ]
     },
     "execution_count": 87,
     "metadata": {},
     "output_type": "execute_result"
    },
    {
     "data": {
      "image/png": "[encoded data removed]",
      "text/plain": [
       "<Figure size 432x288 with 1 Axes>"
      ]
     },
     "metadata": {
      "needs_background": "light"
     },
     "output_type": "display_data"
    }
   ],
   "source": [
    "plt.plot(x,y,'r')"
   ]
  },
  {
   "cell_type": "code",
   "execution_count": 88,
   "metadata": {},
   "outputs": [
    {
     "data": {
      "text/plain": [
       "[<matplotlib.lines.Line2D at 0x1d96955f710>]"
      ]
     },
     "execution_count": 88,
     "metadata": {},
     "output_type": "execute_result"
    },
    {
     "data": {
      "image/png": "[encoded data removed]",
      "text/plain": [
       "<Figure size 432x288 with 1 Axes>"
      ]
     },
     "metadata": {
      "needs_background": "light"
     },
     "output_type": "display_data"
    }
   ],
   "source": [
    "plt.plot(x,y,'r-*')"
   ]
  },
  {
   "cell_type": "code",
   "execution_count": 89,
   "metadata": {},
   "outputs": [
    {
     "data": {
      "image/png": "[encoded data removed]",
      "text/plain": [
       "<Figure size 432x288 with 1 Axes>"
      ]
     },
     "metadata": {
      "needs_background": "light"
     },
     "output_type": "display_data"
    }
   ],
   "source": [
    "#Scatter plots:\n",
    "#Display the data in points\n",
    "\n",
    "x=np.array([10,20,30,40])\n",
    "y=np.array([50,60,70,80])\n",
    "plt.scatter(x,y)\n",
    "plt.show()"
   ]
  },
  {
   "cell_type": "code",
   "execution_count": 90,
   "metadata": {},
   "outputs": [
    {
     "data": {
      "image/png": "[encoded data removed]",
      "text/plain": [
       "<Figure size 432x288 with 1 Axes>"
      ]
     },
     "metadata": {
      "needs_background": "light"
     },
     "output_type": "display_data"
    }
   ],
   "source": [
    "plt.scatter(x,y,color='m',marker='*')\n",
    "plt.show()"
   ]
  },
  {
   "cell_type": "markdown",
   "metadata": {},
   "source": [
    "- subplots:\n",
    "- syntax: plt.subplots(row,column,pos)"
   ]
  },
  {
   "cell_type": "code",
   "execution_count": 91,
   "metadata": {},
   "outputs": [
    {
     "data": {
      "text/plain": [
       "[<matplotlib.lines.Line2D at 0x1d9696c6c88>]"
      ]
     },
     "execution_count": 91,
     "metadata": {},
     "output_type": "execute_result"
    },
    {
     "data": {
      "image/png": "[encoded data removed]",
      "text/plain": [
       "<Figure size 432x288 with 4 Axes>"
      ]
     },
     "metadata": {
      "needs_background": "light"
     },
     "output_type": "display_data"
    }
   ],
   "source": [
    "x=np.array([10,20,30,40])\n",
    "y=np.array([50,60,70,80])\n",
    "plt.subplot(2,2,1)  # 2 rows,2 columns and 1 position\n",
    "plt.plot(x,y,'r*')\n",
    "\n",
    "plt.subplot(2,2,2)\n",
    "plt.plot(x,y,'g--')\n",
    "\n",
    "plt.subplot(2,2,3)\n",
    "plt.plot(x,y,'b-')\n",
    "\n",
    "plt.subplot(2,2,4)\n",
    "plt.plot(x,x*y,'yo')"
   ]
  },
  {
   "cell_type": "markdown",
   "metadata": {},
   "source": [
    "Bar plot"
   ]
  },
  {
   "cell_type": "code",
   "execution_count": 93,
   "metadata": {},
   "outputs": [
    {
     "data": {
      "image/png": "[encoded data removed]",
      "text/plain": [
       "<Figure size 432x288 with 1 Axes>"
      ]
     },
     "metadata": {
      "needs_background": "light"
     },
     "output_type": "display_data"
    }
   ],
   "source": [
    "x=np.array([10,20,30,40])\n",
    "y=np.array([50,60,70,80])\n",
    "plt.bar(x,y,color='g')\n",
    "plt.show()"
   ]
  },
  {
   "cell_type": "code",
   "execution_count": 94,
   "metadata": {},
   "outputs": [
    {
     "data": {
      "image/png": "[encoded data removed]",
      "text/plain": [
       "<Figure size 432x288 with 1 Axes>"
      ]
     },
     "metadata": {},
     "output_type": "display_data"
    }
   ],
   "source": [
    "\n",
    "#Pie plot\n",
    "\n",
    "labels=['python','c','c++','java']\n",
    "size=[100,200,300,450]\n",
    "colors=['gold','yellowgreen','lightcoral','lightskyblue']\n",
    "plt.pie(size,labels=labels,colors=colors,autopct=\"%1.2f%%\")\n",
    "plt.axis('equal')\n",
    "plt.show()"
   ]
  },
  {
   "cell_type": "code",
   "execution_count": 95,
   "metadata": {},
   "outputs": [
    {
     "data": {
      "image/png": "[encoded data removed]",
      "text/plain": [
       "<Figure size 432x288 with 1 Axes>"
      ]
     },
     "metadata": {},
     "output_type": "display_data"
    }
   ],
   "source": [
    "labels=['python','c','c++','java']\n",
    "size=[100,200,300,450]\n",
    "colors=['gold','yellowgreen','lightcoral','lightskyblue']\n",
    "explode=(1,0,0,0)\n",
    "plt.pie(size,labels=labels,explode=explode,colors=colors,autopct=\"%1.2f%%\")\n",
    "plt.axis('equal')\n",
    "plt.show()"
   ]
  },
  {
   "cell_type": "code",
   "execution_count": 96,
   "metadata": {},
   "outputs": [
    {
     "data": {
      "image/png": "[encoded data removed]",
      "text/plain": [
       "<Figure size 432x288 with 1 Axes>"
      ]
     },
     "metadata": {},
     "output_type": "display_data"
    }
   ],
   "source": [
    "#save plot\n",
    "\n",
    "labels=['python','c','c++','java']\n",
    "size=[100,200,300,450]\n",
    "colors=['gold','yellowgreen','lightcoral','lightskyblue']\n",
    "explode=(1,0,0,0)\n",
    "plt.pie(size,labels=labels,explode=explode,colors=colors,autopct=\"%1.2f%%\")  #ex: 234.56\n",
    "plt.axis('equal')\n",
    "plt.savefig(\"pieplot2.jpg\") #d://folder/filename.png\n",
    "plt.show()"
   ]
  },
  {
   "cell_type": "markdown",
   "metadata": {},
   "source": [
    "- Read the image"
   ]
  },
  {
   "cell_type": "code",
   "execution_count": 99,
   "metadata": {},
   "outputs": [
    {
     "data": {
      "text/plain": [
       "array([[[ 54,  61,  53],\n",
       "        [ 54,  61,  53],\n",
       "        [ 54,  61,  53],\n",
       "        ...,\n",
       "        [138, 144, 144],\n",
       "        [138, 144, 144],\n",
       "        [138, 144, 144]],\n",
       "\n",
       "       [[ 54,  61,  53],\n",
       "        [ 54,  61,  53],\n",
       "        [ 54,  61,  53],\n",
       "        ...,\n",
       "        [139, 145, 145],\n",
       "        [139, 145, 145],\n",
       "        [139, 145, 145]],\n",
       "\n",
       "       [[ 54,  61,  53],\n",
       "        [ 54,  61,  53],\n",
       "        [ 54,  61,  53],\n",
       "        ...,\n",
       "        [139, 145, 145],\n",
       "        [139, 145, 145],\n",
       "        [139, 145, 145]],\n",
       "\n",
       "       ...,\n",
       "\n",
       "       [[120, 142, 130],\n",
       "        [120, 142, 130],\n",
       "        [120, 142, 130],\n",
       "        ...,\n",
       "        [ 82,  92,  65],\n",
       "        [ 82,  92,  65],\n",
       "        [ 82,  92,  65]],\n",
       "\n",
       "       [[117, 139, 127],\n",
       "        [117, 139, 127],\n",
       "        [118, 140, 128],\n",
       "        ...,\n",
       "        [ 82,  92,  65],\n",
       "        [ 82,  92,  65],\n",
       "        [ 82,  92,  65]],\n",
       "\n",
       "       [[114, 136, 124],\n",
       "        [115, 137, 125],\n",
       "        [118, 140, 128],\n",
       "        ...,\n",
       "        [ 82,  92,  65],\n",
       "        [ 82,  92,  65],\n",
       "        [ 82,  92,  65]]], dtype=uint8)"
      ]
     },
     "execution_count": 99,
     "metadata": {},
     "output_type": "execute_result"
    }
   ],
   "source": [
    "\n",
    "a=plt.imread(\"pexels-photo-736230.jpeg\")\n",
    "a\n"
   ]
  },
  {
   "cell_type": "code",
   "execution_count": 100,
   "metadata": {},
   "outputs": [
    {
     "data": {
      "image/png": "[encoded data removed]",
      "text/plain": [
       "<Figure size 432x288 with 1 Axes>"
      ]
     },
     "metadata": {
      "needs_background": "light"
     },
     "output_type": "display_data"
    },
    {
     "data": {
      "text/plain": [
       "<Figure size 864x576 with 0 Axes>"
      ]
     },
     "metadata": {},
     "output_type": "display_data"
    }
   ],
   "source": [
    "plt.imshow(a)\n",
    "plt.figure(figsize=(12,8))\n",
    "plt.show()"
   ]
  },
  {
   "cell_type": "code",
   "execution_count": null,
   "metadata": {},
   "outputs": [],
   "source": []
  }
 ],
 "metadata": {
  "kernelspec": {
   "display_name": "Python 3",
   "language": "python",
   "name": "python3"
  },
  "language_info": {
   "codemirror_mode": {
    "name": "ipython",
    "version": 3
   },
   "file_extension": ".py",
   "mimetype": "text/x-python",
   "name": "python",
   "nbconvert_exporter": "python",
   "pygments_lexer": "ipython3",
   "version": "3.7.3"
  }
 },
 "nbformat": 4,
 "nbformat_minor": 2
}

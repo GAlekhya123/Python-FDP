{
 "cells": [
  {
   "cell_type": "markdown",
   "metadata": {},
   "source": [
    "Comprehensions in python:\n",
    "    - comprehensions in python to provide short and easy to create new sequence such as(list,dictionary,tuple,sets)\n",
    "    * list comprehension\n",
    "    * dictionary comprehension\n",
    "    * tuple comprehension\n",
    "    * sets comprehension\n",
    "List comprehension:\n",
    "    - by using list comprehension we can create one new list from other iterables.\n",
    "    - syntax:\n",
    "            [output forloop if(condition)]  "
   ]
  },
  {
   "cell_type": "code",
   "execution_count": 69,
   "metadata": {},
   "outputs": [
    {
     "name": "stdout",
     "output_type": "stream",
     "text": [
      "[1, 2, 3, 4, 5, 6, 7, 8, 9, 10, 11, 12, 13, 14, 15, 16, 17, 18, 19, 20]\n"
     ]
    }
   ],
   "source": [
    "# 1. To generate natural number from 1 to 20 using list?\n",
    "l1=[]\n",
    "for i in range(1,21):\n",
    "    l1.append(i)\n",
    "print(l1)"
   ]
  },
  {
   "cell_type": "code",
   "execution_count": 70,
   "metadata": {},
   "outputs": [
    {
     "name": "stdout",
     "output_type": "stream",
     "text": [
      "[10, 2, 8, 14]\n"
     ]
    }
   ],
   "source": [
    "L2=[10,2,13,5,17,8,14]\n",
    "# to print even numbers from above list?\n",
    "L3=[]\n",
    "for i in L2:\n",
    "    if i%2==0:\n",
    "        L3.append(i)\n",
    "print(L3)"
   ]
  },
  {
   "cell_type": "code",
   "execution_count": 71,
   "metadata": {},
   "outputs": [
    {
     "data": {
      "text/plain": [
       "[1, 2, 3, 4, 5, 6, 7, 8, 9, 10]"
      ]
     },
     "execution_count": 71,
     "metadata": {},
     "output_type": "execute_result"
    }
   ],
   "source": [
    "#1. To print 1 to 10 natural numbers using List comprehension?\n",
    "#[output forloop if(condiotion)]\n",
    "a=[i for i in range(1,11)]\n",
    "a"
   ]
  },
  {
   "cell_type": "code",
   "execution_count": 72,
   "metadata": {},
   "outputs": [
    {
     "name": "stdout",
     "output_type": "stream",
     "text": [
      "[2, 4, 6, 8, 10, 12, 14, 16, 18, 20, 22, 24, 26, 28, 30, 32, 34, 36, 38, 40, 42, 44, 46, 48, 50, 52, 54, 56, 58, 60, 62, 64, 66, 68, 70, 72, 74, 76, 78, 80, 82, 84, 86, 88, 90, 92, 94, 96, 98, 100]\n"
     ]
    }
   ],
   "source": [
    "# 2. To print 1 to 100 even numbers using LC?\n",
    "k = [i for i in range(1,101) if i%2==0]\n",
    "print(k)"
   ]
  },
  {
   "cell_type": "code",
   "execution_count": 73,
   "metadata": {},
   "outputs": [
    {
     "name": "stdout",
     "output_type": "stream",
     "text": [
      "[1, 3, 5, 7, 9]\n"
     ]
    }
   ],
   "source": [
    "def odd(n):\n",
    "    return n%2!=0\n",
    "s = [i for i in range(1,10) if(odd(i))]\n",
    "print(s)"
   ]
  },
  {
   "cell_type": "code",
   "execution_count": 74,
   "metadata": {},
   "outputs": [
    {
     "name": "stdout",
     "output_type": "stream",
     "text": [
      "[2, 3, 5, 7, 11, 13, 17, 19, 23, 29, 31, 37, 41, 43, 47, 53, 59, 61, 67, 71, 73, 79, 83, 89, 97]\n"
     ]
    }
   ],
   "source": [
    "# To generate 1 to 100 prime numbers using LC?\n",
    "def prime(n):\n",
    "    c=0\n",
    "    for i in range(1,n+1):\n",
    "        if n%i==0:\n",
    "            c = c+1\n",
    "    if c==2:\n",
    "        return n\n",
    "prime1 = [i for i in range(1,101) if prime(i)]\n",
    "print(prime1)"
   ]
  },
  {
   "cell_type": "markdown",
   "metadata": {},
   "source": [
    "Dictionary comprehension:\n",
    "- syntax:\n",
    "        {key:value forloop if(condition)}"
   ]
  },
  {
   "cell_type": "code",
   "execution_count": 75,
   "metadata": {},
   "outputs": [
    {
     "data": {
      "text/plain": [
       "{1: 1, 2: 4, 3: 9, 4: 16, 5: 25, 6: 36, 7: 49, 8: 64, 9: 81, 10: 100}"
      ]
     },
     "execution_count": 75,
     "metadata": {},
     "output_type": "execute_result"
    }
   ],
   "source": [
    "#1.To generate squares of a numbers in between 1 to 10?\n",
    "# output:{1:1,2:4,3:9,4:16...}\n",
    "# d={}\n",
    "# for i in range(1,11):\n",
    "#     d[i]=i**2\n",
    "# print(d)\n",
    "d1={i:i**2 for i in range(1,11)}\n",
    "d1"
   ]
  },
  {
   "cell_type": "code",
   "execution_count": 76,
   "metadata": {},
   "outputs": [
    {
     "data": {
      "text/plain": [
       "{'apple': 5, 'banana': 6, 'mango': 5}"
      ]
     },
     "execution_count": 76,
     "metadata": {},
     "output_type": "execute_result"
    }
   ],
   "source": [
    "L3=['apple','banana','mango']\n",
    "# using above list to print the lenth of given word using DC?\n",
    "#output:{'apple':5,'banana':6,'mango':5}\n",
    "d2={item:len(item) for item in L3}\n",
    "d2"
   ]
  },
  {
   "cell_type": "code",
   "execution_count": 77,
   "metadata": {},
   "outputs": [
    {
     "data": {
      "text/plain": [
       "{10: 3, 20: 2, 30: 1, 40: 1, 50: 1}"
      ]
     },
     "execution_count": 77,
     "metadata": {},
     "output_type": "execute_result"
    }
   ],
   "source": [
    "L4=[10,20,10,20,30,40,10,50]\n",
    "#output:{10:3,20:2...}\n",
    "#L4.count(element)\n",
    "d3 = {i:L4.count(i) for i in L4}\n",
    "d3"
   ]
  },
  {
   "cell_type": "code",
   "execution_count": null,
   "metadata": {},
   "outputs": [],
   "source": [
    "#task1:create a dictionary of character frequencey in given string?\n",
    "'''\n",
    "input:\n",
    "s=\"python programming \"\n",
    "output:\n",
    "d={'p':2,y:1,'t':1........}\n",
    "'''\n",
    "#task2:d1={'raju':38,'ravi':45,'ramu':55,'lokesh':32}\n",
    "#output:{'raju':38,'lokesh':32} only print even values item in above dictionary?\n",
    "\n",
    "#task3: L3=['apple','banana','mango']\n",
    "# create dictionary of to convert all the words into upper case from above list?\n",
    "#task4: using LC to print multiplication table?\n",
    "#task5:using LC to print only characters in given string?\n",
    "'''\n",
    "    input: s1=\"apssdc123fghABSDD\"\n",
    "    output:['a','p','s','s','d'.........]"
   ]
  },
  {
   "cell_type": "markdown",
   "metadata": {},
   "source": [
    "Tuple comprehension:\n",
    "    - syntax:\n",
    "            tuple((output_expression forloop if conditon))"
   ]
  },
  {
   "cell_type": "code",
   "execution_count": 79,
   "metadata": {},
   "outputs": [
    {
     "data": {
      "text/plain": [
       "(1, 2, 3, 4, 5, 6, 7, 8, 9, 10)"
      ]
     },
     "execution_count": 79,
     "metadata": {},
     "output_type": "execute_result"
    }
   ],
   "source": [
    "# To generate 1 to 10 numbers using TC?\n",
    "t1=tuple((i for i in range(1,11)))\n",
    "t1"
   ]
  },
  {
   "cell_type": "markdown",
   "metadata": {},
   "source": [
    "sets comprehension:\n",
    "    - syntax:{output_expression forloop condition}"
   ]
  },
  {
   "cell_type": "code",
   "execution_count": 80,
   "metadata": {},
   "outputs": [
    {
     "data": {
      "text/plain": [
       "{10, 20, 30, 40}"
      ]
     },
     "execution_count": 80,
     "metadata": {},
     "output_type": "execute_result"
    }
   ],
   "source": [
    "\n",
    "L2=[10,20,10,40,30,30]\n",
    "#{10,20,30,40}\n",
    "s1={i for i in L2}\n",
    "s1"
   ]
  },
  {
   "cell_type": "code",
   "execution_count": 81,
   "metadata": {},
   "outputs": [
    {
     "data": {
      "text/plain": [
       "{'a', 'g', 'h', 'i', 'm', 'n', 'o', 'p', 'r', 't', 'y'}"
      ]
     },
     "execution_count": 81,
     "metadata": {},
     "output_type": "execute_result"
    }
   ],
   "source": [
    "s1=\"pythonprogramming\"\n",
    "s2={i for i in s1}\n",
    "s2"
   ]
  },
  {
   "cell_type": "markdown",
   "metadata": {},
   "source": [
    "lambda:\n",
    "    - by using 'lambda' keyword we can develop the function..\n",
    "    - it is a anynomous function in single line\n",
    "    - syntax:\n",
    "            z = lambda argumnets:expression\n",
    "            z(arguments)"
   ]
  },
  {
   "cell_type": "code",
   "execution_count": 82,
   "metadata": {},
   "outputs": [
    {
     "data": {
      "text/plain": [
       "44"
      ]
     },
     "execution_count": 82,
     "metadata": {},
     "output_type": "execute_result"
    }
   ],
   "source": [
    "# to print addition of two numbers\n",
    "a = lambda x,y:x+y\n",
    "a(10,34)"
   ]
  },
  {
   "cell_type": "code",
   "execution_count": 86,
   "metadata": {},
   "outputs": [
    {
     "data": {
      "text/plain": [
       "[1, 3, 5, 7, 9]"
      ]
     },
     "execution_count": 86,
     "metadata": {},
     "output_type": "execute_result"
    }
   ],
   "source": [
    "# to print odd numbers using lambda\n",
    "b = lambda x:x%2!=0\n",
    "l1=[i for i in range(1,10) if b(i)]\n",
    "l1\n",
    "#b(3)"
   ]
  },
  {
   "cell_type": "code",
   "execution_count": 87,
   "metadata": {},
   "outputs": [
    {
     "data": {
      "text/plain": [
       "[1.0, 1.4142135623730951, 1.7320508075688772, 2.0]"
      ]
     },
     "execution_count": 87,
     "metadata": {},
     "output_type": "execute_result"
    }
   ],
   "source": [
    "# to print squaroot of given number\n",
    "import math as m\n",
    "c = lambda x:m.sqrt(x)\n",
    "l2=[c(i) for i in range(1,5)]\n",
    "l2"
   ]
  },
  {
   "cell_type": "code",
   "execution_count": 88,
   "metadata": {},
   "outputs": [
    {
     "name": "stdout",
     "output_type": "stream",
     "text": [
      "Enter range10\n"
     ]
    },
    {
     "data": {
      "text/plain": [
       "[1.0,\n",
       " 1.4142135623730951,\n",
       " 1.7320508075688772,\n",
       " 2.0,\n",
       " 2.23606797749979,\n",
       " 2.449489742783178,\n",
       " 2.6457513110645907,\n",
       " 2.8284271247461903,\n",
       " 3.0,\n",
       " 3.1622776601683795]"
      ]
     },
     "execution_count": 88,
     "metadata": {},
     "output_type": "execute_result"
    }
   ],
   "source": [
    "n=int(input(\"Enter range\"))\n",
    "l3=[c(i) for i in range(1,n+1)]\n",
    "l3"
   ]
  },
  {
   "cell_type": "markdown",
   "metadata": {},
   "source": [
    "filter:\n",
    "    - syntax: filter(function_name,sequence)"
   ]
  },
  {
   "cell_type": "code",
   "execution_count": 89,
   "metadata": {},
   "outputs": [
    {
     "data": {
      "text/plain": [
       "(-3, -4, -6)"
      ]
     },
     "execution_count": 89,
     "metadata": {},
     "output_type": "execute_result"
    }
   ],
   "source": [
    "L5=[10,2,-3,-4,12,-6]\n",
    "# to print only negative numbers?\n",
    "def negative(n):\n",
    "    return n<0\n",
    "f1=tuple(filter(negative,L5))\n",
    "f1"
   ]
  },
  {
   "cell_type": "code",
   "execution_count": 90,
   "metadata": {},
   "outputs": [
    {
     "data": {
      "text/plain": [
       "[-3, -4, -6]"
      ]
     },
     "execution_count": 90,
     "metadata": {},
     "output_type": "execute_result"
    }
   ],
   "source": [
    "f2=list(filter(lambda n:n<0,L5))\n",
    "f2"
   ]
  },
  {
   "cell_type": "markdown",
   "metadata": {},
   "source": [
    "map:\n",
    "    - syntax:-\n",
    "            map(function_name,sequence)"
   ]
  },
  {
   "cell_type": "code",
   "execution_count": 91,
   "metadata": {},
   "outputs": [
    {
     "data": {
      "text/plain": [
       "[7, 6, 4]"
      ]
     },
     "execution_count": 91,
     "metadata": {},
     "output_type": "execute_result"
    }
   ],
   "source": [
    "\n",
    "m2 = list(map(lambda n:n+10,f2))\n",
    "m2"
   ]
  },
  {
   "cell_type": "code",
   "execution_count": 93,
   "metadata": {},
   "outputs": [
    {
     "name": "stdout",
     "output_type": "stream",
     "text": [
      "10 20 30\n",
      "10 20 30\n"
     ]
    }
   ],
   "source": [
    "a,b,c=map(int,input().split())\n",
    "print(a,b,c)"
   ]
  },
  {
   "cell_type": "code",
   "execution_count": 96,
   "metadata": {},
   "outputs": [],
   "source": [
    "s =\"123\""
   ]
  },
  {
   "cell_type": "code",
   "execution_count": 98,
   "metadata": {},
   "outputs": [
    {
     "name": "stdout",
     "output_type": "stream",
     "text": [
      "[1, 2, 3]\n"
     ]
    }
   ],
   "source": [
    "l=[]\n",
    "for i in s:\n",
    "    l.append(int(i))\n",
    "print(l)    "
   ]
  },
  {
   "cell_type": "code",
   "execution_count": 103,
   "metadata": {},
   "outputs": [
    {
     "name": "stdout",
     "output_type": "stream",
     "text": [
      "123\n",
      "<map object at 0x000002A165A40518>\n"
     ]
    }
   ],
   "source": [
    "a = (map(int,input().split()))\n",
    "print(a)"
   ]
  },
  {
   "cell_type": "code",
   "execution_count": 105,
   "metadata": {},
   "outputs": [
    {
     "name": "stdout",
     "output_type": "stream",
     "text": [
      "1 2 3 \n",
      "[1, 2, 3]\n"
     ]
    }
   ],
   "source": [
    "a = list(map(int,input().split()))\n",
    "print(a)"
   ]
  },
  {
   "cell_type": "code",
   "execution_count": 106,
   "metadata": {},
   "outputs": [
    {
     "name": "stdout",
     "output_type": "stream",
     "text": [
      "1 2 3\n",
      "(1, 2, 3)\n"
     ]
    }
   ],
   "source": [
    "a = tuple(map(int,input().split()))\n",
    "print(a)"
   ]
  },
  {
   "cell_type": "markdown",
   "metadata": {},
   "source": [
    "iterator:\n",
    "    - to fetch the one value at a time\n",
    "    - iter,next\n",
    "    -syntax:\n",
    "            variable_name = iter(iterable)\n",
    "            next(variable_name)"
   ]
  },
  {
   "cell_type": "code",
   "execution_count": 1,
   "metadata": {},
   "outputs": [
    {
     "data": {
      "text/plain": [
       "10"
      ]
     },
     "execution_count": 1,
     "metadata": {},
     "output_type": "execute_result"
    }
   ],
   "source": [
    "L1=[10,20,30,40]\n",
    "a = iter(L1)\n",
    "next(a)"
   ]
  },
  {
   "cell_type": "code",
   "execution_count": 2,
   "metadata": {},
   "outputs": [
    {
     "data": {
      "text/plain": [
       "20"
      ]
     },
     "execution_count": 2,
     "metadata": {},
     "output_type": "execute_result"
    }
   ],
   "source": [
    "next(a)"
   ]
  },
  {
   "cell_type": "code",
   "execution_count": 3,
   "metadata": {},
   "outputs": [
    {
     "data": {
      "text/plain": [
       "30"
      ]
     },
     "execution_count": 3,
     "metadata": {},
     "output_type": "execute_result"
    }
   ],
   "source": [
    "next(a)"
   ]
  },
  {
   "cell_type": "code",
   "execution_count": 4,
   "metadata": {},
   "outputs": [
    {
     "data": {
      "text/plain": [
       "40"
      ]
     },
     "execution_count": 4,
     "metadata": {},
     "output_type": "execute_result"
    }
   ],
   "source": [
    "next(a)"
   ]
  },
  {
   "cell_type": "code",
   "execution_count": 5,
   "metadata": {},
   "outputs": [
    {
     "ename": "StopIteration",
     "evalue": "",
     "output_type": "error",
     "traceback": [
      "\u001b[1;31m---------------------------------------------------------------------------\u001b[0m",
      "\u001b[1;31mStopIteration\u001b[0m                             Traceback (most recent call last)",
      "\u001b[1;32m<ipython-input-5-15841f3f11d4>\u001b[0m in \u001b[0;36m<module>\u001b[1;34m\u001b[0m\n\u001b[1;32m----> 1\u001b[1;33m \u001b[0mnext\u001b[0m\u001b[1;33m(\u001b[0m\u001b[0ma\u001b[0m\u001b[1;33m)\u001b[0m\u001b[1;33m\u001b[0m\u001b[1;33m\u001b[0m\u001b[0m\n\u001b[0m",
      "\u001b[1;31mStopIteration\u001b[0m: "
     ]
    }
   ],
   "source": [
    "next(a)"
   ]
  },
  {
   "cell_type": "markdown",
   "metadata": {},
   "source": [
    "Generator:\n",
    "    - To generate the sequence of values from function using 'yield' keyword"
   ]
  },
  {
   "cell_type": "code",
   "execution_count": 10,
   "metadata": {},
   "outputs": [
    {
     "data": {
      "text/plain": [
       "4"
      ]
     },
     "execution_count": 10,
     "metadata": {},
     "output_type": "execute_result"
    }
   ],
   "source": [
    "def natural(n):\n",
    "    while n<=5:\n",
    "        return n\n",
    "        n=n-1\n",
    "natural(4)"
   ]
  },
  {
   "cell_type": "code",
   "execution_count": 7,
   "metadata": {},
   "outputs": [
    {
     "data": {
      "text/plain": [
       "(1, 2, 3, 4, 5)"
      ]
     },
     "execution_count": 7,
     "metadata": {},
     "output_type": "execute_result"
    }
   ],
   "source": [
    "def natural(n):\n",
    "    while n<=5:\n",
    "        yield n\n",
    "        n=n+1\n",
    "tuple(natural(1))"
   ]
  },
  {
   "cell_type": "code",
   "execution_count": null,
   "metadata": {},
   "outputs": [],
   "source": []
  },
  {
   "cell_type": "code",
   "execution_count": null,
   "metadata": {},
   "outputs": [],
   "source": []
  },
  {
   "cell_type": "markdown",
   "metadata": {},
   "source": [
    "- Python is an object oriented programming language.\n",
    "- Almost everything in Python is an object, with its properties and methods.\n",
    "#### What are Python OOPs Concepts?\n",
    "- Major OOP (object-oriented programming) concepts in Python include Class, Object, Method, Inheritance, Polymorphism, Data Abstraction, and Encapsulation."
   ]
  },
  {
   "cell_type": "markdown",
   "metadata": {},
   "source": [
    "##### Class\n",
    "- A Class is like an object constructor, or a \"blueprint\" for creating objects.\n",
    "- it collection of varaibles and methods"
   ]
  },
  {
   "cell_type": "markdown",
   "metadata": {},
   "source": [
    "### self in Python class\n",
    "\n",
    "- self represents the instance of the class. By using the “self” keyword we can access the attributes and methods of the class in python. It binds the attributes with the given arguments.\n",
    "\n",
    "- The reason you need to use self. is because Python does not use the @ syntax to refer to instance attributes. Python decided to do methods in a way that makes the instance to which the method belongs be passed automatically, but not received automatically: the first parameter of methods is the instance the method is called on"
   ]
  },
  {
   "cell_type": "code",
   "execution_count": 7,
   "metadata": {},
   "outputs": [
    {
     "name": "stdout",
     "output_type": "stream",
     "text": [
      "10\n",
      "<function Person.greet at 0x000001F9733CFA60>\n"
     ]
    }
   ],
   "source": [
    "class Person:\n",
    "    \n",
    "    age = 10\n",
    "\n",
    "    def greet(self):\n",
    "        print('Hello')\n",
    "\n",
    "\n",
    "# Output: 10\n",
    "print(Person.age)\n",
    "\n",
    "# Output: <function Person.greet>\n",
    "print(Person.greet)\n",
    "\n"
   ]
  },
  {
   "cell_type": "markdown",
   "metadata": {},
   "source": [
    "Creating an Object in Python\n",
    "We saw that the class object could be used to access different attributes.\n",
    "It can also be used to create new object instances (instantiation) of that class. The procedure to create an object is similar to a function call."
   ]
  },
  {
   "cell_type": "code",
   "execution_count": 9,
   "metadata": {},
   "outputs": [
    {
     "name": "stdout",
     "output_type": "stream",
     "text": [
      "<function Person.greet at 0x000002A16597F378>\n",
      "<bound method Person.greet of <__main__.Person object at 0x000002A1659A9F98>>\n",
      "Hello\n"
     ]
    }
   ],
   "source": [
    "class Person:\n",
    "    \"This is a person class\"\n",
    "    age = 10\n",
    "\n",
    "    def greet(self):\n",
    "        print('Hello')\n",
    "\n",
    "\n",
    "# create a new object of Person class\n",
    "harry = Person()\n",
    "\n",
    "# Output: <function Person.greet>\n",
    "print(Person.greet)\n",
    "\n",
    "# Output: <bound method Person.greet of <__main__.Person object>>\n",
    "print(harry.greet)\n",
    "\n",
    "# Calling object's greet() method\n",
    "# Output: Hello\n",
    "harry.greet()"
   ]
  },
  {
   "cell_type": "markdown",
   "metadata": {},
   "source": [
    "Constructors in Python\n",
    "Class functions that begin with double underscore __ are called special functions as they have special meaning.\n",
    "\n",
    "Of one particular interest is the __init__() function. This special function gets called whenever a new object of that class is instantiated.\n",
    "\n"
   ]
  },
  {
   "cell_type": "code",
   "execution_count": 18,
   "metadata": {},
   "outputs": [
    {
     "name": "stdout",
     "output_type": "stream",
     "text": [
      "i am a constructor\n",
      "20\n"
     ]
    }
   ],
   "source": [
    "class A:\n",
    "    y = 20\n",
    "    def __init__(self):\n",
    "        print('i am a constructor')\n",
    "x = A()\n",
    "print(x.y)\n",
    "\n",
    "\n"
   ]
  },
  {
   "cell_type": "code",
   "execution_count": 19,
   "metadata": {},
   "outputs": [
    {
     "name": "stdout",
     "output_type": "stream",
     "text": [
      "i am a constructor with aruguments\n",
      "3 8\n"
     ]
    }
   ],
   "source": [
    "class A:\n",
    "    def __init__(self,a,b=20):\n",
    "        print('i am a constructor with aruguments')\n",
    "        print(a,b)\n",
    "x = A(3,8)"
   ]
  },
  {
   "cell_type": "code",
   "execution_count": 24,
   "metadata": {},
   "outputs": [
    {
     "name": "stdout",
     "output_type": "stream",
     "text": [
      "(1,) 20\n",
      "(1, 2) 37\n",
      "(1, 2, 3, 4, 5, 6) 67\n"
     ]
    }
   ],
   "source": [
    "class A:\n",
    "    def __init__(self,*a,b):\n",
    "        print(a,b)\n",
    "       # print(type(a))\n",
    "x = A(1,b=20)\n",
    "y = A(1,2,b=37)\n",
    "z = A(1,2,3,4,5,6,b=67)"
   ]
  },
  {
   "cell_type": "code",
   "execution_count": 29,
   "metadata": {},
   "outputs": [],
   "source": [
    "class A:\n",
    "    def iseven(a):\n",
    "        if a%2 == 0:\n",
    "            return True\n",
    "        return False\n",
    "#A.iseven\n",
    "#A.iseven(4)\n",
    "#x = A\n",
    "#print(x.iseven(7))"
   ]
  },
  {
   "cell_type": "code",
   "execution_count": 31,
   "metadata": {},
   "outputs": [
    {
     "name": "stdout",
     "output_type": "stream",
     "text": [
      "i am  alekhya\n"
     ]
    }
   ],
   "source": [
    "class A:\n",
    "    def __init__(self,name):\n",
    "        self.name = name\n",
    "    def display(self):\n",
    "        print('i am ',self.name)\n",
    "     \n",
    "x = A('alekhya')\n",
    "x.display()"
   ]
  },
  {
   "cell_type": "code",
   "execution_count": 33,
   "metadata": {},
   "outputs": [
    {
     "name": "stdout",
     "output_type": "stream",
     "text": [
      "i am alekhya\n"
     ]
    }
   ],
   "source": [
    "class A:\n",
    "    def details():\n",
    "        print('i am alekhya')\n",
    "A.details()\n"
   ]
  },
  {
   "cell_type": "code",
   "execution_count": 35,
   "metadata": {},
   "outputs": [
    {
     "name": "stdout",
     "output_type": "stream",
     "text": [
      "phani 2356789\n",
      "raja 3456789\n"
     ]
    }
   ],
   "source": [
    "class A:\n",
    "    def __init__(self,name,number):\n",
    "        self.name = name\n",
    "        self.number = number\n",
    "    def display(self):\n",
    "        print(self.name,self.number)\n",
    "x = A('phani','2356789')\n",
    "y = A('raja','3456789')\n",
    "x.display()\n",
    "y.display()\n",
    "#a = []\n",
    "#for i in range(0,3):\n",
    "    #a.append(A(input(),input()))\n",
    "#for i in a:\n",
    "    #i.display()\n",
    "#print(a)"
   ]
  },
  {
   "cell_type": "markdown",
   "metadata": {},
   "source": [
    "### Inheritance"
   ]
  },
  {
   "cell_type": "markdown",
   "metadata": {},
   "source": [
    "Inheritance allows us to define a class that inherits all the methods and properties from another class.\n",
    "\n",
    "Parent class is the class being inherited from, also called base class.\n",
    "\n",
    "Child class is the class that inherits from another class, also called derived class."
   ]
  },
  {
   "cell_type": "code",
   "execution_count": 41,
   "metadata": {},
   "outputs": [
    {
     "name": "stdout",
     "output_type": "stream",
     "text": [
      "alekhya\n",
      "alekhya\n"
     ]
    }
   ],
   "source": [
    "# Single Inheritance\n",
    "# class derivedclassname(baseclassname or names):\n",
    "class A:\n",
    "    def details(self):\n",
    "        self.name = 'alekhya'\n",
    "        #print(self.name)\n",
    "class B(A):\n",
    "    def display(self):\n",
    "        print(self.name)\n",
    "x = B()\n",
    "(x.details())\n",
    "(x.display())"
   ]
  },
  {
   "cell_type": "code",
   "execution_count": 50,
   "metadata": {},
   "outputs": [
    {
     "name": "stdout",
     "output_type": "stream",
     "text": [
      "i am derived class constructor\n"
     ]
    }
   ],
   "source": [
    "class A:\n",
    "    def __init__(self):\n",
    "        print('i am base class constructor')\n",
    "class B(A):\n",
    "    def __init__(self):\n",
    "        print('i am derived class constructor')\n",
    "        #super().__init__(2)\n",
    "x = B()\n"
   ]
  },
  {
   "cell_type": "code",
   "execution_count": 46,
   "metadata": {},
   "outputs": [
    {
     "name": "stdout",
     "output_type": "stream",
     "text": [
      "i am derived class constructor\n",
      "i am base class constructor\n",
      "i am from base class\n"
     ]
    }
   ],
   "source": [
    "class A:\n",
    "    def __init__(self):\n",
    "        print('i am base class constructor')\n",
    "    def display(self):\n",
    "        print('i am from base class')\n",
    "class B(A):\n",
    "    def __init__(self):\n",
    "        print('i am derived class constructor')\n",
    "        super().__init__()\n",
    "        super().display()\n",
    "x = B()"
   ]
  },
  {
   "cell_type": "code",
   "execution_count": 54,
   "metadata": {},
   "outputs": [
    {
     "name": "stdout",
     "output_type": "stream",
     "text": [
      "i am from C class\n",
      "i am from A class\n",
      "i am from A class\n"
     ]
    }
   ],
   "source": [
    "# multiple inheritance\n",
    "class A():\n",
    "    def display1():\n",
    "        print('i am from A class')\n",
    "class B():\n",
    "    def display1():\n",
    "        print('i am from B class')\n",
    "class C(A,B):\n",
    "    def display():\n",
    "        print('i am from C class')\n",
    "x = C()\n",
    "C.display()\n",
    "C.display1()\n",
    "C.display1()"
   ]
  },
  {
   "cell_type": "code",
   "execution_count": 55,
   "metadata": {},
   "outputs": [
    {
     "name": "stdout",
     "output_type": "stream",
     "text": [
      "i am from class - A\n",
      "i am from class - B\n",
      "i am from class - C\n"
     ]
    }
   ],
   "source": [
    "# multilevel inheritance\n",
    "# A->B->C...\n",
    "class A:\n",
    "    def display1():\n",
    "        print('i am from class - A')\n",
    "class B(A):\n",
    "    def display2():\n",
    "        print('i am from class - B')\n",
    "class C(B):\n",
    "    def display3():\n",
    "        print('i am from class - C')\n",
    "x = C\n",
    "x.display1()\n",
    "x.display2()\n",
    "x.display3()"
   ]
  },
  {
   "cell_type": "code",
   "execution_count": 56,
   "metadata": {},
   "outputs": [
    {
     "name": "stdout",
     "output_type": "stream",
     "text": [
      "i am from class - A\n",
      "i am from class - B\n",
      "i am from class - A\n",
      "i am from class - C\n"
     ]
    }
   ],
   "source": [
    "# Hierarchical inheritance\n",
    "# A->B,A->C....\n",
    "class A:\n",
    "    def display1():\n",
    "        print('i am from class - A')\n",
    "class B(A):\n",
    "    def display2():\n",
    "        print('i am from class - B')\n",
    "class C(A):\n",
    "    def display3():\n",
    "        print('i am from class - C')\n",
    "x = B\n",
    "x.display1()\n",
    "x.display2()\n",
    "y = C\n",
    "y.display1()\n",
    "y.display3()"
   ]
  },
  {
   "cell_type": "code",
   "execution_count": 57,
   "metadata": {},
   "outputs": [
    {
     "name": "stdout",
     "output_type": "stream",
     "text": [
      "i am from class - A\n",
      "i am from class - B\n",
      "i am from class - C\n",
      "i am from class - A\n",
      "i am from class - D\n"
     ]
    }
   ],
   "source": [
    "# hybrid inheritance\n",
    "class A:\n",
    "    def display1():\n",
    "        print('i am from class - A')\n",
    "class B(A):\n",
    "    def display2():\n",
    "        print('i am from class - B')\n",
    "class C(B):\n",
    "    def display3():\n",
    "        print('i am from class - C')\n",
    "class D(A):\n",
    "    def display4():\n",
    "        print('i am from class - D')\n",
    "x = C\n",
    "x.display1()\n",
    "x.display2()\n",
    "x.display3()\n",
    "y = D\n",
    "y.display1()\n",
    "y.display4()"
   ]
  },
  {
   "cell_type": "code",
   "execution_count": null,
   "metadata": {},
   "outputs": [],
   "source": []
  },
  {
   "cell_type": "code",
   "execution_count": null,
   "metadata": {},
   "outputs": [],
   "source": []
  },
  {
   "cell_type": "code",
   "execution_count": null,
   "metadata": {},
   "outputs": [],
   "source": []
  },
  {
   "cell_type": "code",
   "execution_count": null,
   "metadata": {},
   "outputs": [],
   "source": []
  },
  {
   "cell_type": "code",
   "execution_count": null,
   "metadata": {},
   "outputs": [],
   "source": []
  },
  {
   "cell_type": "code",
   "execution_count": null,
   "metadata": {},
   "outputs": [],
   "source": []
  },
  {
   "cell_type": "code",
   "execution_count": null,
   "metadata": {},
   "outputs": [],
   "source": []
  },
  {
   "cell_type": "code",
   "execution_count": null,
   "metadata": {},
   "outputs": [],
   "source": [
    "https://www.programiz.com/python-programming/class\n",
    "    \n",
    "https://www.w3schools.com/python/python_classes.asp\n",
    "    \n",
    "https://github.com/AP-Skill-Development-Corporation/Python-FDP3-13.07.2020--Afternoon/blob/master/23-07-2020(day10).ipynb"
   ]
  }
 ],
 "metadata": {
  "kernelspec": {
   "display_name": "Python 3",
   "language": "python",
   "name": "python3"
  },
  "language_info": {
   "codemirror_mode": {
    "name": "ipython",
    "version": 3
   },
   "file_extension": ".py",
   "mimetype": "text/x-python",
   "name": "python",
   "nbconvert_exporter": "python",
   "pygments_lexer": "ipython3",
   "version": "3.7.3"
  }
 },
 "nbformat": 4,
 "nbformat_minor": 2
}

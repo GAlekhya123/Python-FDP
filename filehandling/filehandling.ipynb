{
 "cells": [
  {
   "cell_type": "markdown",
   "metadata": {},
   "source": [
    "### Filehandling\n",
    "- File Handling\n",
    "   - What is file\n",
    "    - What is file handling\n",
    "    - File methods\n",
    "    - Different mods\n",
    "    - Use of 'with' statement\n",
    "- File\n",
    "\n",
    "- File is named location on disk used to store related information\n",
    "    - ex: .exe,.mp3,.mp4,.txt,.ipynb,.jpg,.obj,.png etc..\n",
    "- File handling\n",
    "\n",
    "- creating, reading, update and delete\n",
    "\n",
    "- create\n",
    "\n",
    "- open\n",
    "- Work\n",
    "- close\n",
    "- File methods\n",
    "\n",
    "- open()\n",
    "    - Syntax: file_obj = open('filename',mode)\n",
    "- close()\n",
    "    - Syntax: file_obj.close()\n",
    "- read()\n",
    " - Syntax: file_obj.read(size)\n",
    "- write()\n",
    "    - Syntax: file_obj.write(data)\n",
    "- readlines()\n",
    "- Different modes\n",
    "\n",
    "- open('filename',mode)\n",
    "- open('filename','r')\n",
    "- open('filename','w')\n",
    "- open('filename','a')\n",
    "- open('filename','r+')\n",
    "- open('filename','w+')\n",
    "- open('filename','a+')\n",
    "- Use of with statements\n",
    "\n",
    "- The best way to close a file by using the with statement"
   ]
  },
  {
   "cell_type": "code",
   "execution_count": 2,
   "metadata": {},
   "outputs": [
    {
     "name": "stdout",
     "output_type": "stream",
     "text": [
      "done\n"
     ]
    }
   ],
   "source": [
    "# creating a file\n",
    "file = open(\"file1.txt\",\"w\")\n",
    "data = \"Welcome to python internship\"\n",
    "file.write(data)\n",
    "print(\"done\")\n",
    "file.close()"
   ]
  },
  {
   "cell_type": "code",
   "execution_count": 6,
   "metadata": {},
   "outputs": [
    {
     "name": "stdout",
     "output_type": "stream",
     "text": [
      "hello everyone\n"
     ]
    }
   ],
   "source": [
    "# read a file\n",
    "file = open(\"file1.txt\",\"r\")\n",
    "data1 = file.read()\n",
    "print(data1)\n",
    "file.close()"
   ]
  },
  {
   "cell_type": "code",
   "execution_count": 1,
   "metadata": {},
   "outputs": [
    {
     "name": "stdout",
     "output_type": "stream",
     "text": [
      "done\n"
     ]
    }
   ],
   "source": [
    "file = open(\"file1.txt\",\"w\")\n",
    "data = \"hello everyone\"+\"\\n\"\n",
    "file.write(data)\n",
    "print(\"done\")\n",
    "file.close()"
   ]
  },
  {
   "cell_type": "code",
   "execution_count": 2,
   "metadata": {},
   "outputs": [
    {
     "name": "stdout",
     "output_type": "stream",
     "text": [
      "hello everyone\n",
      "\n"
     ]
    }
   ],
   "source": [
    "with open(\"file1.txt\",\"r\") as file:\n",
    "    data = file.read()\n",
    "    print(data)\n",
    "    "
   ]
  },
  {
   "cell_type": "code",
   "execution_count": 3,
   "metadata": {},
   "outputs": [
    {
     "name": "stdout",
     "output_type": "stream",
     "text": [
      "done\n"
     ]
    }
   ],
   "source": [
    "with open(\"file1.txt\",\"a\") as file:\n",
    "    data = \"welcome to python internship\"\n",
    "    file.write(data)\n",
    "    print(\"done\")"
   ]
  },
  {
   "cell_type": "code",
   "execution_count": 4,
   "metadata": {},
   "outputs": [
    {
     "name": "stdout",
     "output_type": "stream",
     "text": [
      "hello everyone\n",
      "welcome to python internship\n"
     ]
    }
   ],
   "source": [
    "with open(\"file1.txt\",\"r\") as file:\n",
    "    data = file.read()\n",
    "    print(data)\n",
    "    "
   ]
  },
  {
   "cell_type": "code",
   "execution_count": 68,
   "metadata": {},
   "outputs": [
    {
     "name": "stdout",
     "output_type": "stream",
     "text": [
      "Enter Somthing:inputdata\n",
      "Completed....................\n"
     ]
    }
   ],
   "source": [
    "# write() # I/P--> string\n",
    "temp = open(\"students.txt\",'w') # python <-------> File\n",
    "temp.write(input(\"Enter Somthing:\")) \n",
    "print(\"Completed\"+('.'*20))\n",
    "temp.close() # python <----X---> File"
   ]
  },
  {
   "cell_type": "code",
   "execution_count": null,
   "metadata": {},
   "outputs": [],
   "source": [
    "# Overcome Escape Sequences \n",
    "# \\ replace with \\\\\n",
    "# \\ replace with /\n",
    "# r -> raw path/raw location\n",
    "location= 'C:\\\\Users\\\\HP\\\\Desktop\\\\'\n",
    "\n",
    "location = \"C:/Users/HP/Desktop/\"\n",
    "location =r\"C:\\Users\\HP\\Desktop\""
   ]
  },
  {
   "cell_type": "code",
   "execution_count": 58,
   "metadata": {},
   "outputs": [
    {
     "name": "stdout",
     "output_type": "stream",
     "text": [
      "hello ev\n"
     ]
    }
   ],
   "source": [
    "f = open('file1.txt','r')\n",
    "data = f.read(8)\n",
    "print(data)\n",
    "f.close()"
   ]
  },
  {
   "cell_type": "markdown",
   "metadata": {},
   "source": [
    "- File objective methods\n",
    "    - seek()\n",
    "        - used to change the cursor position\n",
    "    - tell()\n",
    "        - used to know the cursor position"
   ]
  },
  {
   "cell_type": "code",
   "execution_count": 66,
   "metadata": {},
   "outputs": [
    {
     "name": "stdout",
     "output_type": "stream",
     "text": [
      "11\n",
      "12\n"
     ]
    }
   ],
   "source": [
    "f = open('file1.txt','r')\n",
    "data = f.read(11)\n",
    "print(f.tell())\n",
    "f.seek(12)\n",
    "print(f.tell())\n",
    "f.close()\n"
   ]
  },
  {
   "cell_type": "markdown",
   "metadata": {},
   "source": [
    "- Task\n",
    "    - to read the data in reverse order\n"
   ]
  },
  {
   "cell_type": "code",
   "execution_count": 5,
   "metadata": {},
   "outputs": [
    {
     "name": "stdout",
     "output_type": "stream",
     "text": [
      "pihsnretni nohtyp ot emoclew\n",
      "enoyreve olleh\n"
     ]
    }
   ],
   "source": [
    "with open(\"file1.txt\",\"r\") as file:\n",
    "    data = file.read()\n",
    "    print(data[::-1])"
   ]
  },
  {
   "cell_type": "code",
   "execution_count": 8,
   "metadata": {},
   "outputs": [
    {
     "name": "stdout",
     "output_type": "stream",
     "text": [
      "['hello everyone\\n', 'welcome to python internship']\n"
     ]
    }
   ],
   "source": [
    "with open(\"file1.txt\",\"r\") as file:\n",
    "    data = file.readlines()\n",
    "    print(data)"
   ]
  },
  {
   "cell_type": "code",
   "execution_count": 18,
   "metadata": {},
   "outputs": [
    {
     "name": "stdout",
     "output_type": "stream",
     "text": [
      "['hello', 'everyone\\n']\n",
      "2\n",
      "['welcome', 'to', 'python', 'internship']\n",
      "4\n"
     ]
    }
   ],
   "source": [
    "#split the data and find how many words present in each line\n",
    "with open(\"file1.txt\",\"r\") as file:\n",
    "    data = file.readlines()\n",
    "    for i in data:\n",
    "        #print(i)\n",
    "        words = i.split(\" \")\n",
    "        print(words)\n",
    "        print(len(words))\n",
    "        \n"
   ]
  },
  {
   "cell_type": "code",
   "execution_count": 17,
   "metadata": {},
   "outputs": [
    {
     "name": "stdout",
     "output_type": "stream",
     "text": [
      "hello\n",
      "5\n",
      "everyone\n",
      "\n",
      "9\n",
      "welcome\n",
      "7\n",
      "to\n",
      "2\n",
      "python\n",
      "6\n",
      "internship\n",
      "10\n"
     ]
    }
   ],
   "source": [
    "#find length of each word and print that word\n",
    "with open(\"file1.txt\",\"r\") as file:\n",
    "    data = file.readlines()\n",
    "    for i in data:\n",
    "        #print(i)\n",
    "        words = i.split(\" \")\n",
    "        for i in words:\n",
    "            print(i)\n",
    "            print(len(i))\n",
    "        \n"
   ]
  },
  {
   "cell_type": "code",
   "execution_count": 67,
   "metadata": {},
   "outputs": [
    {
     "data": {
      "text/plain": [
       "{'hello': 1,\n",
       " 'everyone': 1,\n",
       " 'welcome': 1,\n",
       " 'to': 1,\n",
       " 'python': 1,\n",
       " 'internship': 1}"
      ]
     },
     "execution_count": 67,
     "metadata": {},
     "output_type": "execute_result"
    }
   ],
   "source": [
    "def dictionary(filename):\n",
    "    freq_dict = {}\n",
    "    with open(filename) as f:\n",
    "        filedata = f.readlines()\n",
    "        for line in filedata:\n",
    "            words_list = line.split()\n",
    "            for word in words_list:\n",
    "                if word not in freq_dict:\n",
    "                    freq_dict[word] = 1\n",
    "                else:\n",
    "                    freq_dict[word] += 1\n",
    "    return freq_dict \n",
    "\n",
    "dictionary('file1.txt')"
   ]
  },
  {
   "cell_type": "markdown",
   "metadata": {},
   "source": [
    "- r+ ---> read the data and write the data it wont create the new file\n",
    "- w+ --->if file exists it writes the data otherwise it will create the file and read the data\n",
    "- w+ : Opens a file for both writing and reading. Overwrites the existing file if the file exists. If the file does not exist, creates a new file for reading and writing.\n",
    "- a+"
   ]
  },
  {
   "cell_type": "code",
   "execution_count": 50,
   "metadata": {},
   "outputs": [
    {
     "name": "stdout",
     "output_type": "stream",
     "text": [
      "done\n",
      "present apssdc is conducting free online workshops for engineering departments\n"
     ]
    }
   ],
   "source": [
    "file = open(\"doc.txt\",\"w+\")\n",
    "data = \"present apssdc is conducting free online workshops for engineering departments\"\n",
    "file.write(data)\n",
    "file.seek(0)# Important: return to the top of the file before reading, otherwise you'll just read an empty string\n",
    "print(\"done\")\n",
    "d = file.read()\n",
    "print(d)\n",
    "file.close()   "
   ]
  },
  {
   "cell_type": "code",
   "execution_count": 51,
   "metadata": {},
   "outputs": [
    {
     "name": "stdout",
     "output_type": "stream",
     "text": [
      "done\n",
      "present apssdc is conducting free online workshops for engineering departmentspresent apssdc is conducting free online workshops for engineering departments\n"
     ]
    }
   ],
   "source": [
    "file = open(\"doc.txt\",\"a+\")\n",
    "data = \"present apssdc is conducting free online workshops for engineering departments\"\n",
    "file.write(data)\n",
    "file.seek(0)# Important: return to the top of the file before reading, otherwise you'll just read an empty string\n",
    "print(\"done\")\n",
    "d = file.read()\n",
    "print(d)\n",
    "file.close()   "
   ]
  },
  {
   "cell_type": "code",
   "execution_count": 54,
   "metadata": {},
   "outputs": [],
   "source": [
    "#It overwrite the previous content from file with the new text. If you open file, you can see the below text in it.\n",
    "file = open(\"doc.txt\",\"r+\")\n",
    "data = \"alekhya\"\n",
    "#file.seek(100)\n",
    "file.write(data)\n",
    "#file.seek(0)# Important: return to the top of the file before reading, otherwise you'll just read an empty string\n",
    "\n",
    "file.close()   "
   ]
  },
  {
   "cell_type": "code",
   "execution_count": 55,
   "metadata": {},
   "outputs": [],
   "source": [
    "# to create contact application\n",
    "def contact(name,phonenumber,phonenumber1):\n",
    "    with open(\"sample.txt\",\"a\") as file:\n",
    "        data = file.write(name+\" \"+str(phonenumber)+\" \"+str(phonenumber1)+\"\\n\")\n",
    "        file.close()\n",
    "        return \"contact saved\""
   ]
  },
  {
   "cell_type": "code",
   "execution_count": 56,
   "metadata": {},
   "outputs": [
    {
     "data": {
      "text/plain": [
       "'contact saved'"
      ]
     },
     "execution_count": 56,
     "metadata": {},
     "output_type": "execute_result"
    }
   ],
   "source": [
    "contact(\"Alekhya\",9876543210,\"901020a3456\")"
   ]
  },
  {
   "cell_type": "code",
   "execution_count": 57,
   "metadata": {},
   "outputs": [
    {
     "data": {
      "text/plain": [
       "'contact saved'"
      ]
     },
     "execution_count": 57,
     "metadata": {},
     "output_type": "execute_result"
    }
   ],
   "source": [
    "contact(\"Narmada\",907865432123,45678902452)"
   ]
  },
  {
   "cell_type": "code",
   "execution_count": null,
   "metadata": {},
   "outputs": [],
   "source": []
  }
 ],
 "metadata": {
  "kernelspec": {
   "display_name": "Python 3",
   "language": "python",
   "name": "python3"
  },
  "language_info": {
   "codemirror_mode": {
    "name": "ipython",
    "version": 3
   },
   "file_extension": ".py",
   "mimetype": "text/x-python",
   "name": "python",
   "nbconvert_exporter": "python",
   "pygments_lexer": "ipython3",
   "version": "3.7.3"
  }
 },
 "nbformat": 4,
 "nbformat_minor": 2
}
